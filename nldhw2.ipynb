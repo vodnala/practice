{
 "cells": [
  {
   "cell_type": "markdown",
   "metadata": {},
   "source": [
    "## ME 7160: Nonlinear Dynamics and Vibration Homework 2\n",
    "\n",
    "1. Construct the phase portrait for Problem 2.1g of Nayfeh and Mook (1979) and discuss. The constants $a$ and $\\lambda$ have ranges that cause various behaviors. *Discover them all*. \n",
    "Construct the phase portrait by:\n",
    "\n",
    "    - Determining the potential function (by integrating $F(u)$) and sketching it as a contour plot for the various scenarios (hint: 3 scenarios). See notes at the end of Chapter 1. \n",
    "    - Numerically. \n",
    "\n",
    "    $$\\ddot{u}+u-\\frac{\\lambda}{a-u}=0$$\n",
    "    \n",
    "2. Construct the phase portrait and discuss the following. \n",
    "\n",
    "    $$\\ddot{x}+x+x^3=0$$\n",
    "    $$\\ddot{x}+x-x^3=0$$\n",
    "    $$\\ddot{x}-x+x^3=0$$\n",
    "    $$\\ddot{x}-x-x^3=0$$\n",
    "    $$\\ddot{x}+x^3=0$$\n",
    "\n",
    "2. Problem 1.1 in the text.\n",
    "Determine when the following set of equations are dissipative, and when they are conservative;\n",
    "    $$\\dot{x} = \\sigma(y-x)$$\n",
    "    $$\\dot{y} = \\rho x - y - x z$$\n",
    "    $$\\dot{z} = -\\beta z + x y$$\n",
    "\n",
    "3. Problem 1.2 in the text.\n",
    "Determine when the following set of equations are dissipative, and when they are conservative;  \n",
    "    $$\\dot{x} = -(y+z)$$\n",
    "    $$\\dot{y} = x + a y$$\n",
    "    $$\\dot{z} = b + (x - c) z$$\n",
    "    \n",
    "4. Problem 1.3 in the text. \n",
    "Determine when the following map is dissipative;\n",
    "    $$x_{n+1} = a_{11}x_n+a_{12}y_n$$\n",
    "    $$y_{n+1} = a_{21}x_n+a_{22}y_n$$\n",
    "    \n"
   ]
  },
  {
   "cell_type": "code",
   "execution_count": null,
   "metadata": {
    "collapsed": true
   },
   "outputs": [],
   "source": []
  }
 ],
 "metadata": {
  "kernelspec": {
   "display_name": "Python 3",
   "language": "python",
   "name": "python3"
  },
  "language_info": {
   "codemirror_mode": {
    "name": "ipython",
    "version": 3
   },
   "file_extension": ".py",
   "mimetype": "text/x-python",
   "name": "python",
   "nbconvert_exporter": "python",
   "pygments_lexer": "ipython3",
   "version": "3.4.3"
  }
 },
 "nbformat": 4,
 "nbformat_minor": 0
}
