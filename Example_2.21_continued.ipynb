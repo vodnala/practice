{
 "cells": [
  {
   "cell_type": "code",
   "execution_count": 117,
   "metadata": {
    "collapsed": false
   },
   "outputs": [],
   "source": [
    "from sympy import *\n",
    "from sympy import sqrt\n",
    "from sympy.matrices import *\n",
    "from sympy.abc import *\n",
    "init_printing()"
   ]
  },
  {
   "cell_type": "code",
   "execution_count": 118,
   "metadata": {
    "collapsed": false
   },
   "outputs": [
    {
     "data": {
      "image/png": "[encoded data removed]",
      "text/latex": [
       "$$\\hat{k}$$"
      ],
      "text/plain": [
       "\\hat{k}"
      ]
     },
     "execution_count": 118,
     "metadata": {},
     "output_type": "execute_result"
    }
   ],
   "source": [
    "khat = Symbol(\"\\hat{k}\")\n",
    "khat"
   ]
  },
  {
   "cell_type": "code",
   "execution_count": 119,
   "metadata": {
    "collapsed": false
   },
   "outputs": [],
   "source": [
    "x, y, v, w, mu, sigma, alpha, k, eta_2, eta_1, b_1, b_2 = symbols(\"x y v w mu sigma alpha k eta_2 eta_1 b_1 b_2\", real = True)"
   ]
  },
  {
   "cell_type": "markdown",
   "metadata": {},
   "source": [
    "Consider determining the center manifold in the vicinity of $k=k_1$. After shifting, the equations are"
   ]
  },
  {
   "cell_type": "code",
   "execution_count": 120,
   "metadata": {
    "collapsed": false
   },
   "outputs": [
    {
     "data": {
      "image/png": "[encoded data removed]",
      "text/latex": [
       "$$\\frac{\\sqrt{6} \\hat{k}}{6} \\sqrt{\\frac{\\sigma}{\\alpha}} - \\frac{\\sqrt{6} \\alpha}{8} \\sqrt{\\frac{\\sigma}{\\alpha}} \\left(v^{2} - 2 v w + 3 w^{2}\\right) + \\frac{3 \\alpha}{8} \\left(v^{2} w + w^{3}\\right) - v \\left(\\mu + \\frac{\\sigma}{2}\\right) + w \\left(- \\frac{\\hat{k}}{2} - \\mu + \\frac{\\sigma}{2}\\right)$$"
      ],
      "text/plain": [
       "                  ___               ___                                       \n",
       "  ___            ╱ σ      ___      ╱ σ  ⎛ 2              2⎞                   \n",
       "╲╱ 6 ⋅\\hat{k}⋅  ╱  ─    ╲╱ 6 ⋅α⋅  ╱  ─ ⋅⎝v  - 2⋅v⋅w + 3⋅w ⎠       ⎛ 2      3⎞ \n",
       "              ╲╱   α            ╲╱   α                        3⋅α⋅⎝v ⋅w + w ⎠ \n",
       "───────────────────── - ─────────────────────────────────── + ─────────────── \n",
       "          6                              8                           8        \n",
       "\n",
       "                                   \n",
       "                                   \n",
       "                                   \n",
       "    ⎛    σ⎞     ⎛  \\hat{k}       σ⎞\n",
       "- v⋅⎜μ + ─⎟ + w⋅⎜- ─────── - μ + ─⎟\n",
       "    ⎝    2⎠     ⎝     2          2⎠"
      ]
     },
     "execution_count": 120,
     "metadata": {},
     "output_type": "execute_result"
    }
   ],
   "source": [
    "vprime = khat/2*sqrt((2*sigma)/(3*alpha))-(mu+sigma/2)*v+(sigma/2-mu-khat/2)*w-3*alpha/8*sqrt((2*sigma)/(3*alpha))*(v**2-2*v*w+3*w**2)+3*alpha/8*(v**2*w+w**3)\n",
    "vprime"
   ]
  },
  {
   "cell_type": "code",
   "execution_count": 121,
   "metadata": {
    "collapsed": false
   },
   "outputs": [
    {
     "data": {
      "image/png": "[encoded data removed]",
      "text/latex": [
       "$$- \\frac{\\sqrt{6} \\hat{k}}{6} \\sqrt{\\frac{\\sigma}{\\alpha}} - \\frac{\\sqrt{6} \\alpha}{8} \\sqrt{\\frac{\\sigma}{\\alpha}} \\left(3 v^{2} - 2 v w + w^{2}\\right) - \\frac{3 \\alpha}{8} \\left(v^{3} + v w^{2}\\right) - v \\left(\\frac{\\hat{k}}{2} + \\mu + \\frac{\\sigma}{2}\\right) + w \\left(- \\mu + \\frac{\\sigma}{2}\\right)$$"
      ],
      "text/plain": [
       "                    ___               ___                                     \n",
       "    ___            ╱ σ      ___      ╱ σ  ⎛   2            2⎞                 \n",
       "  ╲╱ 6 ⋅\\hat{k}⋅  ╱  ─    ╲╱ 6 ⋅α⋅  ╱  ─ ⋅⎝3⋅v  - 2⋅v⋅w + w ⎠       ⎛ 3      2\n",
       "                ╲╱   α            ╲╱   α                        3⋅α⋅⎝v  + v⋅w \n",
       "- ───────────────────── - ─────────────────────────────────── - ──────────────\n",
       "            6                              8                           8      \n",
       "\n",
       "                                    \n",
       "                                    \n",
       "⎞                                   \n",
       "⎠     ⎛\\hat{k}       σ⎞     ⎛     σ⎞\n",
       "─ - v⋅⎜─────── + μ + ─⎟ + w⋅⎜-μ + ─⎟\n",
       "      ⎝   2          2⎠     ⎝     2⎠"
      ]
     },
     "execution_count": 121,
     "metadata": {},
     "output_type": "execute_result"
    }
   ],
   "source": [
    "wprime = -khat/2*sqrt((2*sigma)/(3*alpha))-(mu+sigma/2+khat/2)*v+(sigma/2-mu)*w-3*alpha/8*sqrt((2*sigma)/(3*alpha))*(3*v**2-2*v*w+w**2)-3*alpha/8*(v**3+v*w**2)\n",
    "wprime"
   ]
  },
  {
   "cell_type": "markdown",
   "metadata": {},
   "source": [
    "Rotating coordinates, first by substituting $v= \\eta_1 x+y$ and $w= \\eta_2 x+y$  "
   ]
  },
  {
   "cell_type": "code",
   "execution_count": 122,
   "metadata": {
    "collapsed": false
   },
   "outputs": [
    {
     "data": {
      "image/png": "[encoded data removed]",
      "text/latex": [
       "$$\\frac{\\sqrt{6} \\hat{k}}{6} \\sqrt{\\frac{\\sigma}{\\alpha}} - \\frac{\\sqrt{6} \\alpha}{8} \\sqrt{\\frac{\\sigma}{\\alpha}} \\left(\\left(\\eta_{1} x + y\\right)^{2} - 2 \\left(\\eta_{1} x + y\\right) \\left(\\eta_{2} x + y\\right) + 3 \\left(\\eta_{2} x + y\\right)^{2}\\right) + \\frac{3 \\alpha}{8} \\left(\\left(\\eta_{1} x + y\\right)^{2} \\left(\\eta_{2} x + y\\right) + \\left(\\eta_{2} x + y\\right)^{3}\\right) - \\left(\\mu + \\frac{\\sigma}{2}\\right) \\left(\\eta_{1} x + y\\right) + \\left(\\eta_{2} x + y\\right) \\left(- \\frac{\\hat{k}}{2} - \\mu + \\frac{\\sigma}{2}\\right)$$"
      ],
      "text/plain": [
       "                  ___               ___                                       \n",
       "  ___            ╱ σ      ___      ╱ σ  ⎛          2                          \n",
       "╲╱ 6 ⋅\\hat{k}⋅  ╱  ─    ╲╱ 6 ⋅α⋅  ╱  ─ ⋅⎝(η₁⋅x + y)  - 2⋅(η₁⋅x + y)⋅(η₂⋅x + y)\n",
       "              ╲╱   α            ╲╱   α                                        \n",
       "───────────────────── - ──────────────────────────────────────────────────────\n",
       "          6                                                8                  \n",
       "\n",
       "                                                                              \n",
       "               2⎞                                                             \n",
       " + 3⋅(η₂⋅x + y) ⎠       ⎛          2                        3⎞                \n",
       "                    3⋅α⋅⎝(η₁⋅x + y) ⋅(η₂⋅x + y) + (η₂⋅x + y) ⎠   ⎛    σ⎞      \n",
       "───────────────── + ────────────────────────────────────────── - ⎜μ + ─⎟⋅(η₁⋅x\n",
       "                                        8                        ⎝    2⎠      \n",
       "\n",
       "                                      \n",
       "                                      \n",
       "                                      \n",
       "                   ⎛  \\hat{k}       σ⎞\n",
       " + y) + (η₂⋅x + y)⋅⎜- ─────── - μ + ─⎟\n",
       "                   ⎝     2          2⎠"
      ]
     },
     "execution_count": 122,
     "metadata": {},
     "output_type": "execute_result"
    }
   ],
   "source": [
    "vprime_subst = vprime.subs(v,eta_1*x+y).subs(w,eta_2*x+y)\n",
    "vprime_subst"
   ]
  },
  {
   "cell_type": "code",
   "execution_count": 123,
   "metadata": {
    "collapsed": false
   },
   "outputs": [
    {
     "data": {
      "image/png": "[encoded data removed]",
      "text/latex": [
       "$$- \\frac{\\sqrt{6} \\hat{k}}{6} \\sqrt{\\frac{\\sigma}{\\alpha}} - \\frac{\\sqrt{6} \\alpha}{8} \\sqrt{\\frac{\\sigma}{\\alpha}} \\left(3 \\left(\\eta_{1} x + y\\right)^{2} - 2 \\left(\\eta_{1} x + y\\right) \\left(\\eta_{2} x + y\\right) + \\left(\\eta_{2} x + y\\right)^{2}\\right) - \\frac{3 \\alpha}{8} \\left(\\left(\\eta_{1} x + y\\right)^{3} + \\left(\\eta_{1} x + y\\right) \\left(\\eta_{2} x + y\\right)^{2}\\right) + \\left(- \\mu + \\frac{\\sigma}{2}\\right) \\left(\\eta_{2} x + y\\right) - \\left(\\eta_{1} x + y\\right) \\left(\\frac{\\hat{k}}{2} + \\mu + \\frac{\\sigma}{2}\\right)$$"
      ],
      "text/plain": [
       "                    ___               ___                                     \n",
       "    ___            ╱ σ      ___      ╱ σ  ⎛            2                      \n",
       "  ╲╱ 6 ⋅\\hat{k}⋅  ╱  ─    ╲╱ 6 ⋅α⋅  ╱  ─ ⋅⎝3⋅(η₁⋅x + y)  - 2⋅(η₁⋅x + y)⋅(η₂⋅x \n",
       "                ╲╱   α            ╲╱   α                                      \n",
       "- ───────────────────── - ────────────────────────────────────────────────────\n",
       "            6                                                8                \n",
       "\n",
       "                                                                              \n",
       "                 2⎞                                                           \n",
       "+ y) + (η₂⋅x + y) ⎠       ⎛          3                        2⎞              \n",
       "                      3⋅α⋅⎝(η₁⋅x + y)  + (η₁⋅x + y)⋅(η₂⋅x + y) ⎠   ⎛     σ⎞   \n",
       "─────────────────── - ────────────────────────────────────────── + ⎜-μ + ─⎟⋅(η\n",
       "                                          8                        ⎝     2⎠   \n",
       "\n",
       "                                       \n",
       "                                       \n",
       "                                       \n",
       "                      ⎛\\hat{k}       σ⎞\n",
       "₂⋅x + y) - (η₁⋅x + y)⋅⎜─────── + μ + ─⎟\n",
       "                      ⎝   2          2⎠"
      ]
     },
     "execution_count": 123,
     "metadata": {},
     "output_type": "execute_result"
    }
   ],
   "source": [
    "wprime_subst=wprime.subs(v,eta_1*x+y).subs(w,eta_2*x+y)\n",
    "wprime_subst"
   ]
  },
  {
   "cell_type": "markdown",
   "metadata": {},
   "source": [
    "Then rotating by premultiplying (I'm doing this a row at a time). "
   ]
  },
  {
   "cell_type": "code",
   "execution_count": 124,
   "metadata": {
    "collapsed": false
   },
   "outputs": [
    {
     "data": {
      "image/png": "[encoded data removed]",
      "text/latex": [
       "$$- \\frac{\\hat{k} \\eta_{1} x}{4 \\mu} + \\frac{\\hat{k} \\eta_{2} x}{4 \\mu} - \\frac{\\sqrt{6} \\hat{k} \\sqrt{\\frac{\\sigma}{\\alpha}}}{6 \\mu} - \\frac{3 \\alpha \\eta_{1}^{3} x^{3}}{16 \\mu} - \\frac{3 \\alpha \\eta_{1}^{2} \\eta_{2}}{16 \\mu} x^{3} - \\frac{3 \\alpha \\eta_{1}^{2} y}{4 \\mu} x^{2} - \\frac{\\sqrt{6} \\alpha \\eta_{1}^{2} x^{2}}{8 \\mu} \\sqrt{\\frac{\\sigma}{\\alpha}} - \\frac{3 \\alpha \\eta_{1} \\eta_{2}^{2}}{16 \\mu} x^{3} - \\frac{3 \\alpha \\eta_{1} \\eta_{2}}{4 \\mu} x^{2} y - \\frac{9 \\alpha \\eta_{1} x}{8 \\mu} y^{2} - \\frac{\\alpha \\eta_{1} x y}{4 \\mu} \\sqrt{6} \\sqrt{\\frac{\\sigma}{\\alpha}} - \\frac{3 \\alpha \\eta_{2}^{3} x^{3}}{16 \\mu} - \\frac{3 \\alpha \\eta_{2}^{2} y}{4 \\mu} x^{2} + \\frac{\\sqrt{6} \\alpha \\eta_{2}^{2} x^{2}}{8 \\mu} \\sqrt{\\frac{\\sigma}{\\alpha}} - \\frac{9 \\alpha \\eta_{2} x}{8 \\mu} y^{2} + \\frac{\\alpha \\eta_{2} x y}{4 \\mu} \\sqrt{6} \\sqrt{\\frac{\\sigma}{\\alpha}} - \\frac{3 \\alpha y^{3}}{4 \\mu}$$"
      ],
      "text/plain": [
       "                                                  ___                         \n",
       "                                  ___            ╱ σ                          \n",
       "                                ╲╱ 6 ⋅\\hat{k}⋅  ╱  ─          3  3         2  \n",
       "  \\hat{k}⋅η₁⋅x   \\hat{k}⋅η₂⋅x                 ╲╱   α    3⋅α⋅η₁ ⋅x    3⋅α⋅η₁ ⋅η\n",
       "- ──────────── + ──────────── - ───────────────────── - ────────── - ─────────\n",
       "      4⋅μ            4⋅μ                 6⋅μ               16⋅μ           16⋅μ\n",
       "\n",
       "                                         ___                                  \n",
       "                        ___     2  2    ╱ σ                                   \n",
       "   3         2  2     ╲╱ 6 ⋅α⋅η₁ ⋅x ⋅  ╱  ─             2  3              2   \n",
       "₂⋅x    3⋅α⋅η₁ ⋅x ⋅y                  ╲╱   α    3⋅α⋅η₁⋅η₂ ⋅x    3⋅α⋅η₁⋅η₂⋅x ⋅y \n",
       "──── - ──────────── - ────────────────────── - ───────────── - ────────────── \n",
       "           4⋅μ                 8⋅μ                  16⋅μ            4⋅μ       \n",
       "\n",
       "                                   ___                                        \n",
       "                  ___             ╱ σ                                  ___    \n",
       "            2   ╲╱ 6 ⋅α⋅η₁⋅x⋅y⋅  ╱  ─          3  3         2  2     ╲╱ 6 ⋅α⋅η\n",
       "  9⋅α⋅η₁⋅x⋅y                   ╲╱   α    3⋅α⋅η₂ ⋅x    3⋅α⋅η₂ ⋅x ⋅y            \n",
       "- ─────────── - ────────────────────── - ────────── - ──────────── + ─────────\n",
       "      8⋅μ                4⋅μ                16⋅μ          4⋅μ                 \n",
       "\n",
       "          ___                                    ___         \n",
       " 2  2    ╱ σ                    ___             ╱ σ          \n",
       "₂ ⋅x ⋅  ╱  ─              2   ╲╱ 6 ⋅α⋅η₂⋅x⋅y⋅  ╱  ─         3\n",
       "      ╲╱   α    9⋅α⋅η₂⋅x⋅y                   ╲╱   α    3⋅α⋅y \n",
       "───────────── - ─────────── + ────────────────────── - ──────\n",
       "8⋅μ                 8⋅μ                4⋅μ              4⋅μ  "
      ]
     },
     "execution_count": 124,
     "metadata": {},
     "output_type": "execute_result"
    }
   ],
   "source": [
    "x_prime = (-vprime_subst+wprime_subst)/2/mu\n",
    "x_prime.expand()"
   ]
  },
  {
   "cell_type": "markdown",
   "metadata": {},
   "source": [
    "Calculating term by term in the Jacobian matrix (A). I could have done this in a code. For future."
   ]
  },
  {
   "cell_type": "code",
   "execution_count": 125,
   "metadata": {
    "collapsed": false,
    "scrolled": true
   },
   "outputs": [],
   "source": [
    "Jxx = x_prime.expand().coeff(x).subs(x,0).subs(y,0).subs(khat,0)"
   ]
  },
  {
   "cell_type": "code",
   "execution_count": 126,
   "metadata": {
    "collapsed": false
   },
   "outputs": [],
   "source": [
    "Jxy = x_prime.expand().coeff(y).subs(x,0).subs(y,0).subs(khat,0)"
   ]
  },
  {
   "cell_type": "code",
   "execution_count": 127,
   "metadata": {
    "collapsed": false
   },
   "outputs": [],
   "source": [
    "Jxk = x_prime.expand().coeff(khat).subs(x,0).subs(y,0).subs(khat,0)"
   ]
  },
  {
   "cell_type": "code",
   "execution_count": 128,
   "metadata": {
    "collapsed": false
   },
   "outputs": [
    {
     "data": {
      "image/png": "[encoded data removed]",
      "text/latex": [
       "$$\\frac{1}{\\mu} \\left(- \\frac{\\eta_{1}}{2} \\left(- \\frac{\\sqrt{6} \\hat{k}}{6} \\sqrt{\\frac{\\sigma}{\\alpha}} - \\frac{\\sqrt{6} \\alpha}{8} \\sqrt{\\frac{\\sigma}{\\alpha}} \\left(3 \\left(\\eta_{1} x + y\\right)^{2} - 2 \\left(\\eta_{1} x + y\\right) \\left(\\eta_{2} x + y\\right) + \\left(\\eta_{2} x + y\\right)^{2}\\right) - \\frac{3 \\alpha}{8} \\left(\\left(\\eta_{1} x + y\\right)^{3} + \\left(\\eta_{1} x + y\\right) \\left(\\eta_{2} x + y\\right)^{2}\\right) + \\left(- \\mu + \\frac{\\sigma}{2}\\right) \\left(\\eta_{2} x + y\\right) - \\left(\\eta_{1} x + y\\right) \\left(\\frac{\\hat{k}}{2} + \\mu + \\frac{\\sigma}{2}\\right)\\right) + \\frac{\\eta_{2}}{2} \\left(\\frac{\\sqrt{6} \\hat{k}}{6} \\sqrt{\\frac{\\sigma}{\\alpha}} - \\frac{\\sqrt{6} \\alpha}{8} \\sqrt{\\frac{\\sigma}{\\alpha}} \\left(\\left(\\eta_{1} x + y\\right)^{2} - 2 \\left(\\eta_{1} x + y\\right) \\left(\\eta_{2} x + y\\right) + 3 \\left(\\eta_{2} x + y\\right)^{2}\\right) + \\frac{3 \\alpha}{8} \\left(\\left(\\eta_{1} x + y\\right)^{2} \\left(\\eta_{2} x + y\\right) + \\left(\\eta_{2} x + y\\right)^{3}\\right) - \\left(\\mu + \\frac{\\sigma}{2}\\right) \\left(\\eta_{1} x + y\\right) + \\left(\\eta_{2} x + y\\right) \\left(- \\frac{\\hat{k}}{2} - \\mu + \\frac{\\sigma}{2}\\right)\\right)\\right)$$"
      ],
      "text/plain": [
       "     ⎛                    ___               ___                               \n",
       "     ⎜    ___            ╱ σ      ___      ╱ σ  ⎛            2                \n",
       "     ⎜  ╲╱ 6 ⋅\\hat{k}⋅  ╱  ─    ╲╱ 6 ⋅α⋅  ╱  ─ ⋅⎝3⋅(η₁⋅x + y)  - 2⋅(η₁⋅x + y)⋅\n",
       "     ⎜                ╲╱   α            ╲╱   α                                \n",
       "  η₁⋅⎜- ───────────────────── - ──────────────────────────────────────────────\n",
       "     ⎝            6                                                8          \n",
       "- ────────────────────────────────────────────────────────────────────────────\n",
       "                                                                              \n",
       "──────────────────────────────────────────────────────────────────────────────\n",
       "                                                                              \n",
       "\n",
       "                                                                              \n",
       "                       2⎞                                                     \n",
       "(η₂⋅x + y) + (η₂⋅x + y) ⎠       ⎛          3                        2⎞        \n",
       "                            3⋅α⋅⎝(η₁⋅x + y)  + (η₁⋅x + y)⋅(η₂⋅x + y) ⎠   ⎛    \n",
       "───────────────────────── - ────────────────────────────────────────── + ⎜-μ +\n",
       "                                                8                        ⎝    \n",
       "──────────────────────────────────────────────────────────────────────────────\n",
       "                       2                                                      \n",
       "──────────────────────────────────────────────────────────────────────────────\n",
       "                                                                              \n",
       "\n",
       "                                             ⎞      ⎛                  ___    \n",
       "                                             ⎟      ⎜  ___            ╱ σ     \n",
       "                                             ⎟      ⎜╲╱ 6 ⋅\\hat{k}⋅  ╱  ─    ╲\n",
       " σ⎞                         ⎛\\hat{k}       σ⎞⎟      ⎜              ╲╱   α     \n",
       " ─⎟⋅(η₂⋅x + y) - (η₁⋅x + y)⋅⎜─────── + μ + ─⎟⎟   η₂⋅⎜───────────────────── - ─\n",
       " 2⎠                         ⎝   2          2⎠⎠      ⎝          6              \n",
       "────────────────────────────────────────────── + ─────────────────────────────\n",
       "                                                                              \n",
       "──────────────────────────────────────────────────────────────────────────────\n",
       "                                             μ                                \n",
       "\n",
       "           ___                                                                \n",
       " ___      ╱ σ  ⎛          2                                         2⎞        \n",
       "╱ 6 ⋅α⋅  ╱  ─ ⋅⎝(η₁⋅x + y)  - 2⋅(η₁⋅x + y)⋅(η₂⋅x + y) + 3⋅(η₂⋅x + y) ⎠       ⎛\n",
       "       ╲╱   α                                                            3⋅α⋅⎝\n",
       "────────────────────────────────────────────────────────────────────── + ─────\n",
       "                                  8                                           \n",
       "──────────────────────────────────────────────────────────────────────────────\n",
       "                                                                      2       \n",
       "──────────────────────────────────────────────────────────────────────────────\n",
       "                                                                              \n",
       "\n",
       "                                                                              \n",
       "                                                                              \n",
       "          2                        3⎞                                         \n",
       "(η₁⋅x + y) ⋅(η₂⋅x + y) + (η₂⋅x + y) ⎠   ⎛    σ⎞                         ⎛  \\ha\n",
       "───────────────────────────────────── - ⎜μ + ─⎟⋅(η₁⋅x + y) + (η₂⋅x + y)⋅⎜- ───\n",
       "               8                        ⎝    2⎠                         ⎝     \n",
       "──────────────────────────────────────────────────────────────────────────────\n",
       "                                                                              \n",
       "──────────────────────────────────────────────────────────────────────────────\n",
       "                                                                              \n",
       "\n",
       "             ⎞\n",
       "             ⎟\n",
       "             ⎟\n",
       "t{k}       σ⎞⎟\n",
       "──── - μ + ─⎟⎟\n",
       "2          2⎠⎠\n",
       "──────────────\n",
       "              \n",
       "──────────────\n",
       "              "
      ]
     },
     "execution_count": 128,
     "metadata": {},
     "output_type": "execute_result"
    }
   ],
   "source": [
    "y_prime = (eta_2*vprime_subst-eta_1*wprime_subst)/2/mu\n",
    "y_prime"
   ]
  },
  {
   "cell_type": "code",
   "execution_count": 129,
   "metadata": {
    "collapsed": false
   },
   "outputs": [
    {
     "data": {
      "image/png": "[encoded data removed]",
      "text/latex": [
       "$$0$$"
      ],
      "text/plain": [
       "0"
      ]
     },
     "execution_count": 129,
     "metadata": {},
     "output_type": "execute_result"
    }
   ],
   "source": [
    "Jyx = y_prime.expand().coeff(x).subs(x,0).subs(y,0).subs(khat,0)\n",
    "Jyx = Jyx.subs({eta_1: -mu+sigma/2,eta_2:mu+sigma/2}).simplify()\n",
    "Jyx"
   ]
  },
  {
   "cell_type": "code",
   "execution_count": 130,
   "metadata": {
    "collapsed": false
   },
   "outputs": [],
   "source": [
    "Jyy = y_prime.expand().coeff(y).subs(x,0).subs(y,0).subs(khat,0)"
   ]
  },
  {
   "cell_type": "code",
   "execution_count": 131,
   "metadata": {
    "collapsed": false
   },
   "outputs": [],
   "source": [
    "Jyk = y_prime.expand().coeff(khat).subs(x,0).subs(y,0).subs(khat,0)"
   ]
  },
  {
   "cell_type": "code",
   "execution_count": 132,
   "metadata": {
    "collapsed": false
   },
   "outputs": [
    {
     "data": {
      "image/png": "[encoded data removed]",
      "text/latex": [
       "$$\\left[\\begin{matrix}0 & 0 & - \\frac{\\sqrt{6} \\sqrt{\\frac{\\sigma}{\\alpha}}}{6 \\mu}\\\\0 & \\eta_{1} - \\eta_{2} & \\frac{\\sqrt{6} \\eta_{1} \\sqrt{\\frac{\\sigma}{\\alpha}}}{12 \\mu} + \\frac{\\sqrt{6} \\eta_{2} \\sqrt{\\frac{\\sigma}{\\alpha}}}{12 \\mu}\\\\0 & 0 & 0\\end{matrix}\\right]$$"
      ],
      "text/plain": [
       "⎡                                 ___           ⎤\n",
       "⎢                         ___    ╱ σ            ⎥\n",
       "⎢                      -╲╱ 6 ⋅  ╱  ─            ⎥\n",
       "⎢                             ╲╱   α            ⎥\n",
       "⎢0     0               ───────────────          ⎥\n",
       "⎢                            6⋅μ                ⎥\n",
       "⎢                                               ⎥\n",
       "⎢                         ___                ___⎥\n",
       "⎢              ___       ╱ σ      ___       ╱ σ ⎥\n",
       "⎢            ╲╱ 6 ⋅η₁⋅  ╱  ─    ╲╱ 6 ⋅η₂⋅  ╱  ─ ⎥\n",
       "⎢                     ╲╱   α             ╲╱   α ⎥\n",
       "⎢0  η₁ - η₂  ──────────────── + ────────────────⎥\n",
       "⎢                  12⋅μ               12⋅μ      ⎥\n",
       "⎢                                               ⎥\n",
       "⎣0     0                      0                 ⎦"
      ]
     },
     "execution_count": 132,
     "metadata": {},
     "output_type": "execute_result"
    }
   ],
   "source": [
    "J = Matrix([[Jxx, Jxy, Jxk],[Jyx, Jyy, Jyk],[0,0,0]])\n",
    "J"
   ]
  },
  {
   "cell_type": "code",
   "execution_count": 133,
   "metadata": {
    "collapsed": false
   },
   "outputs": [
    {
     "data": {
      "image/png": "[encoded data removed]",
      "text/latex": [
       "$$- \\frac{\\sqrt{6} \\sqrt{\\frac{\\sigma}{\\alpha}}}{24 \\mu^{2}} \\left(- \\eta_{1} - \\eta_{2} + 2\\right)$$"
      ],
      "text/plain": [
       "           ___                \n",
       "   ___    ╱ σ                 \n",
       "-╲╱ 6 ⋅  ╱  ─ ⋅(-η₁ - η₂ + 2) \n",
       "       ╲╱   α                 \n",
       "──────────────────────────────\n",
       "                2             \n",
       "            24⋅μ              "
      ]
     },
     "execution_count": 133,
     "metadata": {},
     "output_type": "execute_result"
    }
   ],
   "source": [
    "a = -(Jxk + Jyk)/(Jxy+Jyy)# Here we are assuming a vector of the form [0 a 1] and solving for a\n",
    "a.simplify().subs(eta_1-eta_2,-2*mu)"
   ]
  },
  {
   "cell_type": "markdown",
   "metadata": {
    "collapsed": true
   },
   "source": [
    "Next we apply\n",
    "$$D_{\\mathbf{v}_c}\\mathbf{h}(\\mathbf{v}_c)\\dot{\\mathbf{v}}_c = \\dot{\\mathbf{v}}_s$$\n",
    "\n",
    "Here $[x,\\,\\hat{k}]=\\mathbf{v}_c$ and $y=v_s$\n",
    "which for this example means\n",
    "\n",
    "$$D_{x}h(x,\\hat{k})x'+D_{\\hat{k}}h(x,\\hat{k})\\hat{k}' = y'$$\n",
    "where \n",
    "$$y = h(x,\\hat{k}) = b_1\\hat{k}+ b_2 x^2+\\cdots$$\n",
    "\n",
    "Since $\\hat{k}'=0$, this simplifies to\n",
    "\n",
    "$$D_{x}h(x,\\hat{k})x' = y'$$"
   ]
  },
  {
   "cell_type": "code",
   "execution_count": 134,
   "metadata": {
    "collapsed": false
   },
   "outputs": [
    {
     "data": {
      "image/png": "[encoded data removed]",
      "text/latex": [
       "$$2 b_{2} x$$"
      ],
      "text/plain": [
       "2⋅b₂⋅x"
      ]
     },
     "execution_count": 134,
     "metadata": {},
     "output_type": "execute_result"
    }
   ],
   "source": [
    "diff(b_1* khat+b_2*x**2,x)# this is y = h(x, khat)"
   ]
  },
  {
   "cell_type": "code",
   "execution_count": 135,
   "metadata": {
    "collapsed": false
   },
   "outputs": [
    {
     "data": {
      "image/png": "[encoded data removed]",
      "text/latex": [
       "$$2 b_{2} x \\left(- \\frac{3 \\hat{k}^{3} \\alpha b_{1}^{3}}{4 \\mu} - \\frac{9 \\hat{k}^{2} \\alpha b_{2}}{4 \\mu} b_{1}^{2} x^{2} - \\frac{9 \\alpha \\eta_{1} x}{8 \\mu} \\hat{k}^{2} b_{1}^{2} - \\frac{9 \\alpha \\eta_{2} x}{8 \\mu} \\hat{k}^{2} b_{1}^{2} - \\frac{9 \\hat{k} \\alpha b_{1}}{4 \\mu} b_{2}^{2} x^{4} - \\frac{9 \\hat{k} \\alpha b_{1}}{4 \\mu} b_{2} \\eta_{1} x^{3} - \\frac{9 \\hat{k} \\alpha b_{1}}{4 \\mu} b_{2} \\eta_{2} x^{3} - \\frac{3 \\hat{k} \\alpha b_{1}}{4 \\mu} \\eta_{1}^{2} x^{2} - \\frac{3 \\hat{k} \\alpha b_{1}}{4 \\mu} \\eta_{1} \\eta_{2} x^{2} - \\frac{\\hat{k} \\alpha b_{1} \\eta_{1}}{4 \\mu} \\sqrt{6} x \\sqrt{\\frac{\\sigma}{\\alpha}} - \\frac{3 \\hat{k} \\alpha b_{1}}{4 \\mu} \\eta_{2}^{2} x^{2} + \\frac{\\hat{k} \\alpha b_{1} \\eta_{2}}{4 \\mu} \\sqrt{6} x \\sqrt{\\frac{\\sigma}{\\alpha}} - \\frac{\\hat{k} \\eta_{1} x}{4 \\mu} + \\frac{\\hat{k} \\eta_{2} x}{4 \\mu} - \\frac{\\sqrt{6} \\hat{k} \\sqrt{\\frac{\\sigma}{\\alpha}}}{6 \\mu} - \\frac{3 \\alpha b_{2}^{3} x^{6}}{4 \\mu} - \\frac{9 \\alpha b_{2}^{2} \\eta_{1}}{8 \\mu} x^{5} - \\frac{9 \\alpha b_{2}^{2} \\eta_{2}}{8 \\mu} x^{5} - \\frac{3 \\alpha b_{2} \\eta_{1}^{2}}{4 \\mu} x^{4} - \\frac{3 \\alpha b_{2} \\eta_{1}}{4 \\mu} \\eta_{2} x^{4} - \\frac{\\sqrt{6} \\alpha b_{2} \\eta_{1}}{4 \\mu} x^{3} \\sqrt{\\frac{\\sigma}{\\alpha}} - \\frac{3 \\alpha b_{2} \\eta_{2}^{2}}{4 \\mu} x^{4} + \\frac{\\sqrt{6} \\alpha b_{2} \\eta_{2}}{4 \\mu} x^{3} \\sqrt{\\frac{\\sigma}{\\alpha}} - \\frac{3 \\alpha \\eta_{1}^{3} x^{3}}{16 \\mu} - \\frac{3 \\alpha \\eta_{1}^{2} \\eta_{2}}{16 \\mu} x^{3} - \\frac{\\sqrt{6} \\alpha \\eta_{1}^{2} x^{2}}{8 \\mu} \\sqrt{\\frac{\\sigma}{\\alpha}} - \\frac{3 \\alpha \\eta_{1} \\eta_{2}^{2}}{16 \\mu} x^{3} - \\frac{3 \\alpha \\eta_{2}^{3} x^{3}}{16 \\mu} + \\frac{\\sqrt{6} \\alpha \\eta_{2}^{2} x^{2}}{8 \\mu} \\sqrt{\\frac{\\sigma}{\\alpha}}\\right)$$"
      ],
      "text/plain": [
       "       ⎛                                                                      \n",
       "       ⎜                                                                      \n",
       "       ⎜           3     3            2     2     2            2     2        \n",
       "       ⎜  3⋅\\hat{k} ⋅α⋅b₁    9⋅\\hat{k} ⋅α⋅b₁ ⋅b₂⋅x    9⋅\\hat{k} ⋅α⋅b₁ ⋅η₁⋅x   \n",
       "2⋅b₂⋅x⋅⎜- ──────────────── - ────────────────────── - ───────────────────── - \n",
       "       ⎝        4⋅μ                   4⋅μ                      8⋅μ            \n",
       "\n",
       "                                                                              \n",
       "                                                                              \n",
       "         2     2                         2  4                         3       \n",
       "9⋅\\hat{k} ⋅α⋅b₁ ⋅η₂⋅x   9⋅\\hat{k}⋅α⋅b₁⋅b₂ ⋅x    9⋅\\hat{k}⋅α⋅b₁⋅b₂⋅η₁⋅x    9⋅\\h\n",
       "───────────────────── - ───────────────────── - ─────────────────────── - ────\n",
       "         8⋅μ                     4⋅μ                      4⋅μ                 \n",
       "\n",
       "                                                                              \n",
       "                                                                          ___ \n",
       "                  3                    2  2                         2   ╲╱ 6 ⋅\n",
       "at{k}⋅α⋅b₁⋅b₂⋅η₂⋅x    3⋅\\hat{k}⋅α⋅b₁⋅η₁ ⋅x    3⋅\\hat{k}⋅α⋅b₁⋅η₁⋅η₂⋅x          \n",
       "─────────────────── - ───────────────────── - ─────────────────────── - ──────\n",
       "      4⋅μ                      4⋅μ                      4⋅μ                   \n",
       "\n",
       "                      ___                                                     \n",
       "                     ╱ σ                              ___                     \n",
       "\\hat{k}⋅α⋅b₁⋅η₁⋅x⋅  ╱  ─                     2  2   ╲╱ 6 ⋅\\hat{k}⋅α⋅b₁⋅η₂⋅x⋅  \n",
       "                  ╲╱   α    3⋅\\hat{k}⋅α⋅b₁⋅η₂ ⋅x                            ╲╱\n",
       "───────────────────────── - ───────────────────── + ──────────────────────────\n",
       "        4⋅μ                          4⋅μ                          4⋅μ         \n",
       "\n",
       "  ___                                                   ___                   \n",
       " ╱ σ                                    ___            ╱ σ                    \n",
       "╱  ─                                  ╲╱ 6 ⋅\\hat{k}⋅  ╱  ─          3  6      \n",
       "   α    \\hat{k}⋅η₁⋅x   \\hat{k}⋅η₂⋅x                 ╲╱   α    3⋅α⋅b₂ ⋅x    9⋅α\n",
       "───── - ──────────── + ──────────── - ───────────────────── - ────────── - ───\n",
       "            4⋅μ            4⋅μ                 6⋅μ               4⋅μ          \n",
       "\n",
       "                                                                              \n",
       "                                                                 ___          \n",
       "   2     5         2     5            2  4                 4   ╲╱ 6 ⋅α⋅b₂⋅η₁⋅x\n",
       "⋅b₂ ⋅η₁⋅x    9⋅α⋅b₂ ⋅η₂⋅x    3⋅α⋅b₂⋅η₁ ⋅x    3⋅α⋅b₂⋅η₁⋅η₂⋅x                   \n",
       "────────── - ───────────── - ───────────── - ─────────────── - ───────────────\n",
       "  8⋅μ             8⋅μ             4⋅μ              4⋅μ                   4⋅μ  \n",
       "\n",
       "      ___                                        ___                          \n",
       "3    ╱ σ                      ___          3    ╱ σ                           \n",
       " ⋅  ╱  ─             2  4   ╲╱ 6 ⋅α⋅b₂⋅η₂⋅x ⋅  ╱  ─          3  3         2   \n",
       "  ╲╱   α    3⋅α⋅b₂⋅η₂ ⋅x                     ╲╱   α    3⋅α⋅η₁ ⋅x    3⋅α⋅η₁ ⋅η₂\n",
       "───────── - ───────────── + ──────────────────────── - ────────── - ──────────\n",
       "                 4⋅μ                  4⋅μ                 16⋅μ           16⋅μ \n",
       "\n",
       "                         ___                                                  \n",
       "        ___     2  2    ╱ σ                                   ___     2  2    \n",
       "  3   ╲╱ 6 ⋅α⋅η₁ ⋅x ⋅  ╱  ─             2  3         3  3   ╲╱ 6 ⋅α⋅η₂ ⋅x ⋅  ╱\n",
       "⋅x                   ╲╱   α    3⋅α⋅η₁⋅η₂ ⋅x    3⋅α⋅η₂ ⋅x                   ╲╱ \n",
       "─── - ────────────────────── - ───────────── - ────────── + ──────────────────\n",
       "               8⋅μ                  16⋅μ          16⋅μ               8⋅μ      \n",
       "\n",
       " ___⎞\n",
       "╱ σ ⎟\n",
       "  ─ ⎟\n",
       "  α ⎟\n",
       "────⎟\n",
       "    ⎠"
      ]
     },
     "execution_count": 135,
     "metadata": {},
     "output_type": "execute_result"
    }
   ],
   "source": [
    "lhs = diff(b_1* khat+b_2*x**2,x)*x_prime.subs(y,b_1* khat+b_2*x**2).expand()\n",
    "lhs"
   ]
  },
  {
   "cell_type": "code",
   "execution_count": 136,
   "metadata": {
    "collapsed": false,
    "scrolled": true
   },
   "outputs": [
    {
     "data": {
      "image/png": "[encoded data removed]",
      "text/latex": [
       "$$0$$"
      ],
      "text/plain": [
       "0"
      ]
     },
     "execution_count": 136,
     "metadata": {},
     "output_type": "execute_result"
    }
   ],
   "source": [
    "diff(lhs,x,x).subs(x,0).subs(khat,0)/2 #terms in x^2"
   ]
  },
  {
   "cell_type": "code",
   "execution_count": 137,
   "metadata": {
    "collapsed": false
   },
   "outputs": [
    {
     "data": {
      "image/png": "[encoded data removed]",
      "text/latex": [
       "$$0$$"
      ],
      "text/plain": [
       "0"
      ]
     },
     "execution_count": 137,
     "metadata": {},
     "output_type": "execute_result"
    }
   ],
   "source": [
    "diff(lhs,khat).subs(x,0).subs(khat,0) # terms in khat"
   ]
  },
  {
   "cell_type": "code",
   "execution_count": 138,
   "metadata": {
    "collapsed": true
   },
   "outputs": [],
   "source": [
    "hofx = b_1* khat+b_2*x**2 #should have defined and used this earlier"
   ]
  },
  {
   "cell_type": "code",
   "execution_count": 139,
   "metadata": {
    "collapsed": false
   },
   "outputs": [
    {
     "data": {
      "image/png": "[encoded data removed]",
      "text/latex": [
       "$$\\frac{3 \\hat{k}^{3} \\alpha \\eta_{1}}{8 \\mu} b_{1}^{3} + \\frac{3 \\hat{k}^{3} \\alpha \\eta_{2}}{8 \\mu} b_{1}^{3} + \\frac{9 \\alpha b_{2} \\eta_{1}}{8 \\mu} \\hat{k}^{2} b_{1}^{2} x^{2} + \\frac{9 \\alpha b_{2} \\eta_{2}}{8 \\mu} \\hat{k}^{2} b_{1}^{2} x^{2} + \\frac{3 \\hat{k}^{2} \\alpha x}{4 \\mu} b_{1}^{2} \\eta_{1}^{2} + \\frac{3 \\alpha \\eta_{1} \\eta_{2}}{4 \\mu} \\hat{k}^{2} b_{1}^{2} x + \\frac{\\sqrt{6} \\hat{k}^{2} \\alpha \\eta_{1}}{8 \\mu} b_{1}^{2} \\sqrt{\\frac{\\sigma}{\\alpha}} + \\frac{3 \\hat{k}^{2} \\alpha x}{4 \\mu} b_{1}^{2} \\eta_{2}^{2} - \\frac{\\sqrt{6} \\hat{k}^{2} \\alpha \\eta_{2}}{8 \\mu} b_{1}^{2} \\sqrt{\\frac{\\sigma}{\\alpha}} + \\frac{\\hat{k}^{2} b_{1} \\eta_{1}}{4 \\mu} - \\frac{\\hat{k}^{2} b_{1} \\eta_{2}}{4 \\mu} + \\frac{9 \\hat{k} \\alpha b_{1}}{8 \\mu} b_{2}^{2} \\eta_{1} x^{4} + \\frac{9 \\hat{k} \\alpha b_{1}}{8 \\mu} b_{2}^{2} \\eta_{2} x^{4} + \\frac{3 \\hat{k} \\alpha b_{1}}{2 \\mu} b_{2} \\eta_{1}^{2} x^{3} + \\frac{3 \\hat{k} \\alpha b_{1}}{2 \\mu} b_{2} \\eta_{1} \\eta_{2} x^{3} + \\frac{\\hat{k} \\alpha b_{1} b_{2}}{4 \\mu} \\sqrt{6} \\eta_{1} x^{2} \\sqrt{\\frac{\\sigma}{\\alpha}} + \\frac{3 \\hat{k} \\alpha b_{1}}{2 \\mu} b_{2} \\eta_{2}^{2} x^{3} - \\frac{\\hat{k} \\alpha b_{1} b_{2}}{4 \\mu} \\sqrt{6} \\eta_{2} x^{2} \\sqrt{\\frac{\\sigma}{\\alpha}} + \\frac{9 \\hat{k} \\alpha b_{1}}{16 \\mu} \\eta_{1}^{3} x^{2} + \\frac{9 \\hat{k} \\alpha b_{1}}{16 \\mu} \\eta_{1}^{2} \\eta_{2} x^{2} + \\frac{\\hat{k} \\alpha b_{1} x}{4 \\mu} \\sqrt{6} \\eta_{1}^{2} \\sqrt{\\frac{\\sigma}{\\alpha}} + \\frac{9 \\hat{k} \\alpha b_{1}}{16 \\mu} \\eta_{1} \\eta_{2}^{2} x^{2} + \\frac{9 \\hat{k} \\alpha b_{1}}{16 \\mu} \\eta_{2}^{3} x^{2} - \\frac{\\hat{k} \\alpha b_{1} x}{4 \\mu} \\sqrt{6} \\eta_{2}^{2} \\sqrt{\\frac{\\sigma}{\\alpha}} + \\hat{k} b_{1} \\eta_{1} - \\hat{k} b_{1} \\eta_{2} + \\frac{\\hat{k} b_{2} \\eta_{1} x^{2}}{4 \\mu} - \\frac{\\hat{k} b_{2} \\eta_{2} x^{2}}{4 \\mu} + \\frac{\\hat{k} \\eta_{1}^{2} x}{4 \\mu} + \\frac{\\sqrt{6} \\hat{k} \\eta_{1} \\sqrt{\\frac{\\sigma}{\\alpha}}}{12 \\mu} - \\frac{\\hat{k} \\eta_{2}^{2} x}{4 \\mu} + \\frac{\\sqrt{6} \\hat{k} \\eta_{2} \\sqrt{\\frac{\\sigma}{\\alpha}}}{12 \\mu} + \\frac{3 \\alpha b_{2}^{3} \\eta_{1}}{8 \\mu} x^{6} + \\frac{3 \\alpha b_{2}^{3} \\eta_{2}}{8 \\mu} x^{6} + \\frac{3 \\alpha b_{2}^{2} \\eta_{1}^{2}}{4 \\mu} x^{5} + \\frac{3 \\alpha \\eta_{1} \\eta_{2}}{4 \\mu} b_{2}^{2} x^{5} + \\frac{\\sqrt{6} \\alpha b_{2}^{2} \\eta_{1}}{8 \\mu} x^{4} \\sqrt{\\frac{\\sigma}{\\alpha}} + \\frac{3 \\alpha b_{2}^{2} \\eta_{2}^{2}}{4 \\mu} x^{5} - \\frac{\\sqrt{6} \\alpha b_{2}^{2} \\eta_{2}}{8 \\mu} x^{4} \\sqrt{\\frac{\\sigma}{\\alpha}} + \\frac{9 \\alpha b_{2} \\eta_{1}^{3}}{16 \\mu} x^{4} + \\frac{9 \\alpha b_{2} \\eta_{2}}{16 \\mu} \\eta_{1}^{2} x^{4} + \\frac{\\sqrt{6} \\alpha b_{2} \\eta_{1}^{2}}{4 \\mu} x^{3} \\sqrt{\\frac{\\sigma}{\\alpha}} + \\frac{9 \\alpha b_{2} \\eta_{1}}{16 \\mu} \\eta_{2}^{2} x^{4} + \\frac{9 \\alpha b_{2} \\eta_{2}^{3}}{16 \\mu} x^{4} - \\frac{\\sqrt{6} \\alpha b_{2} \\eta_{2}^{2}}{4 \\mu} x^{3} \\sqrt{\\frac{\\sigma}{\\alpha}} + \\frac{3 \\alpha \\eta_{1}^{4} x^{3}}{16 \\mu} + \\frac{3 \\sqrt{6} \\alpha \\eta_{1}^{3}}{16 \\mu} x^{2} \\sqrt{\\frac{\\sigma}{\\alpha}} + \\frac{3 \\alpha \\eta_{1}^{2} \\eta_{2}^{2}}{8 \\mu} x^{3} - \\frac{3 \\sqrt{6} \\alpha \\eta_{2}}{16 \\mu} \\eta_{1}^{2} x^{2} \\sqrt{\\frac{\\sigma}{\\alpha}} + \\frac{3 \\sqrt{6} \\alpha \\eta_{1}}{16 \\mu} \\eta_{2}^{2} x^{2} \\sqrt{\\frac{\\sigma}{\\alpha}} + \\frac{3 \\alpha \\eta_{2}^{4} x^{3}}{16 \\mu} - \\frac{3 \\sqrt{6} \\alpha \\eta_{2}^{3}}{16 \\mu} x^{2} \\sqrt{\\frac{\\sigma}{\\alpha}} + b_{2} \\eta_{1} x^{2} - b_{2} \\eta_{2} x^{2} + \\frac{\\eta_{1}^{2} x}{2} + \\frac{\\eta_{1}^{2} \\sigma x}{4 \\mu} - \\frac{\\eta_{1} \\eta_{2} \\sigma x}{2 \\mu} - \\frac{\\eta_{2}^{2} x}{2} + \\frac{\\eta_{2}^{2} \\sigma x}{4 \\mu}$$"
      ],
      "text/plain": [
       "                                                                              \n",
       "                                                                              \n",
       "         3     3               3     3               2     2        2         \n",
       "3⋅\\hat{k} ⋅α⋅b₁ ⋅η₁   3⋅\\hat{k} ⋅α⋅b₁ ⋅η₂   9⋅\\hat{k} ⋅α⋅b₁ ⋅b₂⋅η₁⋅x    9⋅\\hat\n",
       "─────────────────── + ─────────────────── + ───────────────────────── + ──────\n",
       "        8⋅μ                   8⋅μ                      8⋅μ                    \n",
       "\n",
       "                                                                              \n",
       "                                                                            __\n",
       "   2     2        2            2     2   2              2     2           ╲╱ 6\n",
       "{k} ⋅α⋅b₁ ⋅b₂⋅η₂⋅x    3⋅\\hat{k} ⋅α⋅b₁ ⋅η₁ ⋅x   3⋅\\hat{k} ⋅α⋅b₁ ⋅η₁⋅η₂⋅x       \n",
       "─────────────────── + ────────────────────── + ──────────────────────── + ────\n",
       "     8⋅μ                       4⋅μ                       4⋅μ                  \n",
       "\n",
       "                        ___                                                   \n",
       "_        2     2       ╱ σ                               ___        2     2   \n",
       " ⋅\\hat{k} ⋅α⋅b₁ ⋅η₁⋅  ╱  ─             2     2   2     ╲╱ 6 ⋅\\hat{k} ⋅α⋅b₁ ⋅η₂\n",
       "                    ╲╱   α    3⋅\\hat{k} ⋅α⋅b₁ ⋅η₂ ⋅x                          \n",
       "─────────────────────────── + ────────────────────── - ───────────────────────\n",
       "          8⋅μ                          4⋅μ                           8⋅μ      \n",
       "\n",
       "     ___                                                                      \n",
       "    ╱ σ                                                                       \n",
       "⋅  ╱  ─           2                2                          2     4         \n",
       " ╲╱   α    \\hat{k} ⋅b₁⋅η₁   \\hat{k} ⋅b₁⋅η₂   9⋅\\hat{k}⋅α⋅b₁⋅b₂ ⋅η₁⋅x    9⋅\\hat\n",
       "──────── + ────────────── - ────────────── + ──────────────────────── + ──────\n",
       "                4⋅μ              4⋅μ                   8⋅μ                    \n",
       "\n",
       "                                                                              \n",
       "                                                                              \n",
       "           2     4                       2  3                            3   ╲\n",
       "{k}⋅α⋅b₁⋅b₂ ⋅η₂⋅x    3⋅\\hat{k}⋅α⋅b₁⋅b₂⋅η₁ ⋅x    3⋅\\hat{k}⋅α⋅b₁⋅b₂⋅η₁⋅η₂⋅x     \n",
       "────────────────── + ──────────────────────── + ────────────────────────── + ─\n",
       "    8⋅μ                        2⋅μ                         2⋅μ                \n",
       "\n",
       "                               ___                                            \n",
       " ___                     2    ╱ σ                                 ___         \n",
       "╱ 6 ⋅\\hat{k}⋅α⋅b₁⋅b₂⋅η₁⋅x ⋅  ╱  ─                        2  3   ╲╱ 6 ⋅\\hat{k}⋅\n",
       "                           ╲╱   α    3⋅\\hat{k}⋅α⋅b₁⋅b₂⋅η₂ ⋅x                  \n",
       "────────────────────────────────── + ──────────────────────── - ──────────────\n",
       "               4⋅μ                             2⋅μ                            \n",
       "\n",
       "                  ___                                                         \n",
       "            2    ╱ σ                                                         _\n",
       "α⋅b₁⋅b₂⋅η₂⋅x ⋅  ╱  ─                     3  2                    2     2   ╲╱ \n",
       "              ╲╱   α    9⋅\\hat{k}⋅α⋅b₁⋅η₁ ⋅x    9⋅\\hat{k}⋅α⋅b₁⋅η₁ ⋅η₂⋅x       \n",
       "───────────────────── + ───────────────────── + ──────────────────────── + ───\n",
       "  4⋅μ                            16⋅μ                     16⋅μ                \n",
       "\n",
       "                          ___                                                 \n",
       "__                2      ╱ σ                                                  \n",
       "6 ⋅\\hat{k}⋅α⋅b₁⋅η₁ ⋅x⋅  ╱  ─                        2  2                    3 \n",
       "                      ╲╱   α    9⋅\\hat{k}⋅α⋅b₁⋅η₁⋅η₂ ⋅x    9⋅\\hat{k}⋅α⋅b₁⋅η₂ ⋅\n",
       "───────────────────────────── + ──────────────────────── + ───────────────────\n",
       "           4⋅μ                            16⋅μ                      16⋅μ      \n",
       "\n",
       "                                  ___                                         \n",
       "       ___                2      ╱ σ                                          \n",
       " 2   ╲╱ 6 ⋅\\hat{k}⋅α⋅b₁⋅η₂ ⋅x⋅  ╱  ─                                          \n",
       "x                             ╲╱   α                                    \\hat{k\n",
       "── - ──────────────────────────────── + \\hat{k}⋅b₁⋅η₁ - \\hat{k}⋅b₁⋅η₂ + ──────\n",
       "                   4⋅μ                                                        \n",
       "\n",
       "                                                                     ___      \n",
       "                                                  ___               ╱ σ       \n",
       "         2                  2             2     ╲╱ 6 ⋅\\hat{k}⋅η₁⋅  ╱  ─       \n",
       "}⋅b₂⋅η₁⋅x    \\hat{k}⋅b₂⋅η₂⋅x    \\hat{k}⋅η₁ ⋅x                    ╲╱   α    \\ha\n",
       "────────── - ──────────────── + ───────────── + ──────────────────────── - ───\n",
       "4⋅μ                4⋅μ               4⋅μ                  12⋅μ                \n",
       "\n",
       "                                  ___                                         \n",
       "               ___               ╱ σ                                          \n",
       "       2     ╲╱ 6 ⋅\\hat{k}⋅η₂⋅  ╱  ─          3     6         3     6         \n",
       "t{k}⋅η₂ ⋅x                    ╲╱   α    3⋅α⋅b₂ ⋅η₁⋅x    3⋅α⋅b₂ ⋅η₂⋅x    3⋅α⋅b₂\n",
       "────────── + ──────────────────────── + ───────────── + ───────────── + ──────\n",
       "  4⋅μ                  12⋅μ                  8⋅μ             8⋅μ             4\n",
       "\n",
       "                                                    ___                       \n",
       "                                ___     2     4    ╱ σ                       _\n",
       "2   2  5         2        5   ╲╱ 6 ⋅α⋅b₂ ⋅η₁⋅x ⋅  ╱  ─          2   2  5   ╲╱ \n",
       " ⋅η₁ ⋅x    3⋅α⋅b₂ ⋅η₁⋅η₂⋅x                      ╲╱   α    3⋅α⋅b₂ ⋅η₂ ⋅x       \n",
       "──────── + ──────────────── + ───────────────────────── + ────────────── - ───\n",
       "⋅μ               4⋅μ                     8⋅μ                   4⋅μ            \n",
       "\n",
       "                   ___                                                        \n",
       "__     2     4    ╱ σ                                         ___        2  3 \n",
       "6 ⋅α⋅b₂ ⋅η₂⋅x ⋅  ╱  ─             3  4            2     4   ╲╱ 6 ⋅α⋅b₂⋅η₁ ⋅x ⋅\n",
       "               ╲╱   α    9⋅α⋅b₂⋅η₁ ⋅x    9⋅α⋅b₂⋅η₁ ⋅η₂⋅x                      \n",
       "────────────────────── + ───────────── + ──────────────── + ──────────────────\n",
       "        8⋅μ                   16⋅μ             16⋅μ                    4⋅μ    \n",
       "\n",
       "    ___                                                            ___        \n",
       "   ╱ σ                                         ___        2  3    ╱ σ         \n",
       "  ╱  ─                2  4            3  4   ╲╱ 6 ⋅α⋅b₂⋅η₂ ⋅x ⋅  ╱  ─         \n",
       "╲╱   α    9⋅α⋅b₂⋅η₁⋅η₂ ⋅x    9⋅α⋅b₂⋅η₂ ⋅x                      ╲╱   α    3⋅α⋅η\n",
       "─────── + ──────────────── + ───────────── - ───────────────────────── + ─────\n",
       "                16⋅μ              16⋅μ                  4⋅μ                 16\n",
       "\n",
       "                             ___                                            __\n",
       "            ___     3  2    ╱ σ                         ___     2     2    ╱ σ\n",
       " 4  3   3⋅╲╱ 6 ⋅α⋅η₁ ⋅x ⋅  ╱  ─          2   2  3   3⋅╲╱ 6 ⋅α⋅η₁ ⋅η₂⋅x ⋅  ╱  ─\n",
       "₁ ⋅x                     ╲╱   α    3⋅α⋅η₁ ⋅η₂ ⋅x                        ╲╱   α\n",
       "───── + ──────────────────────── + ────────────── - ──────────────────────────\n",
       "⋅μ                16⋅μ                  8⋅μ                     16⋅μ          \n",
       "\n",
       "_                           ___                                     ___       \n",
       "        ___        2  2    ╱ σ                     ___     3  2    ╱ σ        \n",
       "    3⋅╲╱ 6 ⋅α⋅η₁⋅η₂ ⋅x ⋅  ╱  ─          4  3   3⋅╲╱ 6 ⋅α⋅η₂ ⋅x ⋅  ╱  ─        \n",
       "                        ╲╱   α    3⋅α⋅η₂ ⋅x                     ╲╱   α        \n",
       "─ + ─────────────────────────── + ────────── - ──────────────────────── + b₂⋅η\n",
       "                16⋅μ                 16⋅μ                16⋅μ                 \n",
       "\n",
       "                                                               \n",
       "                                                               \n",
       "                    2       2                     2       2    \n",
       "   2          2   η₁ ⋅x   η₁ ⋅σ⋅x   η₁⋅η₂⋅σ⋅x   η₂ ⋅x   η₂ ⋅σ⋅x\n",
       "₁⋅x  - b₂⋅η₂⋅x  + ───── + ─────── - ───────── - ───── + ───────\n",
       "                    2       4⋅μ        2⋅μ        2       4⋅μ  "
      ]
     },
     "execution_count": 139,
     "metadata": {},
     "output_type": "execute_result"
    }
   ],
   "source": [
    "rhs = y_prime.subs(y,hofx).expand()\n",
    "rhs"
   ]
  },
  {
   "cell_type": "code",
   "execution_count": 140,
   "metadata": {
    "collapsed": false
   },
   "outputs": [
    {
     "data": {
      "image/png": "[encoded data removed]",
      "text/latex": [
       "$$\\frac{3 \\sqrt{6} \\alpha \\eta_{1}^{3}}{16 \\mu} \\sqrt{\\frac{\\sigma}{\\alpha}} - \\frac{3 \\sqrt{6} \\alpha \\eta_{2}}{16 \\mu} \\eta_{1}^{2} \\sqrt{\\frac{\\sigma}{\\alpha}} + \\frac{3 \\sqrt{6} \\alpha \\eta_{1}}{16 \\mu} \\eta_{2}^{2} \\sqrt{\\frac{\\sigma}{\\alpha}} - \\frac{3 \\sqrt{6} \\alpha \\eta_{2}^{3}}{16 \\mu} \\sqrt{\\frac{\\sigma}{\\alpha}} + b_{2} \\eta_{1} - b_{2} \\eta_{2}$$"
      ],
      "text/plain": [
       "                  ___                        ___                        ___   \n",
       "    ___     3    ╱ σ        ___     2       ╱ σ        ___        2    ╱ σ    \n",
       "3⋅╲╱ 6 ⋅α⋅η₁ ⋅  ╱  ─    3⋅╲╱ 6 ⋅α⋅η₁ ⋅η₂⋅  ╱  ─    3⋅╲╱ 6 ⋅α⋅η₁⋅η₂ ⋅  ╱  ─    \n",
       "              ╲╱   α                     ╲╱   α                     ╲╱   α    \n",
       "───────────────────── - ──────────────────────── + ──────────────────────── - \n",
       "         16⋅μ                     16⋅μ                       16⋅μ             \n",
       "\n",
       "                  ___                \n",
       "    ___     3    ╱ σ                 \n",
       "3⋅╲╱ 6 ⋅α⋅η₂ ⋅  ╱  ─                 \n",
       "              ╲╱   α                 \n",
       "───────────────────── + b₂⋅η₁ - b₂⋅η₂\n",
       "         16⋅μ                        "
      ]
     },
     "execution_count": 140,
     "metadata": {},
     "output_type": "execute_result"
    }
   ],
   "source": [
    "eqn1 = diff(rhs,x,x).subs(x,0).subs(khat,0)/2 #terms in x^2\n",
    "eqn1"
   ]
  },
  {
   "cell_type": "code",
   "execution_count": 141,
   "metadata": {
    "collapsed": false
   },
   "outputs": [
    {
     "data": {
      "image/png": "[encoded data removed]",
      "text/latex": [
       "$$b_{1} \\eta_{1} - b_{1} \\eta_{2} + \\frac{\\sqrt{6} \\eta_{1} \\sqrt{\\frac{\\sigma}{\\alpha}}}{12 \\mu} + \\frac{\\sqrt{6} \\eta_{2} \\sqrt{\\frac{\\sigma}{\\alpha}}}{12 \\mu}$$"
      ],
      "text/plain": [
       "                             ___                ___\n",
       "                  ___       ╱ σ      ___       ╱ σ \n",
       "                ╲╱ 6 ⋅η₁⋅  ╱  ─    ╲╱ 6 ⋅η₂⋅  ╱  ─ \n",
       "                         ╲╱   α             ╲╱   α \n",
       "b₁⋅η₁ - b₁⋅η₂ + ──────────────── + ────────────────\n",
       "                      12⋅μ               12⋅μ      "
      ]
     },
     "execution_count": 141,
     "metadata": {},
     "output_type": "execute_result"
    }
   ],
   "source": [
    "eqn2 = diff(rhs,khat).subs(x,0).subs(khat,0) #terms in khat\n",
    "eqn2"
   ]
  },
  {
   "cell_type": "code",
   "execution_count": 142,
   "metadata": {
    "collapsed": false
   },
   "outputs": [
    {
     "data": {
      "image/png": "[encoded data removed]",
      "text/latex": [
       "$$\\left \\{ b_{1} : - \\frac{\\sqrt{6} \\sqrt{\\frac{\\sigma}{\\alpha}} \\left(\\eta_{1} + \\eta_{2}\\right)}{12 \\mu \\left(\\eta_{1} - \\eta_{2}\\right)}, \\quad b_{2} : - \\frac{3 \\sqrt{6} \\alpha \\sqrt{\\frac{\\sigma}{\\alpha}}}{16 \\mu} \\left(\\eta_{1}^{2} + \\eta_{2}^{2}\\right)\\right \\}$$"
      ],
      "text/plain": [
       "⎧               ___                                ___             ⎫\n",
       "⎪       ___    ╱ σ                       ___      ╱ σ  ⎛  2     2⎞ ⎪\n",
       "⎪    -╲╱ 6 ⋅  ╱  ─ ⋅(η₁ + η₂)       -3⋅╲╱ 6 ⋅α⋅  ╱  ─ ⋅⎝η₁  + η₂ ⎠ ⎪\n",
       "⎨           ╲╱   α                             ╲╱   α              ⎬\n",
       "⎪b₁: ─────────────────────────, b₂: ───────────────────────────────⎪\n",
       "⎪          12⋅μ⋅(η₁ - η₂)                         16⋅μ             ⎪\n",
       "⎩                                                                  ⎭"
      ]
     },
     "execution_count": 142,
     "metadata": {},
     "output_type": "execute_result"
    }
   ],
   "source": [
    "solns = solve((eqn1,eqn2),b_1,b_2) #solving for the coefficients (left side  of eqns is zero)\n",
    "solns"
   ]
  },
  {
   "cell_type": "code",
   "execution_count": 143,
   "metadata": {
    "collapsed": false
   },
   "outputs": [
    {
     "data": {
      "image/png": "[encoded data removed]",
      "text/latex": [
       "$$- \\frac{\\sqrt{6} \\hat{k} \\sqrt{\\frac{\\sigma}{\\alpha}} \\left(\\eta_{1} + \\eta_{2}\\right)}{12 \\mu \\left(\\eta_{1} - \\eta_{2}\\right)} - \\frac{3 \\sqrt{6} \\alpha x^{2}}{16 \\mu} \\sqrt{\\frac{\\sigma}{\\alpha}} \\left(\\eta_{1}^{2} + \\eta_{2}^{2}\\right)$$"
      ],
      "text/plain": [
       "                    ___                              ___            \n",
       "    ___            ╱ σ                  ___    2    ╱ σ  ⎛  2     2⎞\n",
       "  ╲╱ 6 ⋅\\hat{k}⋅  ╱  ─ ⋅(η₁ + η₂)   3⋅╲╱ 6 ⋅α⋅x ⋅  ╱  ─ ⋅⎝η₁  + η₂ ⎠\n",
       "                ╲╱   α                           ╲╱   α             \n",
       "- ─────────────────────────────── - ────────────────────────────────\n",
       "           12⋅μ⋅(η₁ - η₂)                         16⋅μ              "
      ]
     },
     "execution_count": 143,
     "metadata": {},
     "output_type": "execute_result"
    }
   ],
   "source": [
    "hofx.subs(solns)"
   ]
  },
  {
   "cell_type": "code",
   "execution_count": 144,
   "metadata": {
    "collapsed": false
   },
   "outputs": [
    {
     "data": {
      "image/png": "[encoded data removed]",
      "text/latex": [
       "$$x^{2} \\left(- \\frac{\\sqrt{6} \\alpha \\eta_{1}^{2} \\sqrt{\\frac{\\sigma}{\\alpha}}}{8 \\mu} + \\frac{\\sqrt{6} \\alpha \\eta_{2}^{2} \\sqrt{\\frac{\\sigma}{\\alpha}}}{8 \\mu}\\right)$$"
      ],
      "text/plain": [
       "   ⎛                  ___                   ___⎞\n",
       "   ⎜    ___     2    ╱ σ      ___     2    ╱ σ ⎟\n",
       "   ⎜  ╲╱ 6 ⋅α⋅η₁ ⋅  ╱  ─    ╲╱ 6 ⋅α⋅η₂ ⋅  ╱  ─ ⎟\n",
       " 2 ⎜              ╲╱   α                ╲╱   α ⎟\n",
       "x ⋅⎜- ─────────────────── + ───────────────────⎟\n",
       "   ⎝          8⋅μ                   8⋅μ        ⎠"
      ]
     },
     "execution_count": 144,
     "metadata": {},
     "output_type": "execute_result"
    }
   ],
   "source": [
    "x_prime.subs(y,hofx.subs(solns)).expand().coeff(x**2).subs(khat,0)*x**2"
   ]
  },
  {
   "cell_type": "code",
   "execution_count": 145,
   "metadata": {
    "collapsed": false
   },
   "outputs": [
    {
     "data": {
      "image/png": "[encoded data removed]",
      "text/latex": [
       "$$- \\frac{\\sqrt{6} \\hat{k} \\sqrt{\\frac{\\sigma}{\\alpha}}}{6 \\mu}$$"
      ],
      "text/plain": [
       "                   ___ \n",
       "   ___            ╱ σ  \n",
       "-╲╱ 6 ⋅\\hat{k}⋅  ╱  ─  \n",
       "               ╲╱   α  \n",
       "───────────────────────\n",
       "          6⋅μ          "
      ]
     },
     "execution_count": 145,
     "metadata": {},
     "output_type": "execute_result"
    }
   ],
   "source": [
    "x_prime.subs(y,hofx.subs(solns)).expand().coeff(khat).subs(x,0)*khat"
   ]
  },
  {
   "cell_type": "code",
   "execution_count": 146,
   "metadata": {
    "collapsed": false
   },
   "outputs": [],
   "source": [
    "omega, alpha_1, alpha_3, A_1 = symbols(\"omega alpha_1 alpha_3 A_1\", real = True)"
   ]
  },
  {
   "cell_type": "code",
   "execution_count": 147,
   "metadata": {
    "collapsed": false
   },
   "outputs": [
    {
     "data": {
      "image/png": "[encoded data removed]",
      "text/latex": [
       "$$\\sqrt{0.75 A_{1}^{2} \\alpha_{3} + \\alpha_{1}}$$"
      ],
      "text/plain": [
       "   __________________\n",
       "  ╱        2         \n",
       "╲╱  0.75⋅A₁ ⋅α₃ + α₁ "
      ]
     },
     "execution_count": 147,
     "metadata": {},
     "output_type": "execute_result"
    }
   ],
   "source": [
    "omega=sqrt(alpha_1+3/4*alpha_3*(A_1)**2)\n",
    "omega"
   ]
  },
  {
   "cell_type": "code",
   "execution_count": 148,
   "metadata": {
    "collapsed": false
   },
   "outputs": [
    {
     "data": {
      "image/png": "[encoded data removed]",
      "text/latex": [
       "$$\\frac{0.375 \\alpha_{3}}{\\sqrt{\\alpha_{1}}} A_{1}^{2} + \\sqrt{\\alpha_{1}}$$"
      ],
      "text/plain": [
       "        2            \n",
       "0.375⋅A₁ ⋅α₃     ____\n",
       "──────────── + ╲╱ α₁ \n",
       "     ____            \n",
       "   ╲╱ α₁             "
      ]
     },
     "execution_count": 148,
     "metadata": {},
     "output_type": "execute_result"
    }
   ],
   "source": [
    "omega.subs(A_1,0)+diff(omega,A_1).subs(A_1,0)*A_1+1/2*diff(omega,A_1,A_1).subs(A_1,0)*A_1**2"
   ]
  },
  {
   "cell_type": "code",
   "execution_count": null,
   "metadata": {
    "collapsed": true
   },
   "outputs": [],
   "source": []
  }
 ],
 "metadata": {
  "kernelspec": {
   "display_name": "Python 3",
   "language": "python",
   "name": "python3"
  },
  "language_info": {
   "codemirror_mode": {
    "name": "ipython",
    "version": 3
   },
   "file_extension": ".py",
   "mimetype": "text/x-python",
   "name": "python",
   "nbconvert_exporter": "python",
   "pygments_lexer": "ipython3",
   "version": "3.4.3"
  },
  "latex_envs": {
   "bibliofile": "biblio.bib",
   "cite_by": "apalike",
   "current_citInitial": 1,
   "eqLabelWithNumbers": true,
   "eqNumInitial": 0
  }
 },
 "nbformat": 4,
 "nbformat_minor": 0
}
