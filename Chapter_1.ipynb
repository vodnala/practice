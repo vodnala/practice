{
 "cells": [
  {
   "cell_type": "code",
   "execution_count": null,
   "metadata": {
    "collapsed": true,
    "input_collapsed": true
   },
   "outputs": [],
   "source": [
    "%run Nonlinear_Dynamics.py"
   ]
  },
  {
   "cell_type": "markdown",
   "metadata": {
    "slideshow": {
     "slide_type": "-"
    }
   },
   "source": [
    "<header>\n",
    "Nonlinear Dynamics and Oscillations: \n",
    "====================================\n",
    "</header>\n",
    "Joseph C. Slater\n",
    "\n",
    "Based on *Applied Nonlinear Dynamics: Analytical, Computational, and Experimental Methods* by Ali H. Nayfeh and Balakumar Balachandran\n",
    "# Chapter 1: Introduction\n",
    "\n",
    "- Dynamic system: State(s) evolve over time. \n",
    "- Discrete dynamic system: Algebraic equations (numerical integration)\n",
    "- Continuous dynamic system: Time differential equations. \n",
    "\n",
    "- Steady state: state of system as $t\\to \\infty$\n",
    "- State prior is a *transient state*\n",
    "- Collection (functions) of these states are *transient solution*\n",
    "\n",
    "- A solution can either be *constant* or *time varying*. \n",
    "  - Constant solutions are often called:\n",
    "    - Fixed points\n",
    "    - Equilibrium solutions\n",
    "    - Stationary solutions\n",
    "  - A time varying solution can also be called a *dynamic solution*\n",
    "\n"
   ]
  },
  {
   "cell_type": "markdown",
   "metadata": {},
   "source": [
    "### Some definitions\n",
    "Symbol  name  |Definition\n",
    "----------|----------\n",
    "$\\mathcal{R}^n$|$n$-dimensional Euclidean space\n",
    "S|Angular space\n",
    "$k$|Time index\n",
    "$\\mathcal{Z}$|set of all integers\n",
    "$\\subset$|subset\n",
    "$\\in$|in, or member of\n",
    "$\\to$|Maps to\n",
    "$\\cup$|Union\n",
    "$(\\mathbf{F}: M\\to N)$|map $\\mathbf{F}$ of points in region $M$ to region $N$\n",
    "$D$|Domain of $(\\mathbf{x},t)$ space\n",
    "$S$|Space\n",
    "$\\mathcal{C}^0$| Continuous function (derivative is not continuous)\n",
    "$\\mathcal{C}^r$| $r$-time differentiable continuous function\n",
    "$\\mathbf{F}^k$|$k$th iteration of map $\\mathbf{F}$\n",
    "\n"
   ]
  },
  {
   "cell_type": "markdown",
   "metadata": {},
   "source": [
    "## 1.1 Discrete-Time Systems"
   ]
  },
  {
   "cell_type": "markdown",
   "metadata": {},
   "source": [
    "$$\\mathbf{x}_{k+1}=\\mathbf{F}(\\mathbf{x}_k)$$"
   ]
  },
  {
   "cell_type": "markdown",
   "metadata": {},
   "source": [
    "- $\\mathbf{x}$ is a finite dimensional vector of dimension $n$\n",
    "- Formally, $\\mathbf{x} \\in \\mathcal{R}^n$\n",
    "- Evolution in time may be in another space (spherical, cylindrical, toroidal) but locally it is always Cartesian\n",
    "- $\\mathbf{F}$ maps $\\mathbf{x}_k$ to $\\mathbf{x}_{k+1}$\n",
    "- More formally, $\\mathbf{F}$ maps points in a region $M$ to a region $N$ \n",
    "$$\\mathbf{F}: M\\to N$$\n",
    "$$M\\in \\mathcal{R}^n$$\n",
    "$$N\\in \\mathcal{R}^n$$\n",
    "- The map $\\mathbf{F}$ is said to map $M$ on to $N$ if for every point $\\mathbf{y}\\in N$ there exists *at least* one $\\mathbf{x}\\in M$ that maps to it."
   ]
  },
  {
   "cell_type": "markdown",
   "metadata": {},
   "source": [
    "- $\\mathbf{F}$ is said to be *one-to-one* if no two points in $M$ map to the same point in $N$. (If we know where it is, we know where it came from)\n",
    "- A one-to-one map is called *invertible*\n",
    "$$\\mathbf{x}_{k}=\\mathbf{F}^{-1}(\\mathbf{x}_{k+1})$$\n",
    "- Not all maps are invertible. They are called *non-invertible*."
   ]
  },
  {
   "cell_type": "markdown",
   "metadata": {},
   "source": [
    "- When each component of $\\mathbf{F}$ is $r$ times continuously differentiable with respect to $\\mathbf{x}$, it is said to be a $\\mathcal{C}^r$ function\n",
    "- For $r\\ge 1$ $\\mathbf{F}$ is a *differentiable map*\n",
    "- If both $\\mathbf{F}$ and $\\mathbf{F}^{-1}$ are continuous, $\\mathbf{F}$ is called a *homeomorphism*\n",
    "- If both $\\mathbf{F}$ and $\\mathbf{F}^{-1}$ are $\\mathcal{C}^r$ where $r\\ge 1$, $\\mathbf{F}$ is a $\\mathcal{C}^r$ *diffeomorphism* (map)."
   ]
  },
  {
   "cell_type": "markdown",
   "metadata": {},
   "source": [
    "An orbit of a invertible map initiated at $\\mathbf{x}=\\mathbf{x_0}$ is made up of \n",
    "$$\\{\\ldots, \\mathbf{F}^{-m}(\\mathbf{x_0}), \\ldots, \\mathbf{F}^{-2}(\\mathbf{x_0}), \\mathbf{F}^{-1}(\\mathbf{x_0}),  \\mathbf{x_0}, \\mathbf{F}(\\mathbf{x_0}), \\mathbf{F}^2(\\mathbf{x_0}),\\ldots, \\mathbf{F}^m(\\mathbf{x_0}), \\dots\n",
    "\\}$$"
   ]
  },
  {
   "cell_type": "markdown",
   "metadata": {},
   "source": [
    "where $m \\in \\mathcal{Z}^{+}$"
   ]
  },
  {
   "cell_type": "markdown",
   "metadata": {},
   "source": [
    "If the map is noninvertible, the orbit is only\n",
    "$$\\{\\mathbf{x_0}, \\mathbf{F}(\\mathbf{x_0}), \\mathbf{F}^2(\\mathbf{x_0}),\\ldots, \\mathbf{F}^m(\\mathbf{x_0}), \\dots\n",
    "\\}$$"
   ]
  },
  {
   "cell_type": "markdown",
   "metadata": {},
   "source": [
    "- Successive applications of $\\mathbf{F}$ are *forward iterates* or *forward iterations*\n",
    "- $\\mathbf{F}$ is sometimes called an *evolution operator*. \n",
    "- Sometimes we want to define control parameters (think settings of variables like mass, damping, etc.) and we can stat it explicitly as\n",
    "$$\\mathbf{x}_{k+1}=\\mathbf{F}(\\mathbf{x}_{k};\\mathbf{M})$$"
   ]
  },
  {
   "cell_type": "markdown",
   "metadata": {},
   "source": [
    "#### Example 1.1: The *logistic map*\n",
    "\n",
    "$$x_{k+1} = 4 \\alpha x_k (1-x_k)$$\n",
    "$$0\\le x_k\\le 1$$ and\n",
    "$$0\\le \\alpha\\le 1$$"
   ]
  },
  {
   "cell_type": "code",
   "execution_count": null,
   "metadata": {
    "collapsed": true
   },
   "outputs": [],
   "source": [
    "%run Nonlinear_Dynamics\n",
    "%matplotlib inline\n",
    "med_res()"
   ]
  },
  {
   "cell_type": "code",
   "execution_count": null,
   "metadata": {
    "collapsed": false
   },
   "outputs": [],
   "source": [
    "def logistic_map(x0 = 0.25, alpha = 0.5, nterms = 5):\n",
    "    x = sp.zeros(nterms)\n",
    "    x[0] = x0\n",
    "    for i in range(1, nterms):\n",
    "        x[i] = 4 * alpha * x[i-1] * (1 - x[i-1])\n",
    "    return x\n",
    "x = logistic_map()\n",
    "print(x)"
   ]
  },
  {
   "cell_type": "markdown",
   "metadata": {},
   "source": [
    "#### Example 1.2. The *Hénon map*\n",
    "\\begin{equation}\n",
    "x_{x+1} = 1 + y_k -\\alpha x_k^2\n",
    "\\end{equation}\n",
    "\\begin{equation}\n",
    "y_{k+1} = \\beta x_k\n",
    "\\end{equation}\n",
    "Where $\\alpha$ and $\\beta$ are parameters.\n",
    "\n",
    "When $\\beta = 0$, $y_{k+1} = 0$, $x_{x+1} = 1 -\\alpha x_k^2$ and is non-invertible.\n",
    "\n",
    "When  $\\beta \\neq 0$\n",
    "\\begin{equation}\n",
    "y_k = \\frac{1}{\\beta}y_{k+1}\n",
    "\\end{equation}\n",
    "\\begin{equation}\n",
    "x_k = x_{x+1} - 1 + \\frac{\\alpha}{\\beta^2}y_{k+1}^2\n",
    "\\end{equation}\n",
    "\n",
    "$(x_k, y_k)$ and $(x_{k+1}, y_{k+1})$ uniquely determine each other. "
   ]
  },
  {
   "cell_type": "markdown",
   "metadata": {},
   "source": [
    "In Python we can code this up and see what happens. "
   ]
  },
  {
   "cell_type": "code",
   "execution_count": null,
   "metadata": {
    "collapsed": false
   },
   "outputs": [],
   "source": [
    "solve_henon(firstindex = -5, numsteps = 10)"
   ]
  },
  {
   "cell_type": "code",
   "execution_count": null,
   "metadata": {
    "collapsed": false
   },
   "outputs": [],
   "source": [
    "w = interactive(solve_henon, alpha = (0.0,1.0), beta = (0.0,1.0), firstindex = (-10,0), numsteps = (5,100), x0 = (-10,10), y0 = (-10,10))\n",
    "display(w)"
   ]
  },
  {
   "cell_type": "markdown",
   "metadata": {},
   "source": [
    "## 1.2 Continuous-Time Systems\n",
    "### 1.2.1 Nonautonomous Systems\n",
    "$$\\dot{\\mathbf{x}}=\\mathbf{F}(\\mathbf{x},t)$$\n",
    "\n",
    "$$x \\in \\mathcal{R}^n, t \\in \\mathcal{R}$$\n",
    "\n",
    "- $\\mathbf{F}$ depends explicitly on $t$. \n",
    "- $\\mathbf{x}$ is the state vector\n",
    "- $\\mathcal{R}^n$ is the state space within which $\\mathbf{x}$ evolves\n",
    "- $\\mathcal{R}^n + \\mathcal{R}^1$ is the extended state space (includes $t$)\n",
    "- If $\\mathbf{F}$ is linear, $\\mathbf{x}$ is a linear vector field\n",
    "- If $\\mathbf{F}$ is nonlinear, $\\mathbf{x}$ is a nonlinear vector field\n",
    "- Graph of the solution in the extended space is the *integral curve*. \n",
    "- $\\Gamma = \\gamma(\\mathbf{x}_0) = \\gamma(\\mathbf{x}_0)^-\\cup\\gamma^+(\\mathbf{x}_0)$"
   ]
  },
  {
   "cell_type": "markdown",
   "metadata": {},
   "source": [
    "#### Example 1.3\n",
    "$$\\ddot{x}+2 \\mu \\dot{x} + \\omega^2 x = F \\cos(\\Omega t)$$\n",
    "Define (let)\n",
    "$$\\dot{x}_1= x_2$$\n",
    "$$\\dot{x}_2 = -2 \\mu \\dot{x}_1 - \\omega^2 x_1 + F \\cos(\\Omega t)$$"
   ]
  },
  {
   "cell_type": "markdown",
   "metadata": {},
   "source": [
    "We can solve for $\\mu = 2$, $\\omega^2 = 8$, $\\Omega = 2$, $F = 10$. \n",
    "$$x_1=e^{-2 t}\\left[a \\cos(2 t)+ b \\sin(2t)\\right]+0.5 \\cos(2t)+\\sin(2t)$$\n",
    "$$x_2 = -2 e^{-2t} \\left[(a-b)\\cos(2t)+(a+b)\\sin(2t)\\right] - \\sin(2t)+2\\cos(2t)$$"
   ]
  },
  {
   "cell_type": "code",
   "execution_count": null,
   "metadata": {
    "collapsed": false
   },
   "outputs": [],
   "source": [
    "def solve_sdof_plot(max_time=10.0, omega = 2.8284, Omega = 2, mu = 2, F = 10, elevation = 30, angle = 10, x0 = 1, v0 = 0):\n",
    "    _, _, _ = solve_sdof(max_time = max_time, omega = omega, mu = mu, elevation = elevation, angle = angle)\n",
    "    return\n",
    "w = interactive(solve_sdof_plot, max_time=(0,30.0), omega = (1, 10), mu =(0.0,2.0), elevation = (-90, 90), angle = (0,360));\n",
    "ipcd.display(w);"
   ]
  },
  {
   "cell_type": "markdown",
   "metadata": {},
   "source": [
    "Phase diagram"
   ]
  },
  {
   "cell_type": "code",
   "execution_count": null,
   "metadata": {
    "collapsed": false
   },
   "outputs": [],
   "source": [
    "t, x, v = solve_sdof()\n",
    "plt.plot(x,v);"
   ]
  },
  {
   "cell_type": "markdown",
   "metadata": {},
   "source": [
    "Positive orbit of $x$"
   ]
  },
  {
   "cell_type": "code",
   "execution_count": null,
   "metadata": {
    "collapsed": false
   },
   "outputs": [],
   "source": [
    "plt.plot(t, x,'-');"
   ]
  },
  {
   "cell_type": "markdown",
   "metadata": {},
   "source": [
    "Positive Orbit of $v$"
   ]
  },
  {
   "cell_type": "code",
   "execution_count": null,
   "metadata": {
    "collapsed": false
   },
   "outputs": [],
   "source": [
    "plt.plot(t, v, '-');"
   ]
  },
  {
   "cell_type": "markdown",
   "metadata": {},
   "source": [
    "- If components of $\\mathbf{F}(\\mathbf{x},t;\\mathbf{M})$ are $\\mathcal{C}^0$ in $D$, then $\\mathbf{x}(t,\\mathbf{x}_0,t_0)$ \n",
    "exists in a small interval around $\\mathbf{x}_0$. \n",
    "\n",
    "- If components of $\\mathbf{F}$ are $\\mathcal{C}^1$ in $D$, then $\\mathbf{x}(t,\\mathbf{x}_0,t_0)$ \n",
    "*is unique* in a small interval around $\\mathbf{x}_0$. \n",
    "\n",
    "- If existence and uniqueness of a solution are ensured, then the system is *deterministic*.\n",
    "\n",
    "- If components of $\\mathbf{F}$ are $\\mathcal{C}^r$ functions of $\\mathbf{x}$ and $\\mathbf{M}$  then the solution is also $\\mathcal{C}^r$ function of $t$, $t_0$, $\\mathbf{x}$ and $\\mathbf{M}$ around $\\mathbf{x}_0$ ($t_0$)."
   ]
  },
  {
   "cell_type": "markdown",
   "metadata": {},
   "source": [
    "#### Example 1.4\n",
    "Consider the previous example starting from different initial conditions:"
   ]
  },
  {
   "cell_type": "code",
   "execution_count": null,
   "metadata": {
    "collapsed": false
   },
   "outputs": [],
   "source": [
    "t, x1, v1 = solve_sdof(plotnow = 0)\n",
    "t, x2, v2 = solve_sdof(plotnow = 0, x0 = 1.5)\n",
    "ax = plt.plot(x1,v1,x2,v2)"
   ]
  },
  {
   "cell_type": "code",
   "execution_count": null,
   "metadata": {
    "collapsed": false
   },
   "outputs": [],
   "source": [
    "fig = plt.figure();\n",
    "ax = fig.add_axes([0, 0, 1, 1], projection='3d');\n",
    "plt.plot(x1,t,v1);\n",
    "plt.plot(x2,t,v2);\n",
    "plt.xlabel('x');\n",
    "plt.ylabel('t');\n",
    "ax.set_zlabel('v');"
   ]
  },
  {
   "cell_type": "markdown",
   "metadata": {},
   "source": [
    "Note that the responses of the system converge to the same solution. "
   ]
  },
  {
   "cell_type": "markdown",
   "metadata": {},
   "source": [
    "### 1.2.2 Autonomous systems\n",
    "$$\\mathbf{F}(\\mathbf{x};\\mathbf{M})$$\n",
    "\n",
    "- *Not* explicitly a function of time.\n",
    "- *Time invariant*, *time independent*, or *stationary*. \n",
    "    - The **model** is stationary, not the response!"
   ]
  },
  {
   "cell_type": "code",
   "execution_count": null,
   "metadata": {
    "collapsed": false
   },
   "outputs": [],
   "source": [
    "def sdof_deriv(x1_x2, t, omega = 2.8284, mu = 2.828):\n",
    "    \"\"\"Compute the time-derivative of a SDOF system.\"\"\"\n",
    "    x1, x2 = x1_x2\n",
    "    return [x2, -omega**2*x1-2*mu*x2]\n",
    "phase_plot(sdof_deriv)"
   ]
  },
  {
   "cell_type": "markdown",
   "metadata": {},
   "source": [
    "Nonautonomous systems can be converted to autonomous systems by writing an additional equation. \n",
    "$$\\dot{x}_1= x_2$$\n",
    "$$\\dot{x}_2 = -2 \\mu \\dot{x} - \\omega^2 x + F \\cos(\\Omega t)$$\n",
    "\n",
    "becomes\n",
    "$$\\dot{x}_1= x_2$$\n",
    "$$\\dot{x}_2 = -2 \\mu \\dot{x} - \\omega^2 x + F \\cos(\\theta)$$\n",
    "$$\\dot{\\theta} = \\Omega$$\n",
    "where $\\theta = \\Omega t$."
   ]
  },
  {
   "cell_type": "markdown",
   "metadata": {},
   "source": [
    "### 1.2.3 Phase Portraits and Flows\n",
    "- A *phase portrait* is a collection of trajectories (solutions) of the equations. \n",
    "- Illustrate coalescence, or absence, of solutions. "
   ]
  },
  {
   "cell_type": "code",
   "execution_count": null,
   "metadata": {
    "collapsed": false
   },
   "outputs": [],
   "source": [
    "flow_plot(sdof_deriv)"
   ]
  },
  {
   "cell_type": "markdown",
   "metadata": {},
   "source": [
    "## 1.3 Attracting sets\n",
    "- Note the prior system. \n",
    "    - If $\\mu > 0$, the corresponding area swept decreases over time. This is called *dissipation*. \n",
    "    - If $\\mu = 0$, the area is conserved. The flow *conserves* area.\n",
    "    - If $\\mu < 0$, we have expansion. "
   ]
  },
  {
   "cell_type": "markdown",
   "metadata": {},
   "source": [
    "Let's take a page from  Fluid Dynamics\n",
    "\n",
    "Consider a small area (smaller than our starting area) $\\Delta S$. The associated change in volume over time is \n",
    "$$\\mathbf{v} \\Delta t \\cdot \\mathbf{n} \\Delta S$$\n",
    "where $\\mathbf{v} = \\mathbf{\\dot{x}} = \\mathbf{F}$. $\\mathbf{n}$ is the outward normal vector of $S$. \n",
    "\n",
    "The total change in volume is\n",
    "\n",
    "$$\\Delta V = \\Delta t \\int \\int_S \\mathbf{F} \\cdot \\mathbf{n} dS$$\n",
    "\n",
    "From the divergence theorem\n",
    "\n",
    "$$\\int\\int_S \\mathbf{F} \\cdot \\mathbf{n} dS = \\int\\int\\int_V(\\nabla\\cdot\\mathbf{F})dV$$\n",
    "\n"
   ]
  },
  {
   "cell_type": "markdown",
   "metadata": {},
   "source": [
    "For an infinitessimally small $V$, the right hand side is simply $(\\nabla\\cdot\\mathbf{F})V$. Therefore:\n",
    "$$\\frac{1}{V}\\frac{d V}{d t} = \\nabla\\cdot\\mathbf{F}$$\n",
    "So, a flow is dissipative/conservative/expanding based on the divergence of the vector field. \n",
    "\n",
    "For a conservative system:\n",
    "$$\\sum_{i=1}^n \\frac{\\partial F_i(\\mathbf{x})}{\\partial x_i}=0$$\n",
    "For a dissipative system\n",
    "$$\\sum_{i=1}^n \\frac{\\partial F_i(\\mathbf{x})}{\\partial x_i}<0$$\n",
    "\n",
    "In mechanics we often encounter *Hamiltonian Systems* which are governed by\n",
    "$$\\dot{q}_i=\\frac{\\partial H}{\\partial p_i}$$\n",
    "$$\\dot{p}_i = - \\frac{\\partial H}{\\partial q_i}$$\n",
    "Where $H$ is the *Hamiltonian*. The divergence of the vector field for such systems is.\n",
    "$$\\nabla \\cdot \\mathbf{F} = \\sum_{i=1}^n\\left[\\frac{\\partial}{\\partial q_i}\\left(\\frac{\\partial H}{\\partial p_i}\\right)+ \\frac{\\partial}{\\partial p_i}\\left(-\\frac{\\partial H}{\\partial q_i}\\right) \\right]=0$$"
   ]
  },
  {
   "cell_type": "markdown",
   "metadata": {},
   "source": [
    "This is why Hamilton's principle works for conservative systems. Preservation of flow (volumes) in Hamiltonian systems is called the *Liouville theorem*."
   ]
  },
  {
   "cell_type": "markdown",
   "metadata": {},
   "source": [
    "- *Attracting sets*: dissipating systems draw trajectories from varied initial conditions to a subspace of the state space.\n",
    "\n",
    "- *Invariant set*: A set $\\mathbf{P} \\subset \\mathcal{R}^n$ is invariant if for any initial condition $\\mathbf{x}(t=t_0)\\in\\mathbf{P}$ we have $\\mathbf{x}(t)\\in\\mathbf{P}$. "
   ]
  },
  {
   "cell_type": "markdown",
   "metadata": {},
   "source": [
    "#### Example 1.7 \n",
    "Back to our favorite system:\n",
    "$$\\dot{x}_1= x_2$$\n",
    "$$\\dot{x}_2 = -2 \\mu \\dot{x} - \\omega^2 x$$\n",
    "\n",
    "$$\\frac{\\partial F_1}{\\partial x_1}\\cdot n_{x_1}+ \\frac{\\partial F_2}{\\partial x_2}\\cdot n_{x_2}= 0+ - 2 \\mu = -2 \\mu$$\n",
    "So, if $\\mu>0$, the system is dissipative (locally). \n"
   ]
  },
  {
   "cell_type": "markdown",
   "metadata": {},
   "source": [
    "#### Example 1.8 \n",
    "Back to our favorite system:\n",
    "$$\\dot{x}_1= x_2$$\n",
    "$$\\dot{x}_2 = -2 \\mu \\dot{x} - \\omega^2 x- F \\cos(\\theta)$$\n",
    "$$\\dot{\\theta} = \\Omega$$\n",
    "\n",
    "$$\\frac{\\partial F_1}{\\partial x_1}\\cdot n_{x_1}+ \\frac{\\partial F_2}{\\partial x_2}\\cdot n_{x_2}+\\frac{\\partial F_3}{\\partial \\theta}\\cdot n_{x_2}= 0+ - 2 \\mu + 0= -2 \\mu$$\n",
    "So, if $\\mu>0$, the system is dissipative (locally) (still). \n"
   ]
  },
  {
   "cell_type": "code",
   "execution_count": null,
   "metadata": {
    "collapsed": false
   },
   "outputs": [],
   "source": [
    "def solve_forced_sdof_n(max_time=10.0, omega = 2.8284, mu = 2., x0 = np.array([[-1, -.9 , -0.9, -1, -1]]).T, v0 = np.array([[1, 1, .9, 0.9, 1]]).T, Omega = 5., F = 10, plotnow = 1):\n",
    "\n",
    "    \n",
    "    def sdof_deriv(x1_x2, t, omega = omega, mu = mu, Omega = Omega):\n",
    "        \"\"\"Compute the time-derivative of a SDOF system.\"\"\"\n",
    "        x1, x2 = x1_x2\n",
    "        return [x2, -omega**2*x1-2*mu*x2 + F * np.cos(Omega * t)]\n",
    "\n",
    "    x0 = np.concatenate((x0, v0), axis = 1)\n",
    "    N = x0.shape[0]\n",
    "    # Solve for the trajectories\n",
    "    t = np.linspace(0, max_time, int(250*max_time))\n",
    "    x_t = np.asarray([sp.integrate.odeint(sdof_deriv, x0i, t)\n",
    "                      for x0i in x0])\n",
    "\n",
    "\n",
    "    if plotnow == 1:\n",
    "        colors = plt.cm.jet(np.linspace(0, 1, N))\n",
    "        fig = plt.figure()\n",
    "        for i in range(N):\n",
    "            x, v = x_t[i,:,:].T\n",
    "            \n",
    "            plt.plot(x, v)\n",
    "        plt.grid()\n",
    "            \n",
    "    return t, x_t"
   ]
  },
  {
   "cell_type": "code",
   "execution_count": null,
   "metadata": {
    "collapsed": false,
    "scrolled": true
   },
   "outputs": [],
   "source": [
    "t, x_t = solve_forced_sdof_n(x0 = x0, v0 = v0, mu = 1, max_time=20)\n",
    "plt.plot(x_t[:,0,0],x_t[:,0,1],'k-')\n",
    "plt.plot(x_t[:,len(t)-1,0],x_t[:,len(t)-1,1],'k-');"
   ]
  },
  {
   "cell_type": "code",
   "execution_count": null,
   "metadata": {
    "collapsed": false
   },
   "outputs": [],
   "source": [
    "x0 = np.array([[0, 0.1 , 0.1, 0, 0]]).T \n",
    "v0 = np.array([[0, 0, -0.5, -0.5, 0]]).T\n",
    "t, x_t = solve_forced_sdof_n(x0 = x0, v0 = v0, mu = 1, max_time=20)\n",
    "plt.plot(x_t[:,0,0],x_t[:,0,1],'k-')\n",
    "plt.plot(x_t[:,len(t)-1,0],x_t[:,len(t)-1,1],'k-');"
   ]
  },
  {
   "cell_type": "markdown",
   "metadata": {},
   "source": [
    "Similar applies to maps. A map is dissipative if \n",
    "$$\\left|\\text{det} D_{\\mathbf{x}_k}\\mathbf{F}\\right|<1$$\n",
    "#### Example 1.9\n",
    "Henon map\n",
    "\n",
    "$$\\text{det} D_{\\mathbf{x}_k}\\mathbf{F} = \n",
    "\\text{det} \\begin{bmatrix}-2 \\alpha x_k&1\\\\ \\beta & 0\\end{bmatrix} = -\\beta$$\n",
    "Hence if $|\\beta|< 1$, the Henon map is dissipative for all $x_k$. The area is contracted by $|\\beta|$ at each iteration. "
   ]
  },
  {
   "cell_type": "markdown",
   "metadata": {},
   "source": [
    "## 1.4 Concepts of Stability\n",
    "\n",
    "### 1.4.1 Lyapunov Stability\n",
    "\n",
    "#### Maps\n",
    "A solution $\\mathbf{u}_k$ of a map is considered *Lyapunov stable* if, given a small number $\\epsilon>0$, there exists a number $\\delta=\\delta(\\epsilon)>0$  such that any other solution $\\mathbf{v}_k$ for which $||\\mathbf{u}_k - \\mathbf{v}_k||<\\delta$ at $k=m$ ($m$ is \"time zero\") satisfies $||\\mathbf{u}_k - \\mathbf{v}_k||<\\epsilon$ for all $k>m$, where $k$ and $m$ $\\in$ $\\mathcal{Z}^+$.\n",
    "\n",
    "In layman's terms: two unique orbits of a map initiated from nearby locations at the same time  have to remain close for all future times. Close is subjective. Bounded is the cleaner definition ($<\\delta$)."
   ]
  },
  {
   "cell_type": "markdown",
   "metadata": {},
   "source": [
    "#### Example 1.10\n",
    "Consider the map of example 1.2\n",
    "\\begin{equation}\n",
    "x_{x+1} = 4 \\alpha x_k (1-x_k)\n",
    "\\end{equation}\n",
    "where $\\alpha = 0.5$.\n",
    "\n",
    "Initiating at $x_k=0.5$, the orbit is\n",
    "$$\\{0.5, 0.5, 0.5, \\cdots, 0.5\\}$$\n",
    "\n",
    "Starting instead at $0.4$ yields an orbit of \n",
    "$$\\{0.4, 0.48, 0.4992, 0.49999872, 0.5, \\cdots, 0.5\\}$$\n",
    "Thus they stay close and converge. This is an illustration that $0.5$ is likely a stable solution of the map. (for confidence we should also consider starting at $0.51$)."
   ]
  },
  {
   "cell_type": "markdown",
   "metadata": {},
   "source": [
    "#### Continuous-Time systems\n",
    "A solution $\\mathbf{u}(t)$ of a map is considers *Lyapunov stable* if, given a small number $\\epsilon>0$, there exists a number $\\delta=\\delta(\\epsilon)>0$  such that any other solution $\\mathbf{v}(t)$ for which $||\\mathbf{u}_k - \\mathbf{v}_k||<\\delta$ at $t=t_0$ satisfies $||\\mathbf{u}_k - \\mathbf{v}_k||<\\epsilon$ for all $t>t_0$, where $k$ and $m$ $\\in$ $\\mathcal{Z}^+$.\n",
    "\n",
    "In layman's terms: two unique solutions started from nearby locations at the same time  have to remain close for all future times. Close is subjective. Bounded is the cleaner definition ($<\\delta$).\n",
    "\n",
    "In autonomous systems Lyapunov stability is known as *uniform stability* because $\\delta$ is independent of the initial time $t_0$. "
   ]
  },
  {
   "cell_type": "markdown",
   "metadata": {},
   "source": [
    "#### Example 1.11: The Duffing Oscillator\n",
    "\n",
    "$$\\ddot{x}+2\\mu \\dot{x}+x-\\alpha x^3=0$$\n",
    "which in state space form is\n",
    "$$\\dot{x}_1 = x_2$$\n",
    "$$\\dot{x}_2= -x_1 + \\alpha x_1^3 - 2 \\mu x_2$$\n",
    "\n",
    "There is some non-dimensionalizing that we can do that allows us to seemingly ignore the linear natural frequency. Just trust me for now. \n",
    "\n",
    "First consider when $\\mu=0$. \n",
    "\n",
    "Let's look for steady state solutions:\n",
    "$$0 = x_2$$\n",
    "$$0 = -x_1 + \\alpha x_1^3 - 2 \\mu x_2$$\n",
    "From the first expression, steady-state only happens when $x_2=0$. \n",
    "From the second, for $\\alpha = 1$ we have \n",
    "$$x_1=x_1^3$$ \n",
    "which has 3 solutions, -1, 0, and 1. So, we have 3 steady state solutions: (0,-1), (0,0), and (0,1). For general $\\alpha$ we have $(0,-\\frac{1}{\\sqrt{\\alpha}})$, (0,0), and $(0,\\frac{1}{\\sqrt{\\alpha}})$.\n",
    "\n",
    "Near (0,0), the orbits are closed curves that surround it. Not strictly true for the others.\n"
   ]
  },
  {
   "cell_type": "code",
   "execution_count": null,
   "metadata": {
    "collapsed": false
   },
   "outputs": [],
   "source": [
    "def solve_duffing(max_time=1.0, mu = .1, x0 = np.array([[-1, -.9 , -0.9, -1, -1]]).T, v0 = np.array([[1, 1, .9, 0.9, 1]]).T, alpha = 1, plotnow = 1):\n",
    "    \n",
    "    def duff_deriv(x1_x2, t, alpha = alpha, mu = mu):\n",
    "        \"\"\"Compute the time-derivative of a SDOF system.\"\"\"\n",
    "        x1, x2 = x1_x2\n",
    "        return [x2, -x1-2*mu*x2 + alpha * x1**3]\n",
    "\n",
    "    x0 = np.concatenate((x0, v0), axis = 1)\n",
    "    N = x0.shape[0]\n",
    "    # Solve for the trajectories\n",
    "    t = np.linspace(0, max_time, int(250*max_time))\n",
    "    x_t = np.asarray([sp.integrate.odeint(duff_deriv, x0i, t)\n",
    "                      for x0i in x0])\n",
    "\n",
    "    if plotnow == 1:\n",
    "        for i in range(N):\n",
    "            x, v = x_t[i,:,:].T            \n",
    "            plt.plot(x, v,'-')\n",
    "            #Let's plot '*' at the end of each trajectory.\n",
    "            plt.plot(x[-1],v[-1],'*')\n",
    "        plt.grid('on')\n",
    "    # Just in case we want to pull and plot.        \n",
    "    return t, x_t"
   ]
  },
  {
   "cell_type": "code",
   "execution_count": null,
   "metadata": {
    "collapsed": false
   },
   "outputs": [],
   "source": [
    "# Make a grid of starting points\n",
    "numx = 10\n",
    "numv = 10\n",
    "x = np.linspace(-1.25, 1.25, numx)\n",
    "v = np.linspace(-0.9, 0.9, numv)\n",
    "x0, v0 = meshgrid(x, v)\n",
    "x0.shape = (numx*numv,1) # Python array trick to reorganize numbers in an array\n",
    "v0.shape = (numx*numv,1) # The matrices are now \"vectors\" (1 column)\n",
    "_,_ = solve_duffing(max_time=1.25, mu = 0.0, x0 = x0, v0 = v0, alpha = 1)\n",
    "plt.axis((-1.3,1.3,-1,1));"
   ]
  },
  {
   "cell_type": "markdown",
   "metadata": {},
   "source": [
    "#### A couple of longer runs"
   ]
  },
  {
   "cell_type": "code",
   "execution_count": null,
   "metadata": {
    "collapsed": false
   },
   "outputs": [],
   "source": [
    "t, x1 = solve_duffing(max_time=15, mu = 0.0, x0 = np.array([[0]]), v0 = np.array([[0.705]]).T, alpha = 1)\n",
    "t, x2 = solve_duffing(max_time=5, mu = 0.0, x0 = np.array([[0]]), v0 = np.array([[0.71]]).T, alpha = 1)\n",
    "t, x2 = solve_duffing(max_time=8, mu = 0.0, x0 = np.array([[0.1]]), v0 = np.array([[0.1]]).T, alpha = 1)"
   ]
  },
  {
   "cell_type": "markdown",
   "metadata": {},
   "source": [
    "What's going on in the middle?"
   ]
  },
  {
   "cell_type": "code",
   "execution_count": null,
   "metadata": {
    "collapsed": false
   },
   "outputs": [],
   "source": [
    "x = np.linspace(-0.5, 0.5, numx)\n",
    "v = np.linspace(-0.5, 0.5, numv)\n",
    "x0, v0 = meshgrid(x, v)\n",
    "x0.shape = (numx*numv,1)\n",
    "v0.shape = (numx*numv,1)\n",
    "_,_ = solve_duffing(max_time=0.9, mu = 0, x0 = x0, v0 = v0, alpha = 1)\n",
    "plt.axis((-0.5,0.5,-0.5,0.5));"
   ]
  },
  {
   "cell_type": "markdown",
   "metadata": {},
   "source": [
    "So, for in an $\\epsilon = \\sqrt{x^2+v^2}$ in the neighborhood of (0,0), we can find $\\sqrt{x_0^2+v_0^2}<\\delta$ such that the system is Lyapunov stable. "
   ]
  },
  {
   "cell_type": "markdown",
   "metadata": {},
   "source": [
    "What about in the neighborhood of $(1,0)$?"
   ]
  },
  {
   "cell_type": "code",
   "execution_count": null,
   "metadata": {
    "collapsed": false
   },
   "outputs": [],
   "source": [
    "t, x1 = solve_duffing(max_time=45, mu = 0.0, x0 = np.array([[0.999]]), v0 = np.array([[0]]).T, alpha = 1, plotnow = 0)\n",
    "t, x2 = solve_duffing(max_time=5, mu = 0.0, x0 = np.array([[1.001]]), v0 = np.array([[0]]).T, alpha = 1, plotnow = 0)\n",
    "t, x3 = solve_duffing(max_time=3, mu = 0.0, x0 = np.array([[1.1]]), v0 = np.array([[-.1]]).T, alpha = 1, plotnow = 0)\n",
    "plot(x1[0,:,0],x1[0,:,1],'-', x2[0,:,0],x2[0,:,1],'-', x3[0,:,0],x3[0,:,1],'-')\n",
    "plt.plot(x1[0,-1,0],x1[0,-1,1],'*',x2[0,-1,0],x2[0,-1,1],'*',x3[0,-1,0],x3[0,-1,1],'*')\n",
    "plt.grid('on')"
   ]
  },
  {
   "cell_type": "code",
   "execution_count": null,
   "metadata": {
    "collapsed": false
   },
   "outputs": [],
   "source": [
    "x = np.linspace(.999, 1.001, numx)\n",
    "v = np.linspace(-0.001, 0.001, numv)\n",
    "x0, v0 = meshgrid(x, v)\n",
    "x0.shape = (numx*numv,1)\n",
    "v0.shape = (numx*numv,1)\n",
    "_,_ = solve_duffing(max_time=0.9, mu = 0, x0 = x0, v0 = v0, alpha = 1)\n",
    "plt.axis((.999, 1.001, -0.001, 0.001));"
   ]
  },
  {
   "cell_type": "markdown",
   "metadata": {},
   "source": [
    "No $\\delta$ exists such that $\\epsilon$ will be bound for all time. Thus $(1,0)$ is not uniformly stable, or stable in the Lyapunov sense."
   ]
  },
  {
   "cell_type": "markdown",
   "metadata": {},
   "source": [
    "### 1.4.2 Asymptotic Stability \n",
    "\n",
    "#### Maps\n",
    "A solution of a map is stable if\n",
    "$$\\underset{k \\to\\infty}{\\text{lim}}\\lVert\\mathbf{u}_k-\\mathbf{v}_k\\rVert\\to 0$$\n",
    "#### Example 1.12\n",
    "For $$x_{k+1} = 4 \\alpha x_k (1-x_k)$$\n",
    "$0.5$ is Lyapunov stable. It is also asymptotically stable (as illustrated earlier) because the separation between $u_0 = 0.5$ and $v_0=0.4$ goes to $0$ as $k\\to \\infty$.\n",
    "#### Continuous systems \n",
    "Consider the Duffing Oscillator with $\\mu>0$. It is asymptotically stable in the vicinity of $(0,0)$.\n"
   ]
  },
  {
   "cell_type": "code",
   "execution_count": null,
   "metadata": {
    "collapsed": false
   },
   "outputs": [],
   "source": [
    "x = np.linspace(-0.5, 0.5, numx)\n",
    "v = np.linspace(-0.5, 0.5, numv)\n",
    "x0, v0 = meshgrid(x, v)\n",
    "x0.shape = (numx*numv,1)\n",
    "v0.shape = (numx*numv,1)\n",
    "max_time=0.9\n",
    "_,_ = solve_duffing(mu = .2, x0 = x0, v0 = v0)\n",
    "#plt.axis((-0.5,0.5,-0.5,0.5))"
   ]
  },
  {
   "cell_type": "code",
   "execution_count": null,
   "metadata": {
    "collapsed": false
   },
   "outputs": [],
   "source": [
    "def interactive_duff(mu):\n",
    "    _,_ = solve_duffing(mu = mu, x0 = x0, v0 = v0)\n",
    "    return\n",
    "w = interactive(interactive_duff, mu = (0.00,2.00))\n",
    "display(w)"
   ]
  },
  {
   "cell_type": "markdown",
   "metadata": {},
   "source": [
    "### 1.4.3 Poincaré Stability\n",
    "\n",
    "- Prior definition of stability can be overly restrictive. \n",
    "- Consider the closed form solution of the duffing oscillator when $\\mu=0$.\n",
    "$$x\\approx a \\cos\\left[\\left(1 - \\frac{3}{8} a^2\\right) t+\\beta  \\right]$$\n",
    "- Frequency of oscillation $\\omega = \\left(1 - \\frac{3}{8} a^2\\right)$ depends on $a$. Thus, two solutions may start very close, yet still diverge substantially. \n",
    "\n",
    "#### Example: Consider starting points 'o', later points '*', simulated for 7.5 sec."
   ]
  },
  {
   "cell_type": "code",
   "execution_count": null,
   "metadata": {
    "collapsed": false
   },
   "outputs": [],
   "source": [
    "t, x1 = solve_duffing(max_time=7.5, mu = 0.0, x0 = np.array([[0.0]]), v0 = np.array([[0.65]]).T, alpha = 1, plotnow = 0)\n",
    "t, x2 = solve_duffing(max_time=7.5, mu = 0.0, x0 = np.array([[0.0]]), v0 = np.array([[0.6]]).T, alpha = 1, plotnow = 0)\n",
    "plot(x1[0,:,0],x1[0,:,1],'-', x2[0,:,0],x2[0,:,1],'-')\n",
    "plt.plot(x1[0,-1,0],x1[0,-1,1],'*',x2[0,-1,0],x2[0,-1,1],'*')\n",
    "plt.plot(x1[0,0,0],x1[0,0,1],'o',x2[0,0,0],x2[0,0,1],'o')\n",
    "plt.grid('on')"
   ]
  },
  {
   "cell_type": "markdown",
   "metadata": {},
   "source": [
    "Clearly the inner orbit is *outracing* the outer orbit. This doesn't happen in linear systems. "
   ]
  },
  {
   "cell_type": "markdown",
   "metadata": {},
   "source": [
    "**Orbital stability** (Poincaré): An orbit $\\Gamma_1$ is *orbitally stable* if, given a small number $\\epsilon >0$, there exists a $\\delta = \\delta(\\epsilon)>0$ such that if $\\lVert\\mathbf{u}(t=0)-\\mathbf{v}(t=\\tau)\\rVert$ for some $\\tau$, then there exist $t_1$ and $t_2$ for which $\\lVert\\mathbf{u}(t_1)-\\mathbf{v}(t_2)\\rVert<\\epsilon$. Further, if $\\Gamma_2\\to\\Gamma_1$ as $t\\to\\infty$, then $\\Gamma_1$ is asymptotically stable. \n",
    "\n",
    "- For Poincaré stability, we examine how *close* orbits are in the state space.\n",
    "\n",
    "### 1.4.4 Lagrange Stability (Bounded Stability)\n",
    "\n",
    "A solution of a map is *boundedly stable* if $\\lVert\\mathbf{u}_k\\rVert\\leq L$ for all $k\\in \\mathcal{Z}$, where $L$ is a finite positive quantity.\n",
    "\n",
    "A solution $\\mathbf{u}(t)$ of a continuous-time system  is *boundedly stable* if $\\lVert\\mathbf{u}(t)\\rVert\\leq L$ for all $t$, where $L$ is a finite positive quantity.\n"
   ]
  },
  {
   "cell_type": "markdown",
   "metadata": {},
   "source": [
    "### 1.4.5 Stability through Lyapunov Function\n",
    "\n",
    "- Define some equilibrium location $\\mathbf{x} = \\mathbf{x}_0$.\n",
    "- Assume there is a $\\mathcal{C}^1$ scalar function\n",
    "\n",
    "$V(\\mathbf{x};\\mathbf{M})$ in the neighborhood of $\\mathbf{x}_0$ such that:\n",
    "- $V(\\mathbf{x}_0;\\mathbf{M}) = 0$\n",
    "- $V(\\mathbf{x};\\mathbf{M}) >0$ for $\\mathbf{x} \\neq \\mathbf{x}_0$ \n",
    "\n",
    "The function $V$ is called a **Lyapunov Function**. The derivative of $V$ along the curves of $\\dot{\\mathbf{x}}=\\mathbf{F}(\\mathbf{x};\\mathbf{M})$ is $\\dot{V} = \\nabla  V\\cdot \\mathbf{F} =\\nabla V^T\\mathbf{F} $\n",
    "\n",
    "- If $\\dot{V}\\leq 0$ in the chosen neighborhood of $\\mathbf{x}_0$, then $\\mathbf{x}_0$ is **stable**.\n",
    "- If $\\dot{V}< 0$ in the chosen neighborhood of $\\mathbf{x}_0$, then $\\mathbf{x}_0$ is **asymptotically stable**.\n",
    "\n",
    "- For mechanical systems, we often use the mechanical energy. \n",
    "- For Hamiltonian systems, the Hamiltonian may be used. \n",
    "- For general systems, there are no general methods that work. "
   ]
  },
  {
   "cell_type": "markdown",
   "metadata": {},
   "source": [
    "#### Example 1.14\n",
    "\n",
    "Consider the Duffing Oscillator with $a = 1$. \n",
    "\n",
    "$$V(x_1,x_2) = V(x,v) = \\frac{1}{2} x_2^2+\\frac{1}{2}x_1^2-\\frac{1}{4}x_1^4$$\n",
    "\n",
    "Note that $V(0,0) = 0$ amd $V(x_1,x_2)>0$ in the region immediately surrounding $(0,0)$. \n",
    "\n",
    "$$\\nabla V^T = \\left(\\frac{\\partial V}{\\partial x_1}, \\frac{\\partial V}{\\partial x_2} \\right)$$\n",
    "\n",
    "Thus\n",
    "\n",
    "$$\\dot{V} = \\nabla V^T \\mathbf{F} = \\frac{\\partial V}{\\partial x_1}F_1+ \\frac{\\partial V}{\\partial x_2}F_2$$\n",
    "Substituting yields\n",
    "$$\\dot{V} = \\left(x_1 - x_1^3 \\right) x_2 + x_2 \\left(-x_1 + x_1^3 - 2 \\mu x_2\\right) = -2 \\mu x_2^2$$\n",
    "\n",
    "Because $\\dot{V}\\leq 0 $ for $\\mu>0$, this solution is stable according to Lyapunov's first stability theorem. (*Not asymptotically stable.*)\n",
    "\n",
    "This also highlights a shortcoming of this method. Via a variety of other methods, we can show that it is actually asymptotically stable. \n",
    "\n",
    "Lyapunov's second theorem is sufficient, but not necessary, for asymptotic stability. "
   ]
  },
  {
   "cell_type": "markdown",
   "metadata": {},
   "source": [
    "**Krasovskii's theorem**\n",
    "Consider the domain $D_\\ell$:\n",
    "$$D_\\ell = \\left\\{\\mathbf{x}\\vert V(\\mathbf{x})\\leq \\ell\\right\\}$$\n",
    "$$V(\\mathbf{x})>0 \\, \\text{for} \\, \\mathbf{x}\\in D_\\ell \\, \\text{and} \\, \\mathbf{x}\\neq \\mathbf{x}_0$$\n",
    "$$\\dot{V}(\\mathbf{x})\\leq 0 \\, \\text{for}\\,\\mathbf{x}\\in\\,D_\\ell$$\n",
    "\n",
    "If there is no solution $\\mathbf{x}^*(t)$ for $\\dot{\\mathbf{x}} = \\mathbf{F}(\\mathbf{x};\\mathbf{M}_0)$, other than $\\mathbf{x}_0$, which lies completely in $D_\\ell$ and for which $\\dot{V}(\\mathbf{x}^*(t))\\equiv0$, then every solution that starts in $D_\\ell$ tends to $\\mathbf{x}_0$ at $t\\to\\infty$. \n",
    "\n",
    "For example, \n",
    "$$V(x_1,x_2) = V(x,v) = \\frac{1}{2} x_2^2+\\frac{1}{2}x_1^2-\\frac{1}{4}x_1^4$$\n",
    "and taking $D_\\ell$ to be the region \n",
    "$$ \\frac{1}{2} x_2^2+\\frac{1}{2}x_1^2-\\frac{1}{4}x_1^4<\\frac{1}{4}$$\n",
    "one can show that all the conditions of Kraskovskii's theorem are satisfied and hence the origin is an asymptotically stable equilibrium and that $D_\\ell$ is within the domain of attraction of the origin. "
   ]
  },
  {
   "cell_type": "markdown",
   "metadata": {},
   "source": [
    "## 1.5 Attractors\n",
    "Asympotically stable solutions are called *attractors*. \n",
    "\n",
    "In general, let $T^t$ represent an evolution operator that acts on initial consitions $\\mathbf{x}_0$ in $\\mathcal{R}^n$ such that $T^t \\mathbf{x}_0 = \\mathbf{x}(\\mathbf{x}_0,t)$  where $\\mathbf{x}\\in\\mathcal{R}^n$. Repeated applications of $T^t$ may take one to a subspace of $\\mathcal{R}^n$ called an attractor.\n",
    "\n",
    "1. **Invariance**: An attractor $X$ is an invariant set of the flow of the system. Formally, $T^t X \\in X$.\n",
    "2. **Attractivity**: There exists in the neighborhood $U$ of the attractor (i.e., $X \\subset U$) such that evolutions initiated in $U$ remain in $U$ and approach $X$ as $t\\to\\infty$.  Further, $T^t U \\in U$ and $T^t U \\to X$ as $t\\to\\infty$. \n",
    "3. **Recurrence**: Trajectories initiated from a state in an open subset of $X$ repeatedly come arbitrarily close to this initial state for arbitrarily large values of time. \n",
    "4. **Indecomposability**: An attractor cannot be split up into two non-trivial pieces. \n",
    "\n",
    "\n",
    "- Property 3 rules out unstable solutions. \n",
    "- Property 4 is also known as *irreducibility* implies that an attractor cannot be broken down into two distinct smaller attractors. \n",
    "- All attracting *sets* possess the first to properties. Only some attracting sets possess 3 and 4. \n",
    "    - Some unstable solutions can be part of an attracting set.\n",
    "    - More than one attractor can be part of an attracting set. \n",
    "\n",
    "The following satisfies 1.-4. and is a point attractor.\n"
   ]
  },
  {
   "cell_type": "code",
   "execution_count": null,
   "metadata": {
    "collapsed": false
   },
   "outputs": [],
   "source": [
    "x0 = np.random.random((10,1))*2-1\n",
    "v0 = np.random.random((10,1))*2-1\n",
    "_, _ = solve_sdof_n(x0 = x0, v0 = v0, mu = 2)"
   ]
  },
  {
   "cell_type": "markdown",
   "metadata": {},
   "source": [
    "The following (previous example) is a *periodic attractor*."
   ]
  },
  {
   "cell_type": "code",
   "execution_count": null,
   "metadata": {
    "collapsed": false
   },
   "outputs": [],
   "source": [
    "t, x1, v1 = solve_sdof(plotnow = 0)\n",
    "t, x2, v2 = solve_sdof(plotnow = 0, x0 = 1.5)\n",
    "t, x3, v3 = solve_sdof(plotnow = 0, x0 = 0.5)\n",
    "ax = plt.plot(x1,v1,'-',x2,v2,'-',x3,v3,'-')\n",
    "plt.xlabel('x');plt.ylabel('y')\n",
    "plt.grid('on')"
   ]
  },
  {
   "cell_type": "markdown",
   "metadata": {},
   "source": [
    "It is a *dynamic solution*.\n",
    "\n",
    "Two other attractors are: *quasiperiodic* and *chaotic*.\n",
    "\n",
    "A repellor is the opposite of an attractor. "
   ]
  },
  {
   "cell_type": "markdown",
   "metadata": {},
   "source": [
    "## Construction of Phase Planes (Nayfeh and Mook- 1979, section 2.2)\n",
    "\n",
    "Consider equations of the form \n",
    "$$\\ddot{x} + f(x)= 0$$\n",
    "\n",
    "Multiplying by $\\dot{x}$ and integrating with respect to time we get\n",
    "$$\\int\\dot{x}\\ddot{x}dt+\\int f(x)\\dot{x}dt = h$$\n",
    "where $h$ is a constant. Since $\\dot{x}=\\frac{dx}{dt}$ and $\\ddot{x}=\\frac{d\\dot{x}}{dt}$\n",
    "$$\\int\\dot{x}d\\dot{x}+\\int f(x)dx = h$$\n",
    "Performing the integration results in\n",
    "$$\\frac{1}{2}v^2+F(x) = h$$\n",
    "\n",
    "where $v\\equiv \\dot{x}$ and $h$ is a constant. \n",
    "\n",
    "For mechanical systems:\n",
    "- the first term is the kinetic energy\n",
    "- the second term is the potential energy\n",
    "- $h$ is the total mechanical energy. \n",
    "\n",
    "- If we plot lines of constant $h$ as a function of $x$ and $\\dot{x}$, the results are the orbits in the phase plane. \n",
    "- The direction along the line can be ascertained by $v=\\dot{x}$. \n",
    "- Clearly $x$ must be increasing if $v$ is positive. \n",
    "\n",
    "Next, solve for $v$\n",
    "$$\\frac{1}{2}v^2 = h - F(x)$$\n",
    "Also note from the original equation that\n",
    "$$\\dot{v}=-f(x)$$\n",
    "from which\n",
    "\\begin{align}\n",
    "\\frac{dt}{dx}\\frac{dv}{dt}&=-\\frac{dt}{dx}f(x)\\\\\n",
    "\\frac{dt}{dx}\\frac{dv}{dt}&=-\\frac{f(x)}{v}\\\\\n",
    "\\frac{dv}{dx}&=-\\frac{f(x)}{v}\n",
    "\\end{align}\n",
    "Thus, when $\\frac{dv}{dx}=0$, $f(x) = 0$, and when $\\frac{dv}{dx}= \\infty$, $v=0$. \n",
    "\n",
    "When $f(x)=0$ and $v=0$, we are at a singular or equilibrium point.  "
   ]
  },
  {
   "cell_type": "markdown",
   "metadata": {},
   "source": [
    "# Doodling Testing below"
   ]
  },
  {
   "cell_type": "code",
   "execution_count": null,
   "metadata": {
    "collapsed": false
   },
   "outputs": [],
   "source": [
    "def square(num=1):\n",
    "    print(\"{} squared is {}\".format(num, num*num))\n",
    "interact(square, num=5)\n"
   ]
  },
  {
   "cell_type": "code",
   "execution_count": null,
   "metadata": {
    "collapsed": false
   },
   "outputs": [],
   "source": [
    "@interact\n",
    "def square(num=2):\n",
    "    print(\"{} squared is {}\".format(num, num*num))\n"
   ]
  },
  {
   "cell_type": "code",
   "execution_count": null,
   "metadata": {
    "collapsed": false
   },
   "outputs": [],
   "source": [
    "# Path to matlab binary (not application) on my Mac\n",
    "matlab = '/Applications/MATLAB_R2015a.app/bin/matlab'\n",
    "%load_ext pymatbridge"
   ]
  },
  {
   "cell_type": "code",
   "execution_count": null,
   "metadata": {
    "collapsed": false
   },
   "outputs": [],
   "source": [
    "%%matlab\n",
    "i=0:.01:10;\n",
    "plot(i,sin(i))"
   ]
  },
  {
   "cell_type": "code",
   "execution_count": null,
   "metadata": {
    "collapsed": true
   },
   "outputs": [],
   "source": []
  }
 ],
 "metadata": {
  "hide_input": false,
  "kernelspec": {
   "display_name": "Python 3",
   "language": "python",
   "name": "python3"
  },
  "language_info": {
   "codemirror_mode": {
    "name": "ipython",
    "version": 3
   },
   "file_extension": ".py",
   "mimetype": "text/x-python",
   "name": "python",
   "nbconvert_exporter": "python",
   "pygments_lexer": "ipython3",
   "version": "3.4.3"
  },
  "latex_envs": {
   "bibliofile": "biblio.bib",
   "cite_by": "apalike",
   "current_citInitial": 1,
   "eqLabelWithNumbers": true,
   "eqNumInitial": 0
  }
 },
 "nbformat": 4,
 "nbformat_minor": 0
}
