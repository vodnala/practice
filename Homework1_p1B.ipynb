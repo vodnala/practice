{
 "cells": [
  {
   "cell_type": "markdown",
   "metadata": {},
   "source": [
    "# Solution of problem 1B of the first homework assignment. \n",
    "\n",
    "Solve and plot the solution to \n",
    "$$10 \\ddot{x} +\\dot{x} + 100 x = 0$$ with $x_0=5$ and $v_0=2$."
   ]
  },
  {
   "cell_type": "markdown",
   "metadata": {},
   "source": [
    "Note that in this notebook we are using two packages that can overlap. It illustrates why [name space polution](http://josephcslater.github.io/scipy-numpy-matplotlib-pylab.html) is a problem in programming languages. Specifically, ``plot`` behaves very differently in the sympy and matplotlib packages because they are intended to plot different things. So, the name makes sense for both of them, but a good way to choose which one to use is to use the package nickname that we create by something like ``import matplotlib.pylab as plt``, which means that the plot command in ``matplotlib.pylab`` is called ``plt.plot``. In this package, I was a bit sloppy and didn't import sympy with a nickname, so its commands fill the name space, unfortunately. "
   ]
  },
  {
   "cell_type": "code",
   "execution_count": 2,
   "metadata": {
    "collapsed": false
   },
   "outputs": [],
   "source": [
    "%matplotlib inline\n",
    "import scipy as sp\n",
    "from sympy import *\n",
    "from sympy.abc import A, x, v, t, omega, zeta, phi\n",
    "init_printing()"
   ]
  },
  {
   "cell_type": "code",
   "execution_count": 3,
   "metadata": {
    "collapsed": false
   },
   "outputs": [],
   "source": [
    "t, A, phi, omega_d = symbols('t A phi omega_d',real = True)"
   ]
  },
  {
   "cell_type": "code",
   "execution_count": 4,
   "metadata": {
    "collapsed": true
   },
   "outputs": [],
   "source": [
    "m = 10\n",
    "c = 1\n",
    "k = 100"
   ]
  },
  {
   "cell_type": "code",
   "execution_count": 5,
   "metadata": {
    "collapsed": false
   },
   "outputs": [
    {
     "data": {
      "image/png": "[encoded data removed]",
      "text/latex": [
       "$$A e^{- \\omega t \\zeta} \\sin{\\left (\\omega_{d} t + \\phi \\right )}$$"
      ],
      "text/plain": [
       "   -ω⋅t⋅ζ               \n",
       "A⋅ℯ      ⋅sin(ω_d⋅t + φ)"
      ]
     },
     "execution_count": 5,
     "metadata": {},
     "output_type": "execute_result"
    }
   ],
   "source": [
    "x = A * exp(-zeta * omega * t) * sin(omega_d * t + phi)\n",
    "x"
   ]
  },
  {
   "cell_type": "code",
   "execution_count": 6,
   "metadata": {
    "collapsed": true
   },
   "outputs": [],
   "source": [
    "omega = sqrt(k/m)\n",
    "zeta = c/m/2/omega\n",
    "omega_d = omega * sqrt(1 - zeta**2)"
   ]
  },
  {
   "cell_type": "code",
   "execution_count": 7,
   "metadata": {
    "collapsed": false,
    "scrolled": true
   },
   "outputs": [
    {
     "data": {
      "image/png": "[encoded data removed]",
      "text/latex": [
       "$$A e^{- 0.05 t} \\sin{\\left (\\phi + 3.16188235075248 t \\right )}$$"
      ],
      "text/plain": [
       "   -0.05⋅t                            \n",
       "A⋅ℯ       ⋅sin(φ + 3.16188235075248⋅t)"
      ]
     },
     "execution_count": 7,
     "metadata": {},
     "output_type": "execute_result"
    }
   ],
   "source": [
    "x = A * exp(-zeta * omega * t) * sin(omega_d * t + phi)\n",
    "x"
   ]
  },
  {
   "cell_type": "code",
   "execution_count": 8,
   "metadata": {
    "collapsed": false
   },
   "outputs": [
    {
     "data": {
      "image/png": "[encoded data removed]",
      "text/latex": [
       "$$- 0.05 A e^{- 0.05 t} \\sin{\\left (\\phi + 3.16188235075248 t \\right )} + 3.16188235075248 A e^{- 0.05 t} \\cos{\\left (\\phi + 3.16188235075248 t \\right )}$$"
      ],
      "text/plain": [
       "             -0.05⋅t                                                   -0.05⋅t\n",
       "- - -0.05⋅A⋅ℯ       ⋅sin(φ + 3.16188235075248⋅t) + 3.16188235075248⋅A⋅ℯ       \n",
       "\n",
       "                            \n",
       "⋅cos(φ + 3.16188235075248⋅t)"
      ]
     },
     "execution_count": 8,
     "metadata": {},
     "output_type": "execute_result"
    }
   ],
   "source": [
    "v = diff(x,t)\n",
    "v"
   ]
  },
  {
   "cell_type": "code",
   "execution_count": 9,
   "metadata": {
    "collapsed": false
   },
   "outputs": [
    {
     "data": {
      "image/png": "[encoded data removed]",
      "text/latex": [
       "$$A \\sin{\\left (\\phi \\right )}$$"
      ],
      "text/plain": [
       "A⋅sin(φ)"
      ]
     },
     "execution_count": 9,
     "metadata": {},
     "output_type": "execute_result"
    }
   ],
   "source": [
    "x.subs(t,0)"
   ]
  },
  {
   "cell_type": "code",
   "execution_count": 10,
   "metadata": {
    "collapsed": false
   },
   "outputs": [
    {
     "data": {
      "image/png": "[encoded data removed]",
      "text/latex": [
       "$$- 0.05 A \\sin{\\left (\\phi \\right )} + 3.16188235075248 A \\cos{\\left (\\phi \\right )}$$"
      ],
      "text/plain": [
       "-- -0.05⋅A⋅sin(φ) + 3.16188235075248⋅A⋅cos(φ)"
      ]
     },
     "execution_count": 10,
     "metadata": {},
     "output_type": "execute_result"
    }
   ],
   "source": [
    "v.subs(t,0)"
   ]
  },
  {
   "cell_type": "code",
   "execution_count": 11,
   "metadata": {
    "collapsed": false
   },
   "outputs": [
    {
     "data": {
      "image/png": "[encoded data removed]",
      "text/latex": [
       "$$\\left [ \\left ( -5.05038380661792, \\quad -1.7121672220397\\right ), \\quad \\left ( 5.05038380661792, \\quad 1.42942543155009\\right )\\right ]$$"
      ],
      "text/plain": [
       "[(-5.05038380661792, -1.7121672220397), (5.05038380661792, 1.42942543155009)]"
      ]
     },
     "execution_count": 11,
     "metadata": {},
     "output_type": "execute_result"
    }
   ],
   "source": [
    "constants = solve([x.subs(t,0) - 5,v.subs(t,0)-2], [A, phi])\n",
    "constants"
   ]
  },
  {
   "cell_type": "code",
   "execution_count": 12,
   "metadata": {
    "collapsed": false
   },
   "outputs": [],
   "source": [
    "(A1, phi1), (A2, phi2) = constants\n"
   ]
  },
  {
   "cell_type": "code",
   "execution_count": 13,
   "metadata": {
    "collapsed": false
   },
   "outputs": [
    {
     "data": {
      "image/png": "[encoded data removed]",
      "text/latex": [
       "$$\\mathrm{False}$$"
      ],
      "text/plain": [
       "False"
      ]
     },
     "execution_count": 13,
     "metadata": {},
     "output_type": "execute_result"
    }
   ],
   "source": [
    "Eq(x.subs([(t, 0), (A, A1), (phi,phi1)]), 5)"
   ]
  },
  {
   "cell_type": "code",
   "execution_count": 14,
   "metadata": {
    "collapsed": false
   },
   "outputs": [
    {
     "data": {
      "image/png": "[encoded data removed]",
      "text/latex": [
       "$$\\mathrm{False}$$"
      ],
      "text/plain": [
       "False"
      ]
     },
     "execution_count": 14,
     "metadata": {},
     "output_type": "execute_result"
    }
   ],
   "source": [
    "Eq(v.subs([(t, 0), (A, A1), (phi,phi1)]),2)"
   ]
  },
  {
   "cell_type": "markdown",
   "metadata": {},
   "source": [
    "Odd. Let's look at how far apart they are. "
   ]
  },
  {
   "cell_type": "code",
   "execution_count": 15,
   "metadata": {
    "collapsed": false
   },
   "outputs": [
    {
     "data": {
      "image/png": "[encoded data removed]",
      "text/latex": [
       "$$-1.33226762955019 \\cdot 10^{-15}$$"
      ],
      "text/plain": [
       "-1.33226762955019e-15"
      ]
     },
     "execution_count": 15,
     "metadata": {},
     "output_type": "execute_result"
    }
   ],
   "source": [
    "v.subs([(t, 0), (A, A1), (phi,phi1)]) - 2.0"
   ]
  },
  {
   "cell_type": "markdown",
   "metadata": {},
   "source": [
    "So they aren't really that far apart. "
   ]
  },
  {
   "cell_type": "code",
   "execution_count": 16,
   "metadata": {
    "collapsed": false,
    "scrolled": true
   },
   "outputs": [
    {
     "data": {
      "image/png": "[encoded data removed]",
      "text/plain": [
       "<matplotlib.figure.Figure at 0x1047aa630>"
      ]
     },
     "metadata": {},
     "output_type": "display_data"
    },
    {
     "data": {
      "text/plain": [
       "<sympy.plotting.plot.Plot at 0x1047aa668>"
      ]
     },
     "execution_count": 16,
     "metadata": {},
     "output_type": "execute_result"
    }
   ],
   "source": [
    "plot(A1 *exp(-zeta*omega*t)*sin(omega_d*t+phi1),(t,0,50))"
   ]
  },
  {
   "cell_type": "code",
   "execution_count": 17,
   "metadata": {
    "collapsed": true
   },
   "outputs": [],
   "source": [
    "a = 1 + 1j"
   ]
  },
  {
   "cell_type": "code",
   "execution_count": 18,
   "metadata": {
    "collapsed": true
   },
   "outputs": [],
   "source": [
    "b = 1 - 1j"
   ]
  },
  {
   "cell_type": "code",
   "execution_count": 19,
   "metadata": {
    "collapsed": false
   },
   "outputs": [
    {
     "data": {
      "image/png": "[encoded data removed]",
      "text/plain": [
       "<matplotlib.figure.Figure at 0x104bc4470>"
      ]
     },
     "metadata": {},
     "output_type": "display_data"
    }
   ],
   "source": [
    "import matplotlib.pyplot as plt\n",
    "plt.plot(sp.real(a),sp.imag(a),'*')\n",
    "plt.plot(sp.real(b),sp.imag(b),'o')\n",
    "plt.grid('on')\n",
    "plt.ylabel('Imaginary')\n",
    "plt.xlabel('Real')\n",
    "plt.axis((-1,1.2,-2,2));"
   ]
  },
  {
   "cell_type": "markdown",
   "metadata": {},
   "source": [
    "Alternatively"
   ]
  },
  {
   "cell_type": "code",
   "execution_count": 20,
   "metadata": {
    "collapsed": false
   },
   "outputs": [
    {
     "data": {
      "image/png": "[encoded data removed]",
      "text/plain": [
       "<matplotlib.figure.Figure at 0x104c45278>"
      ]
     },
     "metadata": {},
     "output_type": "display_data"
    }
   ],
   "source": [
    "plt.plot(a.real,a.imag,'*')\n",
    "plt.plot(b.real,b.imag,'o')\n",
    "plt.grid('on')\n",
    "plt.ylabel('Imaginary')\n",
    "plt.xlabel('Real')\n",
    "plt.axis((-1,1.2,-2,2));"
   ]
  },
  {
   "cell_type": "code",
   "execution_count": null,
   "metadata": {
    "collapsed": true
   },
   "outputs": [],
   "source": []
  }
 ],
 "metadata": {
  "kernelspec": {
   "display_name": "Python 3",
   "language": "python",
   "name": "python3"
  },
  "language_info": {
   "codemirror_mode": {
    "name": "ipython",
    "version": 3
   },
   "file_extension": ".py",
   "mimetype": "text/x-python",
   "name": "python",
   "nbconvert_exporter": "python",
   "pygments_lexer": "ipython3",
   "version": "3.4.3"
  }
 },
 "nbformat": 4,
 "nbformat_minor": 0
}
