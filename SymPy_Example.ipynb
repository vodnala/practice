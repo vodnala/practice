{
 "cells": [
  {
   "cell_type": "code",
   "execution_count": 2,
   "metadata": {
    "collapsed": false
   },
   "outputs": [],
   "source": [
    "from sympy import *\n",
    "from sympy.matrices import *"
   ]
  },
  {
   "cell_type": "code",
   "execution_count": 3,
   "metadata": {
    "collapsed": false
   },
   "outputs": [],
   "source": [
    "from sympy.abc import x, F, f, u, l, a, k, y, delta\n",
    "init_printing()"
   ]
  },
  {
   "cell_type": "code",
   "execution_count": 4,
   "metadata": {
    "collapsed": false
   },
   "outputs": [],
   "source": [
    "x, F, f, u, l, a, k, y, delta_x= symbols(\"x F f u l a k y delta_x\", real = True)"
   ]
  },
  {
   "cell_type": "code",
   "execution_count": 5,
   "metadata": {
    "collapsed": false
   },
   "outputs": [],
   "source": [
    "F =u**2/2+l*ln((a-u))"
   ]
  },
  {
   "cell_type": "code",
   "execution_count": 6,
   "metadata": {
    "collapsed": false
   },
   "outputs": [
    {
     "data": {
      "image/png": "[encoded data removed]",
      "text/latex": [
       "$$- \\frac{l}{a - u} + u$$"
      ],
      "text/plain": [
       "    l      \n",
       "- ───── + u\n",
       "  a - u    "
      ]
     },
     "execution_count": 6,
     "metadata": {},
     "output_type": "execute_result"
    }
   ],
   "source": [
    "f = diff(F,u)\n",
    "f"
   ]
  },
  {
   "cell_type": "code",
   "execution_count": 7,
   "metadata": {
    "collapsed": false
   },
   "outputs": [
    {
     "data": {
      "image/png": "[encoded data removed]",
      "text/latex": [
       "$$l \\log{\\left (- a + u \\right )} + \\frac{u^{2}}{2}$$"
      ],
      "text/plain": [
       "                 2\n",
       "                u \n",
       "l⋅log(-a + u) + ──\n",
       "                2 "
      ]
     },
     "execution_count": 7,
     "metadata": {},
     "output_type": "execute_result"
    }
   ],
   "source": [
    "PE = integrate(f, u)\n",
    "PE"
   ]
  },
  {
   "cell_type": "code",
   "execution_count": 8,
   "metadata": {
    "collapsed": false
   },
   "outputs": [
    {
     "data": {
      "image/png": "[encoded data removed]",
      "text/latex": [
       "$$\\left [ \\frac{a}{2} - \\frac{1}{2} \\sqrt{a^{2} - 4 l}, \\quad \\frac{a}{2} + \\frac{1}{2} \\sqrt{a^{2} - 4 l}\\right ]$$"
      ],
      "text/plain": [
       "⎡       __________         __________⎤\n",
       "⎢      ╱  2               ╱  2       ⎥\n",
       "⎢a   ╲╱  a  - 4⋅l   a   ╲╱  a  - 4⋅l ⎥\n",
       "⎢─ - ─────────────, ─ + ─────────────⎥\n",
       "⎣2         2        2         2      ⎦"
      ]
     },
     "execution_count": 8,
     "metadata": {},
     "output_type": "execute_result"
    }
   ],
   "source": [
    "solve(f,u)"
   ]
  },
  {
   "cell_type": "code",
   "execution_count": 9,
   "metadata": {
    "collapsed": false
   },
   "outputs": [
    {
     "data": {
      "image/png": "[encoded data removed]",
      "text/latex": [
       "$$\\left[\\begin{matrix}k x y\\\\x^{2} - y\\end{matrix}\\right]$$"
      ],
      "text/plain": [
       "⎡k⋅x⋅y ⎤\n",
       "⎢      ⎥\n",
       "⎢ 2    ⎥\n",
       "⎣x  - y⎦"
      ]
     },
     "execution_count": 9,
     "metadata": {},
     "output_type": "execute_result"
    }
   ],
   "source": [
    "F = Matrix([[k*x*y],[-y+x**2]])\n",
    "F"
   ]
  },
  {
   "cell_type": "code",
   "execution_count": 10,
   "metadata": {
    "collapsed": false
   },
   "outputs": [
    {
     "data": {
      "image/png": "[encoded data removed]",
      "text/latex": [
       "$$\\left[\\begin{matrix}x\\\\y\\end{matrix}\\right]$$"
      ],
      "text/plain": [
       "⎡x⎤\n",
       "⎢ ⎥\n",
       "⎣y⎦"
      ]
     },
     "execution_count": 10,
     "metadata": {},
     "output_type": "execute_result"
    }
   ],
   "source": [
    "X = Matrix([[x],[y]])\n",
    "X"
   ]
  },
  {
   "cell_type": "code",
   "execution_count": 11,
   "metadata": {
    "collapsed": false
   },
   "outputs": [
    {
     "data": {
      "image/png": "[encoded data removed]",
      "text/latex": [
       "$$\\left[\\begin{matrix}0 & \\delta_{x} k\\\\2 \\delta_{x} & -1\\end{matrix}\\right]$$"
      ],
      "text/plain": [
       "⎡ 0    δₓ⋅k⎤\n",
       "⎢          ⎥\n",
       "⎣2⋅δₓ   -1 ⎦"
      ]
     },
     "execution_count": 11,
     "metadata": {},
     "output_type": "execute_result"
    }
   ],
   "source": [
    "Fm = F.jacobian(X).subs({x:delta_x,y:0})\n",
    "Fm"
   ]
  },
  {
   "cell_type": "code",
   "execution_count": 12,
   "metadata": {
    "collapsed": false
   },
   "outputs": [
    {
     "data": {
      "image/png": "[encoded data removed]",
      "text/latex": [
       "$$\\left \\{ - \\frac{1}{2} \\sqrt{8 \\delta_{x}^{2} k + 1} - \\frac{1}{2} : 1, \\quad \\frac{1}{2} \\sqrt{8 \\delta_{x}^{2} k + 1} - \\frac{1}{2} : 1\\right \\}$$"
      ],
      "text/plain": [
       "⎧     _____________            _____________       ⎫\n",
       "⎪    ╱     2                  ╱     2              ⎪\n",
       "⎨  ╲╱  8⋅δₓ ⋅k + 1    1     ╲╱  8⋅δₓ ⋅k + 1    1   ⎬\n",
       "⎪- ──────────────── - ─: 1, ──────────────── - ─: 1⎪\n",
       "⎩         2           2            2           2   ⎭"
      ]
     },
     "execution_count": 12,
     "metadata": {},
     "output_type": "execute_result"
    }
   ],
   "source": [
    "Fm.eigenvals()"
   ]
  },
  {
   "cell_type": "code",
   "execution_count": 13,
   "metadata": {
    "collapsed": false
   },
   "outputs": [
    {
     "data": {
      "image/png": "[encoded data removed]",
      "text/latex": [
       "$$\\left [ \\left ( - \\frac{1}{2} \\sqrt{8 \\delta_{x}^{2} k + 1} - \\frac{1}{2}, \\quad 1, \\quad \\left [ \\left[\\begin{matrix}- \\frac{\\delta_{x} k}{\\frac{1}{2} \\sqrt{8 \\delta_{x}^{2} k + 1} + \\frac{1}{2}}\\\\1\\end{matrix}\\right]\\right ]\\right ), \\quad \\left ( \\frac{1}{2} \\sqrt{8 \\delta_{x}^{2} k + 1} - \\frac{1}{2}, \\quad 1, \\quad \\left [ \\left[\\begin{matrix}- \\frac{\\delta_{x} k}{- \\frac{1}{2} \\sqrt{8 \\delta_{x}^{2} k + 1} + \\frac{1}{2}}\\\\1\\end{matrix}\\right]\\right ]\\right )\\right ]$$"
      ],
      "text/plain": [
       "⎡⎛     _____________                                 ⎞  ⎛   _____________     \n",
       "⎢⎜    ╱     2                                        ⎟  ⎜  ╱     2            \n",
       "⎢⎜  ╲╱  8⋅δₓ ⋅k + 1    1     ⎡⎡       -δₓ⋅k        ⎤⎤⎟  ⎜╲╱  8⋅δₓ ⋅k + 1    1 \n",
       "⎢⎜- ──────────────── - ─, 1, ⎢⎢────────────────────⎥⎥⎟, ⎜──────────────── - ─,\n",
       "⎢⎜         2           2     ⎢⎢   _____________    ⎥⎥⎟  ⎜       2           2 \n",
       "⎢⎜                           ⎢⎢  ╱     2           ⎥⎥⎟  ⎜                     \n",
       "⎢⎜                           ⎢⎢╲╱  8⋅δₓ ⋅k + 1    1⎥⎥⎟  ⎜                     \n",
       "⎢⎜                           ⎢⎢──────────────── + ─⎥⎥⎟  ⎜                     \n",
       "⎢⎜                           ⎢⎢       2           2⎥⎥⎟  ⎜                     \n",
       "⎢⎜                           ⎢⎢                    ⎥⎥⎟  ⎜                     \n",
       "⎣⎝                           ⎣⎣         1          ⎦⎦⎠  ⎝                     \n",
       "\n",
       "                              ⎞⎤\n",
       "                              ⎟⎥\n",
       "    ⎡⎡        -δₓ⋅k         ⎤⎤⎟⎥\n",
       " 1, ⎢⎢──────────────────────⎥⎥⎟⎥\n",
       "    ⎢⎢     _____________    ⎥⎥⎟⎥\n",
       "    ⎢⎢    ╱     2           ⎥⎥⎟⎥\n",
       "    ⎢⎢  ╲╱  8⋅δₓ ⋅k + 1    1⎥⎥⎟⎥\n",
       "    ⎢⎢- ──────────────── + ─⎥⎥⎟⎥\n",
       "    ⎢⎢         2           2⎥⎥⎟⎥\n",
       "    ⎢⎢                      ⎥⎥⎟⎥\n",
       "    ⎣⎣          1           ⎦⎦⎠⎦"
      ]
     },
     "execution_count": 13,
     "metadata": {},
     "output_type": "execute_result"
    }
   ],
   "source": [
    "vals = Fm.eigenvects()\n",
    "vals"
   ]
  },
  {
   "cell_type": "code",
   "execution_count": 14,
   "metadata": {
    "collapsed": false
   },
   "outputs": [],
   "source": [
    "(val1,n,[vect1]),(val2,n2,[vect2])=vals"
   ]
  },
  {
   "cell_type": "code",
   "execution_count": 15,
   "metadata": {
    "collapsed": false
   },
   "outputs": [
    {
     "data": {
      "image/png": "[encoded data removed]",
      "text/latex": [
       "$$- \\frac{1}{2} \\sqrt{8 \\delta_{x}^{2} k + 1} - \\frac{1}{2}$$"
      ],
      "text/plain": [
       "     _____________    \n",
       "    ╱     2           \n",
       "  ╲╱  8⋅δₓ ⋅k + 1    1\n",
       "- ──────────────── - ─\n",
       "         2           2"
      ]
     },
     "execution_count": 15,
     "metadata": {},
     "output_type": "execute_result"
    }
   ],
   "source": [
    "val1"
   ]
  },
  {
   "cell_type": "code",
   "execution_count": 16,
   "metadata": {
    "collapsed": false
   },
   "outputs": [
    {
     "data": {
      "text/plain": [
       "'- \\\\frac{1}{2} \\\\sqrt{8 \\\\delta_{x}^{2} k + 1} - \\\\frac{1}{2}'"
      ]
     },
     "execution_count": 16,
     "metadata": {},
     "output_type": "execute_result"
    }
   ],
   "source": [
    "latex(val1)"
   ]
  },
  {
   "cell_type": "code",
   "execution_count": 17,
   "metadata": {
    "collapsed": false
   },
   "outputs": [
    {
     "data": {
      "image/png": "[encoded data removed]",
      "text/latex": [
       "$$\\left[\\begin{matrix}- \\frac{\\delta_{x} k}{\\frac{1}{2} \\sqrt{8 \\delta_{x}^{2} k + 1} + \\frac{1}{2}}\\\\1\\end{matrix}\\right]$$"
      ],
      "text/plain": [
       "⎡       -δₓ⋅k        ⎤\n",
       "⎢────────────────────⎥\n",
       "⎢   _____________    ⎥\n",
       "⎢  ╱     2           ⎥\n",
       "⎢╲╱  8⋅δₓ ⋅k + 1    1⎥\n",
       "⎢──────────────── + ─⎥\n",
       "⎢       2           2⎥\n",
       "⎢                    ⎥\n",
       "⎣         1          ⎦"
      ]
     },
     "execution_count": 17,
     "metadata": {},
     "output_type": "execute_result"
    }
   ],
   "source": [
    "vect1"
   ]
  },
  {
   "cell_type": "code",
   "execution_count": 18,
   "metadata": {
    "collapsed": false
   },
   "outputs": [
    {
     "data": {
      "image/png": "[encoded data removed]",
      "text/latex": [
       "$$\\frac{1}{2} \\sqrt{8 \\delta_{x}^{2} k + 1} - \\frac{1}{2}$$"
      ],
      "text/plain": [
       "   _____________    \n",
       "  ╱     2           \n",
       "╲╱  8⋅δₓ ⋅k + 1    1\n",
       "──────────────── - ─\n",
       "       2           2"
      ]
     },
     "execution_count": 18,
     "metadata": {},
     "output_type": "execute_result"
    }
   ],
   "source": [
    "val2"
   ]
  },
  {
   "cell_type": "code",
   "execution_count": 19,
   "metadata": {
    "collapsed": false
   },
   "outputs": [
    {
     "data": {
      "text/plain": [
       "'\\\\frac{1}{2} \\\\sqrt{8 \\\\delta_{x}^{2} k + 1} - \\\\frac{1}{2}'"
      ]
     },
     "execution_count": 19,
     "metadata": {},
     "output_type": "execute_result"
    }
   ],
   "source": [
    "latex(val2)"
   ]
  },
  {
   "cell_type": "code",
   "execution_count": 20,
   "metadata": {
    "collapsed": false
   },
   "outputs": [
    {
     "data": {
      "image/png": "[encoded data removed]",
      "text/latex": [
       "$$\\left[\\begin{matrix}- \\frac{\\delta_{x} k}{- \\frac{1}{2} \\sqrt{8 \\delta_{x}^{2} k + 1} + \\frac{1}{2}}\\\\1\\end{matrix}\\right]$$"
      ],
      "text/plain": [
       "⎡        -δₓ⋅k         ⎤\n",
       "⎢──────────────────────⎥\n",
       "⎢     _____________    ⎥\n",
       "⎢    ╱     2           ⎥\n",
       "⎢  ╲╱  8⋅δₓ ⋅k + 1    1⎥\n",
       "⎢- ──────────────── + ─⎥\n",
       "⎢         2           2⎥\n",
       "⎢                      ⎥\n",
       "⎣          1           ⎦"
      ]
     },
     "execution_count": 20,
     "metadata": {},
     "output_type": "execute_result"
    }
   ],
   "source": [
    "vect2"
   ]
  }
 ],
 "metadata": {
  "kernelspec": {
   "display_name": "Python 3",
   "language": "python",
   "name": "python3"
  },
  "language_info": {
   "codemirror_mode": {
    "name": "ipython",
    "version": 3
   },
   "file_extension": ".py",
   "mimetype": "text/x-python",
   "name": "python",
   "nbconvert_exporter": "python",
   "pygments_lexer": "ipython3",
   "version": "3.4.3"
  },
  "latex_envs": {
   "bibliofile": "biblio.bib",
   "cite_by": "apalike",
   "current_citInitial": 1,
   "eqLabelWithNumbers": true,
   "eqNumInitial": 0
  }
 },
 "nbformat": 4,
 "nbformat_minor": 0
}
