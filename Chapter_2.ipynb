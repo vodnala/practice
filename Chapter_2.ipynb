{
 "cells": [
  {
   "cell_type": "markdown",
   "metadata": {},
   "source": [
    "<header>\n",
    "Nonlinear Dynamics and Oscillations: \n",
    "====================================\n",
    "</header>\n",
    "Joseph C. Slater\n",
    "\n",
    "Based on *Applied Nonlinear Dynamics: Analytical, Computational, and Experimental Methods* by Ali H. Nayfeh and Balakumar Balachandran"
   ]
  },
  {
   "cell_type": "code",
   "execution_count": null,
   "metadata": {
    "collapsed": false,
    "input_collapsed": false
   },
   "outputs": [],
   "source": [
    "%matplotlib inline\n",
    "%run Nonlinear_Dynamics\n",
    "med_res()\n"
   ]
  },
  {
   "cell_type": "markdown",
   "metadata": {},
   "source": [
    "# Chapter 2: Equilibrium Solutions\n",
    "\n",
    "- Also called *fixed-point solutions*\n",
    "\n",
    "In this chapter, we will be considering:\n",
    "- Stability of fixed points\n",
    "- Local and global bifurcations"
   ]
  },
  {
   "cell_type": "markdown",
   "metadata": {
    "collapsed": true
   },
   "source": [
    "## 2.1 Continuous-Time Systems\n",
    "\n",
    "Consider \n",
    "$$\\dot{\\mathbf{x}}=\\mathbf{F}(\\mathbf{x};\\mathbf{M})$$\n",
    "The fixed points are at $\\dot{\\mathbf{x}}=\\mathbf{0}$, or\n",
    "$${\\mathbf{0}}=\\mathbf{F}(\\mathbf{x};\\mathbf{M})$$\n",
    "This is called (also) a **singular point**. Also called:\n",
    "- Stationary solutions\n",
    "- Critical points\n",
    "- Constant solutions\n",
    "- Steady-state solutions\n",
    "\n",
    "Physically, these are *equilibrium points* of the system. \n",
    "\n",
    "### 2.1.1 Linearization near an Equilibrium Solution\n",
    "\n",
    "If the solution when $\\mathbf{M}=\\mathbf{M}_0$ is $\\mathbf{x}_0$, the stability can be determined by linearizing about $\\mathbf{x}_0$. \n",
    "\n",
    "Define\n",
    "$$\\mathbf{x}(t) = \\mathbf{x}_0+\\mathbf{y}(t)$$\n",
    "Substituting\n",
    "$$\\dot{\\mathbf{y}}=\\mathbf{F}(\\mathbf{x}_0+\\mathbf{y};\\mathbf{M}_0)$$\n",
    "\n",
    "The fixed point is now at $\\mathbf{y} = \\mathbf{0}$\n",
    "\n",
    "Assuming $\\mathbf{F}$ is at least $\\mathcal{C}^2$, we can apply a Taylor Series to obtain\n",
    "$$\\dot{\\mathbf{y}}= \\mathbf{F}(\\mathbf{x}_0;\\mathbf{M}_0)+D_\\mathbf{x}\\mathbf{F}(\\mathbf{x}_0;\\mathbf{M}_0)\\mathbf{y}+O(||\\mathbf{y}||^2)$$\n",
    "\n",
    "where $\\mathbf{F}(\\mathbf{x}_0;\\mathbf{M}_0)$ disappears because we started with $\\mathbf{F}(\\mathbf{x}_0;\\mathbf{M}_0)=0$\n",
    "\n",
    "More simply:\n",
    "$$\\dot{\\mathbf{y}}\\approx A\\mathbf{y}$$\n",
    "\n",
    "Where $A$ is the *Jacobian matrix*\n",
    "\n",
    "$$A=\\begin{bmatrix}\n",
    "\\frac{\\partial F_1}{\\partial x_1}&\\frac{\\partial F_1}{\\partial x_2}&\\cdots&\\frac{\\partial F_1}{\\partial x_n}\\\\\n",
    "\\frac{\\partial F_2}{\\partial x_1}&\\frac{\\partial F_2}{\\partial x_2}&\\cdots&\\frac{\\partial F_2}{\\partial x_n}\\\\\n",
    "\\vdots&\\vdots&\\ddots&\\vdots\\\\\n",
    "\\frac{\\partial F_n}{\\partial x_1}&\\frac{\\partial F_n}{\\partial x_2}&\\cdots&\\frac{\\partial F_n}{\\partial x_n}\\\\\n",
    "\\end{bmatrix}\n",
    "$$\n",
    "\n",
    "The eigenvalues of $A$ tell us about the stability of this equilibrium point. The solution for \n",
    "\n"
   ]
  },
  {
   "cell_type": "markdown",
   "metadata": {},
   "source": [
    "The solution for $\\mathbf{y}(t)$ can be expressed as\n",
    "$$\\mathbf{y}(t) = e^{(t-t_0)A}\\mathbf{y}_0$$\n",
    "where\n",
    "$$e^{(t-t_0)A} = \\sum_{j=0}^\\infty \\frac{(t-t_0)^j}{j!}A^j$$\n",
    "is the matrix exponential. \n",
    "\n",
    "If the eigenvalues are distinct (unique), then there exists a matrix such that $P^{-1}AP=D$ where $D$ is a diagonal matrix\n",
    "\n",
    "$$D = \\begin{bmatrix}\n",
    "\\lambda_1 & 0          & \\cdots & 0          \\\\\n",
    "0          & \\lambda_2 & \\cdots & 0          \\\\\n",
    "\\vdots     & \\vdots     & \\ddots & \\vdots     \\\\\n",
    "0          & 0          &        & \\lambda_n\n",
    "\\end{bmatrix}\n",
    "$$\n",
    "\n",
    "and also\n",
    "$$AP=PD$$\n",
    "Introducing $\\mathbf{y} = P \\mathbf{v}$ yields\n",
    "$$\\dot{\\mathbf{y}} = A\\mathbf{y}(t)$$\n",
    "$$P\\dot{\\mathbf{v}} = AP\\mathbf{v}(t)$$\n",
    "or\n",
    "$$\\dot{\\mathbf{v}} = P^{-1}AP\\mathbf{v} = D \\mathbf{v}$$\n",
    "\n",
    "Thus\n",
    "\n",
    "$$\\mathbf{v} = e^{(t-t_0)D}\\mathbf{v}_0$$\n",
    "\n",
    "The matrix $e^{(t-t_0)D}$ is a diagonal matrix with values $e^{(t-t_0)\\lambda_i}$. \n",
    "\n",
    "- Eigenvalues are also called the **characteristic exponents**. \n"
   ]
  },
  {
   "cell_type": "markdown",
   "metadata": {},
   "source": [
    "If the eigenvalues are not distinct, $P^{-1}AP=J$ where $J$ is a block diagonal matrix of the form\n",
    "\n",
    "$$\n",
    "J = \\begin{bmatrix}\n",
    "[J_1] & 0          & \\cdots & 0          \\\\\n",
    "0          & [J_2] & \\cdots & 0          \\\\\n",
    "\\vdots     & \\vdots     & \\ddots & \\vdots     \\\\\n",
    "0          & 0          &        & [J_k]\n",
    "\\end{bmatrix}\n",
    "$$\n",
    "\n",
    "where\n",
    "\n",
    "$$\n",
    "\\left[J_{m}\\right]\n",
    "=\n",
    "\\begin{bmatrix}\n",
    "\\lambda_m & 1          & 0        &\\cdots & 0          \\\\\n",
    "0          & \\lambda_m  & 1        & \\cdots& 0          \\\\\n",
    "0          & 0          &\\lambda_m & \\cdots & 0          \\\\\n",
    "\\vdots     & \\vdots     & \\vdots   &\\ddots   & \\vdots     \\\\\n",
    "0          & 0          &  0       & \\cdots  &   \\lambda_m\n",
    "\\end{bmatrix}\n",
    "$$\n",
    "\n",
    "Here:\n",
    "- $m$ is the number of time the eigenvalue is repeated\n",
    "- the system has $k$ unique eigenvalues. \n",
    "- $P$ are the generalized eigenvectors corresponding to $\\lambda_i$ of $A$\n",
    "\n"
   ]
  },
  {
   "cell_type": "markdown",
   "metadata": {},
   "source": [
    "### Classification and Stability of Equilibrium Solutions\n",
    "\n",
    "- If eigenvalues all have non-zero real parts: **hyperbolic fixed point**\n",
    "- Otherwise: **nonhyperbolic fixed point**. \n",
    "\n",
    "Hyperbolic fixed points (all have real parts):\n",
    "- **sinks**: All eigenvalues have negative real parts. \n",
    "    - **stable focus**: complex parts\n",
    "    - **stable node**: no complex parts\n",
    "- **sources**: One or more have positive real parts. \n",
    "    - **unstable focus**: complex parts.\n",
    "    - **unstable node**: no complex parts\n",
    "- **saddles**: Some positive real parts, some negative real parts\n",
    "\n",
    "Nonhyperbolic fixed points (some eigenvalues without real part):\n",
    "- **unstable** if one or more eigenvalues has positive real part.\n",
    "- **neutrally** or **marginally stable** if some have negative real parts, the rest have no real part. \n",
    "- **center** all eigenvalues are purely imaginary. \n",
    "\n",
    "Eigenvalues with a zero real part give rise to a *center manifold*. Let's put that aside for now."
   ]
  },
  {
   "cell_type": "markdown",
   "metadata": {},
   "source": [
    "#### Example 2.1\n",
    "Consider the Duffing Oscillator again. Fixed points are $(-1,0)$, $(0,0)$, and $(1,0)$. \n",
    "\n",
    "Linearizing around the points yields\n",
    "\n",
    "$$\n",
    "\\dot{\\mathbf{y}} = \n",
    "\\begin{bmatrix}\n",
    "0&1\\\\\n",
    "-1+3x_1^2&-2\\mu\n",
    "\\end{bmatrix}\\mathbf{y}$$\n",
    "\n",
    "The eigenvalues are\n",
    "$\\lambda_1 = -\\mu-\\sqrt{\\mu^2-1+3x_1^2}$ and $\\lambda_2 = -\\mu+\\sqrt{\\mu^2-1+3x_1^2}$\n",
    "\n",
    "For all fixed points, both eigenvalues have nonzero real values when $\\mu\\neq 0$. Hence all three are hyperbolic fixed points when $\\mu\\neq 0$.\n",
    "\n",
    "\n",
    "\n",
    "Near $(0,0)$, \n",
    "\n",
    "$$\n",
    "\\dot{\\mathbf{y}} = \n",
    "\\begin{bmatrix}\n",
    "0&1\\\\\n",
    "-1&-2\\mu\n",
    "\\end{bmatrix}\\mathbf{y}$$\n",
    "\n",
    "and thus\n",
    "\n",
    "$\\lambda_1 = -\\mu-\\sqrt{\\mu^2-1}$ and $\\lambda_2 = -\\mu+\\sqrt{\\mu^2-1}$\n",
    "\n",
    "- unstable node when $\\mu\\leq -1$\n",
    "- unstable focus when $-1< \\mu < 0$\n",
    "- center when $\\mu=0$\n",
    "- stable focus when $0< \\mu < 1$\n",
    "- stable node when $1\\leq \\mu $\n"
   ]
  },
  {
   "cell_type": "markdown",
   "metadata": {
    "collapsed": true
   },
   "source": [
    "In the vicinity of $(-1,0)$ and $(1,0)$ we get\n",
    "\n",
    "$$\n",
    "\\dot{\\mathbf{y}} = \n",
    "\\begin{bmatrix}\n",
    "0&1\\\\\n",
    "2&-2\\mu\n",
    "\\end{bmatrix}\\mathbf{y}$$\n",
    "\n",
    "and thus $\\lambda_1 = -\\mu-\\sqrt{\\mu^2+2}$ and $\\lambda_2 = -\\mu+\\sqrt{\\mu^2+2}$ which are real for any value of $\\mu$. Further, because one eigenvalue is always positive while the other is always negative, it is a saddle point. \n"
   ]
  },
  {
   "cell_type": "code",
   "execution_count": null,
   "metadata": {
    "collapsed": false,
    "input_collapsed": false,
    "scrolled": false
   },
   "outputs": [],
   "source": [
    "def duff_deriv(x1_x2, t, alpha = 1, mu = 0):\n",
    "    \"\"\"Compute the time-derivative of a SDOF system.\"\"\"\n",
    "    x1, x2 = x1_x2\n",
    "    return [x2, -x1-2*mu*x2 + alpha * x1**3]\n",
    "phase_plot(func = duff_deriv, span = (.999, 1.001, -0.001, 0.001));"
   ]
  },
  {
   "cell_type": "markdown",
   "metadata": {
    "collapsed": true,
    "input_collapsed": false
   },
   "source": [
    "- **Hartman-Grobman theorem**: Trajectories in the vicinity of a hyperbolic fixed point (all eigenvalues have a real part) are qualitatively similar to the linearized system in the vicinity of the hyperbolic point. \n",
    "\n",
    "- According to the *Hartman-Grobman* theorem, there exists a continuous coordinate transformation (homeomorphism) that transforms the nonlinear flow to the linear flow in the vicinity of the fixed point. In some cases, the method of *normal forms* may be used to generate a coordinate transformation. "
   ]
  },
  {
   "cell_type": "markdown",
   "metadata": {
    "collapsed": true
   },
   "source": [
    "#### Example 2.2\n",
    "\n",
    "$$\n",
    "\\begin{bmatrix}\n",
    "\\dot{x}_1\\\\\n",
    "\\dot{x}_2\n",
    "\\end{bmatrix}\n",
    "=\n",
    "\\begin{bmatrix}\n",
    "\\lambda_1&0\\\\\n",
    "0&\\lambda_2\n",
    "\\end{bmatrix}\n",
    "\\begin{bmatrix}\n",
    "x_1\\\\x_2\n",
    "\\end{bmatrix}\n",
    "+\n",
    "\\epsilon\n",
    "\\begin{bmatrix}\n",
    "\\alpha_1 x_1^2+\\alpha_2 x_1 x_2+ \\alpha_3 x_2^2\\\\\n",
    "\\alpha_4 x_1^2+\\alpha_5 x_1 x_2 +\\alpha_6 x_2^2\n",
    "\\end{bmatrix}\n",
    "$$\n",
    "where $\\epsilon$ is a small value. \n",
    "\n",
    "The system is stated to have a hyperbolic fixed point at $(x_1,x_2)=(0,0)$\n",
    "\n",
    "In this vicinity, the *method of normal forms* can be used to transform the system into\n",
    "\n",
    "$$\n",
    "\\begin{bmatrix}\n",
    "\\dot{y}_1\\\\\n",
    "\\dot{y}_2\n",
    "\\end{bmatrix}\n",
    "=\n",
    "\\begin{bmatrix}\n",
    "\\lambda_1&0\\\\\n",
    "0&\\lambda_2\n",
    "\\end{bmatrix}\n",
    "\\begin{bmatrix}\n",
    "y_1\\\\y_2\n",
    "\\end{bmatrix}\n",
    "$$\n",
    "\n",
    "by using the coordinate transformation\n",
    "\n",
    "$$\n",
    "\\begin{bmatrix}\n",
    "x_1\\\\x_2\n",
    "\\end{bmatrix}\n",
    "=\n",
    "\\begin{bmatrix}\n",
    "y_1\\\\y_2\n",
    "\\end{bmatrix}\n",
    "+\\epsilon\n",
    "\\begin{bmatrix}\n",
    "h_{11}(y)\\\\\n",
    "h_{12}(y)\n",
    "\\end{bmatrix}\n",
    "+\\cdots\n",
    "$$\n",
    "\n",
    "where \n",
    "\n",
    "$$\n",
    "\\begin{bmatrix}\n",
    "h_{11}(y)\\\\\n",
    "h_{12}(y)\n",
    "\\end{bmatrix}\n",
    "=\n",
    "\\begin{bmatrix}\n",
    "\\Gamma_1&\\Gamma_2&\\Gamma_3\\\\\n",
    "\\Gamma_4&\\Gamma_5&\\Gamma_6\n",
    "\\end{bmatrix}\n",
    "\\begin{bmatrix}\n",
    "y_1^2\\\\y_1y_2\\\\y_2^2\n",
    "\\end{bmatrix}\n",
    "$$\n",
    "\n",
    "and the $\\Gamma_i$ are given by\n",
    "\n",
    "$$\n",
    "\\begin{matrix}\n",
    "\\Gamma_1 =\\frac{\\alpha_1}{\\lambda_1}&\\Gamma_2=\\frac{\\alpha_2}{\\lambda_2}&\\Gamma_3= \\frac{\\alpha_3}{2\\lambda_2-\\lambda_1}\\\\\n",
    "\\Gamma_4= \\frac{\\alpha_4}{2\\lambda_1-\\lambda_2}&\\Gamma_5=\\frac{\\alpha_5}{\\lambda_1}&\\Gamma_6=\\frac{\\alpha_6}{\\lambda_2}\n",
    "\\end{matrix}\n",
    "$$\n",
    "\n",
    "This breaks down when $\\lambda_1\\approx 2 \\lambda_2$ or $\\lambda_2\\approx 2 \\lambda_1$. These are (unfortunately) termed **resonances**. This is also illustrative of why nominally linear systems can behave *oddly* when driven at twice a natural frequency. A small nonlinearity can cause the assumption of linearity (which requires a coordinate transformation) to break down. \n",
    "\n"
   ]
  },
  {
   "cell_type": "markdown",
   "metadata": {},
   "source": [
    "Consider the case of \n",
    "$$\\mathbf{F}(\\mathbf{x},t) = A \\mathbf{x}+B(t)\\mathbf{x}+\\mathbf{g}(\\mathbf{x},t)$$"
   ]
  },
  {
   "cell_type": "markdown",
   "metadata": {},
   "source": [
    "**Poincaré-Lyapunov theorem**: when \n",
    "$$\\mathbf{F}(\\mathbf{x},t) = B(t)\\mathbf{x}+\\mathbf{g}(\\mathbf{x},t)$$\n",
    "where\n",
    "$$\\underset{t\\to\\infty}{\\lim}|B(t)|=0, \\, \\text{and}\\, ||\\mathbf{g}||=o(||\\mathbf{x}||)\\,\\text{as}\\,||\\mathbf{x}||\\to 0$$\n",
    "Note that $B(t)$ is a matrix (typo in book as the book has it in **bold**). \n",
    "\n",
    "According to the **Poincaré-Lyapunov theorem**, if all of the eigenvalues of $A$ have negative real parts, then $\\mathbf{x}=\\mathbf{0}$ is asymptotically stable (subject to conditions on $\\mathbf{F}(\\mathbf{x},t)$. "
   ]
  },
  {
   "cell_type": "markdown",
   "metadata": {},
   "source": [
    "#### Example 2.3\n",
    "\n",
    "Consider the stability of the fixed point $\\mathbf{x}=\\mathbf{0}$ of\n",
    "\n",
    "$$\n",
    "\\begin{align}\n",
    "\\dot{x}_1&=x_2\\\\\n",
    "\\dot{x}_2&=-2\\mu x_2-\\sin x_1\n",
    "\\end{align}\n",
    "$$\n",
    "where $\\mu>0$.\n",
    "\n",
    "Rewrite this in $\\dot{\\mathbf{x}}=A\\mathbf{x}+\\mathbf{F}(\\mathbf{x},t)$ form:\n",
    "\n",
    "$$\n",
    "\\begin{bmatrix}\n",
    "\\dot{x}_1\\\\\n",
    "\\dot{x}_2\n",
    "\\end{bmatrix}\n",
    "=\n",
    "\\begin{bmatrix}\n",
    "0&1\\\\\n",
    "-1&-2\\mu\n",
    "\\end{bmatrix}\n",
    "\\begin{bmatrix}\n",
    "{x}_1\\\\\n",
    "{x}_2\n",
    "\\end{bmatrix}\n",
    "+\n",
    "\\begin{bmatrix}\n",
    "0\\\\\n",
    "x_1-\\sin x_1\n",
    "\\end{bmatrix}\n",
    "$$\n",
    "\n",
    "here\n",
    "$$B=\\begin{bmatrix}\n",
    "0&0\\\\\n",
    "1&0\n",
    "\\end{bmatrix}$$\n",
    "and\n",
    "\n",
    "$$\\mathbf{g}(\\mathbf{x},t)=\n",
    "\\begin{bmatrix}\n",
    "0\\\\\n",
    "-\\sin x_1\n",
    "\\end{bmatrix}\n",
    "$$\n",
    "\n",
    "\n",
    "The eigenvalues of $A$ are\n",
    "$\\lambda_1 = -\\mu-\\sqrt{\\mu^2-1}$ and $\\lambda_2 = -\\mu+\\sqrt{\\mu^2-1}$\n",
    "\n",
    "Because both eigenvalues have negative real parts, the fixed point $\\mathbf{x}=\\mathbf{0}$ is stable. "
   ]
  },
  {
   "cell_type": "markdown",
   "metadata": {},
   "source": [
    "- *Linearization helps determine whether a hyperbolic fixed point is stable.*\n",
    "- *It does not determine the domain over which stability applies.*\n",
    "\n",
    "If it is possible to find a Lyapunov function, the Lyapunov function can be used to determine the whole stability region, or a subset of this region. \n",
    "\n"
   ]
  },
  {
   "cell_type": "markdown",
   "metadata": {},
   "source": [
    "### Nonlinear analysis is necessary to determine stability of neutrally stable fixed points. "
   ]
  },
  {
   "cell_type": "markdown",
   "metadata": {},
   "source": [
    "#### Example 2.4\n",
    "$$\n",
    "\\begin{bmatrix}\n",
    "\\dot{x}_1\\\\\n",
    "\\dot{x}_2\n",
    "\\end{bmatrix}\n",
    "=\n",
    "\\begin{bmatrix}\n",
    "0&1\\\\\n",
    "-1&0\n",
    "\\end{bmatrix}\n",
    "\\begin{bmatrix}\n",
    "{x}_1\\\\\n",
    "{x}_2\n",
    "\\end{bmatrix}\n",
    "+\n",
    "\\begin{bmatrix}\n",
    "0\\\\\n",
    "-\\mu x_2^3\n",
    "\\end{bmatrix}\n",
    "$$\n",
    "\n",
    "The fixed point is a *center* because $A$ has eigenvalues of $i$ and $-i$. For $\\mu>0$, the fixed point attracts orbits, while for $\\mu<0$, it repels them. "
   ]
  },
  {
   "cell_type": "markdown",
   "metadata": {},
   "source": [
    "For example, for $\\mu = 0.1$."
   ]
  },
  {
   "cell_type": "code",
   "execution_count": null,
   "metadata": {
    "code_folding": [],
    "collapsed": false,
    "input_collapsed": false
   },
   "outputs": [],
   "source": [
    "def cubic_damping_deriv(x1_x2, t, mu = .5):\n",
    "    \"\"\"Compute the time-derivative of a SDOF system.\"\"\"\n",
    "    x1, x2 = x1_x2\n",
    "    return [x2, -x1-mu* x2**3]\n",
    "flow_plot(func = cubic_damping_deriv, max_time = 2)\n"
   ]
  },
  {
   "cell_type": "code",
   "execution_count": null,
   "metadata": {
    "collapsed": false,
    "input_collapsed": false
   },
   "outputs": [],
   "source": [
    "phase_plot(func = cubic_damping_deriv, max_time = 2, numx = 4, numv = 4, spread_amp = 1.5, args = (-.1,))"
   ]
  },
  {
   "cell_type": "code",
   "execution_count": null,
   "metadata": {
    "collapsed": false
   },
   "outputs": [],
   "source": [
    "phase_plot(func = cubic_damping_deriv, max_time = 20, numx = 4, numv = 4, spread_amp = 1.5, args = (0.1,))"
   ]
  },
  {
   "cell_type": "code",
   "execution_count": null,
   "metadata": {
    "collapsed": false
   },
   "outputs": [],
   "source": [
    "phase_plot(func = cubic_damping_deriv, max_time = 2000, numx = 1, numv = 1, spread_amp = 1.5, args = (0.1,))"
   ]
  },
  {
   "cell_type": "markdown",
   "metadata": {},
   "source": [
    "#### Example 2.5\n",
    "$$\n",
    "\\begin{bmatrix}\n",
    "\\dot{x}\\\\\n",
    "\\dot{y}\n",
    "\\end{bmatrix}\n",
    "=\n",
    "\\begin{bmatrix}\n",
    "0&0\\\\\n",
    "0&-1\n",
    "\\end{bmatrix}\n",
    "\\begin{bmatrix}\n",
    "{x}\\\\\n",
    "{y}\n",
    "\\end{bmatrix}\n",
    "+\n",
    "\\begin{bmatrix}\n",
    "k x y\\\\\n",
    "x^2\n",
    "\\end{bmatrix}\n",
    "$$\n",
    "\n",
    "The fixed point is a *neutrally stable fixed point* because $A$ has eigenvalues of $0$ and $-1$. For $k>0$, some orbits are repelled, while when $k<0$, all are attracted. "
   ]
  },
  {
   "cell_type": "markdown",
   "metadata": {},
   "source": [
    "Consider the case where $k = 1$. "
   ]
  },
  {
   "cell_type": "code",
   "execution_count": null,
   "metadata": {
    "collapsed": false,
    "input_collapsed": false
   },
   "outputs": [],
   "source": [
    "def quad_deriv(x1_x2, t, args = (0,)):\n",
    "    \"\"\"Compute the time-derivative of a SDOF system.\"\"\"\n",
    "    k = args\n",
    "    x1, x2 = x1_x2\n",
    "    return [k*x1*x2, -x2+x1**2]\n",
    "\n",
    "phase_plot(func = quad_deriv, max_time=1, span = (-1,1,-1,1), spread_amp = 1.1, args = (1,))"
   ]
  },
  {
   "cell_type": "markdown",
   "metadata": {},
   "source": [
    "Now consider the case of $k = -10$"
   ]
  },
  {
   "cell_type": "code",
   "execution_count": null,
   "metadata": {
    "collapsed": false,
    "input_collapsed": false,
    "scrolled": true
   },
   "outputs": [],
   "source": [
    "phase_plot(func = quad_deriv, max_time=2, span = (-1,1,-1,1), args = (-10,))\n",
    "plt.axis('auto');"
   ]
  },
  {
   "cell_type": "markdown",
   "metadata": {},
   "source": [
    "### Eigenspaces and Invariant Manifolds\n",
    "Consider the Jacobian of a system near a fixed point\n",
    "\n",
    "Symbol | Definition\n",
    ":-------:|------------\n",
    "$s$ | number of eigenvalues with negative real parts\n",
    "$u$ | number of eigenvalues with positive real parts\n",
    "$c$ | number of eigenvalues with zero real parts\n",
    "\n",
    "We can represent the space defined by the three classes of eigenvalues as:\n",
    "\n",
    "Space    | Definition\n",
    ":-------:|------------\n",
    "$E^s$ | span $\\{\\mathbf{p}_1, \\mathbf{p}_2, \\mathbf{p}_3, \\cdots, \\mathbf{p}_s\\}$\n",
    "$E^u$ | span $\\{\\mathbf{p}_{s+1}, \\mathbf{p}_{s+2}, \\mathbf{p}_{s+3}, \\cdots, \\mathbf{p}_{s+u}\\}$\n",
    "$E^c$ | span $\\{\\mathbf{p}_{s+u+1}, \\mathbf{p}_{s+u+2}, \\mathbf{p}_{s+u+3}, \\cdots, \\mathbf{p}_{s+u+c}\\}$\n",
    "\n",
    "Within these domains, eigenvalues with imaginary part have corresponding complex vectors, and all eigenvalues and eigenvectors must come in complex conjugate pairs so that the solutions can be found in the linear space. \n",
    "\n",
    "The spaces $E^s$, $E^u$, and $E^c$ are all **invariant subspaces** for the linear systems. \n",
    "\n",
    "They are called **stable**, **unstable**, and **center** **subspaces** or **manifolds** of the fixed point linear system. "
   ]
  },
  {
   "cell_type": "markdown",
   "metadata": {
    "input_collapsed": true
   },
   "source": [
    "#### Example 2.6\n",
    "Consider the linear system of Example 2.1 in the vicinity of the fixed point $(0,0)$\n",
    "\n",
    "$$\n",
    "\\dot{\\mathbf{y}} = \n",
    "\\begin{bmatrix}\n",
    "0&1\\\\\n",
    "-1&-2\\mu\n",
    "\\end{bmatrix}\\mathbf{y}$$\n",
    "\n",
    "and thus\n",
    "\n",
    "$\\lambda_1 = -\\mu-\\sqrt{\\mu^2-1}$ and $\\lambda_2 = -\\mu+\\sqrt{\\mu^2-1}$\n",
    "\n",
    "The eigenvectors are \n",
    "$$\n",
    "\\mathbf{p}_1 = \n",
    "\\begin{bmatrix}\n",
    "1\\\\\n",
    "\\lambda_1\n",
    "\\end{bmatrix}\n",
    "\\,\\,\\text{and}\\,\\,\n",
    "\\mathbf{p}_2 = \n",
    "\\begin{bmatrix}\n",
    "1\\\\\n",
    "\\lambda_2\n",
    "\\end{bmatrix}$$\n",
    "\n",
    "and the solution can be written\n",
    "\n",
    "$$\\mathbf{y} = c_1 e^{\\lambda_1 t}\\mathbf{p}_1 +c_2 e^{\\lambda_2 t}\\mathbf{p}_2$$ \n",
    "\n",
    "When $\\mu=0$, $E^c$ is spanned by $\\mathbf{p}_1$ and $\\mathbf{p}_2$ and the other two spaces are empty. This solution stays in the same *center* space for all time. \n",
    "\n",
    "When $\\mu<0$, $E^u$ is spanned by $\\mathbf{p}_1$ and $\\mathbf{p}_2$ and the other two spaces are empty. This solution is unstable stays in the same *unstable* space for all time."
   ]
  },
  {
   "cell_type": "code",
   "execution_count": null,
   "metadata": {
    "collapsed": false,
    "input_collapsed": false
   },
   "outputs": [],
   "source": [
    "def duff_deriv(x1_x2, t, alpha, mu):\n",
    "    \"\"\"Compute the time-derivative of a SDOF duffing oscillator.\"\"\"\n",
    "    x1, x2 = x1_x2\n",
    "    return [x2, -x1-2*mu*x2 + alpha * x1**3]\n",
    "\n",
    "phase_plot(func = duff_deriv, span = (-.5,.5,-.5,.5), max_time=1, spread_amp = 1, args = (1,0));"
   ]
  },
  {
   "cell_type": "markdown",
   "metadata": {
    "input_collapsed": true
   },
   "source": [
    "Next, consider the linearized system near $(1,0)$. \n",
    "\n",
    "$$\n",
    "\\dot{\\mathbf{y}} = \n",
    "\\begin{bmatrix}\n",
    "0&1\\\\\n",
    "2&-2\\mu\n",
    "\\end{bmatrix}\\mathbf{y}$$\n",
    "\n",
    "when $\\mu = 0$\n",
    "\n",
    "$\\lambda_1 = -\\sqrt{2}$ and $\\lambda_2 = \\sqrt{2}$\n",
    "and \n",
    "\n",
    "The eigenvectors are \n",
    "$$\n",
    "\\mathbf{p}_1 = \n",
    "\\begin{bmatrix}\n",
    "1\\\\\n",
    "-\\sqrt{2}\n",
    "\\end{bmatrix}\n",
    "\\,\\,\\text{and}\\,\\,\n",
    "\\mathbf{p}_2 = \n",
    "\\begin{bmatrix}\n",
    "1\\\\\n",
    "\\sqrt{2}\n",
    "\\end{bmatrix}$$\n",
    "\n",
    "- $E^s$ is spanned by $\\mathbf{p}_1$ and is a one-dimensional manifold. \n",
    "- $E^u$ is spanned by $\\mathbf{p}_2$ and is also a one-dimensional manifold. "
   ]
  },
  {
   "cell_type": "code",
   "execution_count": null,
   "metadata": {
    "collapsed": false
   },
   "outputs": [],
   "source": [
    "phase_plot(func = duff_deriv, span = (.9,1.1,-.1,.1), max_time=1, spread_amp = 1, args = (1,0));\n",
    "x=sp.linspace(.9,1.1,20)\n",
    "plt.plot(x,(x-1)*sp.sqrt(2),'-',label = '$E^u$', linewidth=4)\n",
    "plt.plot(x,-(x-1)*sp.sqrt(2),'-',label = '$E^s$', linewidth=4)\n",
    "plt.legend();"
   ]
  },
  {
   "cell_type": "markdown",
   "metadata": {},
   "source": [
    "The **stable** and **unstable manifolds** are the orbits the are tangent to the stable and unstable eigenspaces."
   ]
  },
  {
   "cell_type": "markdown",
   "metadata": {},
   "source": [
    "The linearized properties at a fixed-point determine the number stable, unstable, and center manifolds in the vicinity of the fixed point. "
   ]
  },
  {
   "cell_type": "markdown",
   "metadata": {},
   "source": [
    "#### Example 2.7\n",
    "Consider Example 2.5 \n",
    "\n",
    "$$\n",
    "\\begin{bmatrix}\n",
    "\\dot{x}\\\\\n",
    "\\dot{y}\n",
    "\\end{bmatrix}\n",
    "=\n",
    "\\begin{bmatrix}\n",
    "0&0\\\\\n",
    "0&-1\n",
    "\\end{bmatrix}\n",
    "\\begin{bmatrix}\n",
    "{x}\\\\\n",
    "{y}\n",
    "\\end{bmatrix}\n",
    "+\n",
    "\\begin{bmatrix}\n",
    "k x y\\\\\n",
    "x^2\n",
    "\\end{bmatrix}\n",
    "$$\n",
    "\n",
    "This has an fixed point at $x_1=0$ and $y_1=0$.\n",
    "\n",
    "Linearizing at the fixed point yields\n",
    "\n",
    "$$\n",
    "\\begin{bmatrix}\n",
    "\\dot{x}\\\\\n",
    "\\dot{y}\n",
    "\\end{bmatrix}\n",
    "=\n",
    "\\begin{bmatrix}\n",
    "k y_1&k x_1\\\\\n",
    "2 x_1&-1\n",
    "\\end{bmatrix}\n",
    "\\begin{bmatrix}\n",
    "{x}\\\\\n",
    "{y}\n",
    "\\end{bmatrix}\n",
    "=\n",
    "\\begin{bmatrix}\n",
    "0&0\\\\\n",
    "0&-1\n",
    "\\end{bmatrix}\n",
    "\\begin{bmatrix}\n",
    "{x}\\\\\n",
    "{y}\n",
    "\\end{bmatrix}\n",
    "$$\n",
    "\n",
    "which has the eigenvalues of $-1$ and $0$ with corresponding eigenvectors of $x = 0$ and $y = 0$. \n",
    "\n",
    "- The center and stable eigenspaces of this point are the one-dimensional manifolds $y=0$ and $x=0$. \n",
    "\n",
    "- The phase plots indicate that $x=0$ is a global stable manifold. \n",
    "\n",
    "- The global  manifold  tangent to $x$ at the origin has stability dependent on $k$ based on a linearization on the x axis of   \n",
    "\n",
    "$$\n",
    "\\begin{bmatrix}\n",
    "\\dot{x}\\\\\n",
    "\\dot{y}\n",
    "\\end{bmatrix}\n",
    "=\n",
    "\\begin{bmatrix}\n",
    "0&k x_1\\\\\n",
    "2 x_1&-1\n",
    "\\end{bmatrix}\n",
    "\\begin{bmatrix}\n",
    "{x}\\\\\n",
    "{y}\n",
    "\\end{bmatrix}\n",
    "$$\n",
    "with eigenvalues of\n",
    "$$- \\frac{1}{2} \\sqrt{8 \\delta_{x}^{2} k + 1} - \\frac{1}{2},\\,\\text{and}\\,\\frac{1}{2} \\sqrt{8 \\delta_{x}^{2} k + 1} - \\frac{1}{2}$$"
   ]
  },
  {
   "cell_type": "markdown",
   "metadata": {},
   "source": [
    "Looking at the second eigenvalue, if $k >0$, then as $\\delta_x$ increases, the second manifold becomes an unstable manifold. \n",
    "\n",
    "However, if $k<0$, the real part of the second eigenvalue will always be less than 0. "
   ]
  },
  {
   "cell_type": "code",
   "execution_count": null,
   "metadata": {
    "collapsed": false
   },
   "outputs": [],
   "source": [
    "phase_plot(func = quad_deriv, max_time=1, numx = 7, numv = 7, span = (-0.1,0.1,-0.1,0.1), args = (-1,))"
   ]
  },
  {
   "cell_type": "code",
   "execution_count": null,
   "metadata": {
    "collapsed": false,
    "input_collapsed": true
   },
   "outputs": [],
   "source": [
    "phase_plot(func = quad_deriv, max_time=1, numx = 7, numv = 7, span = (-1,1,-1,1), args = (-1,))"
   ]
  },
  {
   "cell_type": "markdown",
   "metadata": {},
   "source": [
    "#### Example 2.8\n",
    "Consider\n",
    "$$\n",
    "\\begin{align}\n",
    "\\dot{x}_1 & = x_2\\\\\n",
    "\\dot{x}_2 & = -(\\omega_0^2 x_1 + \\alpha_3 x_1^3 + \\alpha_5 x_1^5) -(2 \\mu_1 x_2 + \\mu_3 x_2^3)\n",
    "\\end{align}\n",
    "$$\n",
    "\n",
    "These equations have been used to model the roll of of a ship (see text for citations). $\\alpha_i$ are nonlinear coefficients and $\\mu_i$ are the linear and nonlinear damping coefficients. \n",
    "\n",
    "Each fixed point satisfies $x_2 = 0$ and \n",
    "$$\\omega_0^2 x_{10} + \\alpha_3 x_{10}^3 + \\alpha_5 x_{10}^5 = 0$$\n",
    "\n",
    "The solutions are (5 of them!) $x_{20}=0$ and\n",
    "\n",
    "$$x_{10}^2 = \\pm \\frac{-\\alpha_3 \\pm \\sqrt{\\alpha_3^2-4\\omega_0^2\\alpha_5}}{2\\alpha_5}$$\n",
    "If \n",
    "$\\alpha_3^2-4\\omega_0^2\\alpha_5<0$, only one root is real, thus there is only a single fixed point. Otherwise there may be either 3 or 5 fixed points depending on the signs of the $\\alpha_i$. \n",
    "\n",
    "The stability of the fixed points depends on the eigenvalues of \n",
    "$$D_\\mathbf{x}\n",
    "\\begin{bmatrix}\n",
    "0&1\\\\\n",
    "-(\\omega_0^2  + 3\\alpha_3 x_{10}^2 + 5\\alpha_5 x_{10}^4) &-(2 \\mu_1  + 3 \\mu_3 x_{20}^2)\n",
    "\\end{bmatrix}\n",
    "$$\n",
    "evaluated at the fixed points. \n",
    "$$\n",
    "\\begin{split}\n",
    "\\lambda_{1,2} = \n",
    "&-\\frac{1}{2}(2\\mu_1+3\\mu_3 x_{20}^2)\\\\\n",
    "&\\pm\\frac{1}{2}\\sqrt{(2\\mu_1+3\\mu_3 x_{20}^2)^2-4(\\omega_0^2  + 3\\alpha_3 x_{10}^2 + 5\\alpha_5 x_{10}^4)}\n",
    "\\end{split}\n",
    "$$\n",
    "Using $x_{20} = 0$,\n",
    "$$\n",
    "\\lambda_{1,2} = -\\mu_1\n",
    "\\pm\\sqrt{\\mu_1^2-(\\omega_0^2  + 3\\alpha_3 x_{10}^2 + 5\\alpha_5 x_{10}^4)}\n",
    "$$\n",
    "From this we can determine that the eigenvalues do not depend on $\\mu_3$, the nonlinear damping, but *do* depend on the linear damping. \n",
    "\n",
    "Take for example the solution for parameters\n",
    "$$\\omega_0 = 5.278,\\, \\alpha_3 = -1.402 \\omega_0^2,\\, \\text{and}\\, \\alpha_5 = 0.271 \\omega_0^2$$\n",
    "\n",
    "This results in 5 real solutions $(-2.0782,0)$, $(-0.9243,0)$, $(0,0)$, $(0.9243,0)$, and $(2.0782,0)$. "
   ]
  },
  {
   "cell_type": "code",
   "execution_count": null,
   "metadata": {
    "collapsed": false,
    "input_collapsed": true,
    "scrolled": true
   },
   "outputs": [],
   "source": [
    "def boat_roll_deriv(x1_x2, t, omega0 = 5.278, alpha3 = -39.056, alpha5 = 7.549, mu1 = 0, mu3 = 0):\n",
    "    \"\"\"Compute the time-derivative of a SDOF duffing oscillator.\"\"\"\n",
    "    x1, x2 = x1_x2\n",
    "    return [x2, -(omega0**2*x1+alpha3*x1**3+alpha5*x1**5)-(2*mu1*x2+mu3*x2**3)]\n",
    "phase_plot(func = boat_roll_deriv, span = (-10,10,-10,10), max_time=1, spread_amp = 1, args = ());\n",
    "#plt.axis((-2.5,2.5,-10,10))"
   ]
  },
  {
   "cell_type": "code",
   "execution_count": null,
   "metadata": {
    "collapsed": false
   },
   "outputs": [],
   "source": [
    "phase_plot(func = boat_roll_deriv, span = (-4,4,-4,4), max_time=1, spread_amp = 20, args = ());\n"
   ]
  },
  {
   "cell_type": "markdown",
   "metadata": {},
   "source": [
    "What if we add some damping"
   ]
  },
  {
   "cell_type": "code",
   "execution_count": null,
   "metadata": {
    "collapsed": false,
    "input_collapsed": false
   },
   "outputs": [],
   "source": [
    "phase_plot(func = boat_roll_deriv, span = (-3,3,-10,10), max_time=1, spread_amp = 1, args = (5.278,-39.056,7.549,.086,.108));"
   ]
  },
  {
   "cell_type": "markdown",
   "metadata": {},
   "source": [
    "Run for a longer time "
   ]
  },
  {
   "cell_type": "code",
   "execution_count": null,
   "metadata": {
    "collapsed": false,
    "input_collapsed": false
   },
   "outputs": [],
   "source": [
    "phase_plot(func = boat_roll_deriv, span = (-3,3,-10,10),numx=21, numv=3, max_time=5, spread_amp = 1, args = (5.278,-39.056,7.549,.086,.108));"
   ]
  },
  {
   "cell_type": "markdown",
   "metadata": {},
   "source": [
    "Note the saddle point at the 2nd and 4th fixed points"
   ]
  },
  {
   "cell_type": "code",
   "execution_count": null,
   "metadata": {
    "collapsed": false,
    "scrolled": true
   },
   "outputs": [],
   "source": [
    "phase_plot(func = boat_roll_deriv, span = (0.85,1,-0.2,0.2), spread_amp = 2, max_time=.1, args = (5.278,-39.056,7.549,.086,.108));"
   ]
  },
  {
   "cell_type": "markdown",
   "metadata": {},
   "source": [
    "Note that the stable and unstable manifolds intersect *transversely* at the fixed points. \n",
    "\n",
    "- At the **transversal intersection of manifolds**, the union (combination) of the tangent spaces of the intersecting manifolds spans the whole space. \n",
    "\n",
    "- The **tangent space** to each manifold is a 1-D space. \n",
    "\n",
    "- The combination (linear or otherwise) of each of these 1-D spaces spans the 2-D space. \n",
    "\n",
    "- Note that the unstable manifold of fixed point 2 intersects and joins with the stable manifold of fixed point 4. This is called a **nontransversal intersection**. "
   ]
  },
  {
   "cell_type": "code",
   "execution_count": null,
   "metadata": {
    "collapsed": false,
    "input_collapsed": true,
    "scrolled": true
   },
   "outputs": [],
   "source": [
    "phase_plot(func = boat_roll_deriv, span = (0.9,1.2,-0,0.01),numv = 1, numx = 17, max_time=1.5, args = ());\n",
    "plt.axis((.85,2.5,-7.2,7.2));"
   ]
  },
  {
   "cell_type": "markdown",
   "metadata": {
    "input_collapsed": true
   },
   "source": [
    "- The closed orbits shown above are called **heteroclinic orbits**. \n",
    "- Also note that for each saddle point, one unstable manifold and one stable manifold connect to form a closed orbit. "
   ]
  },
  {
   "cell_type": "code",
   "execution_count": null,
   "metadata": {
    "collapsed": false,
    "input_collapsed": true
   },
   "outputs": [],
   "source": [
    "line = phase_plot(func = boat_roll_deriv, span = (-0.9243,-0.9244,-0,0.01), numv = 1, numx = 1, max_time=7, args = ());\n",
    "plt.setp(line, linewidth = 6);\n",
    "line = phase_plot(func = boat_roll_deriv, span = (+0.9243,+0.9244,-0,-0.01), numv = 1, numx = 1, max_time=3, args = ());\n",
    "plt.setp(line, linewidth = 3);\n",
    "phase_plot(func = boat_roll_deriv, span = (-1.2,0,-0,0.01),numv = 1, numx = 17, max_time=1., args = ());\n",
    "phase_plot(func = boat_roll_deriv, span = (-0.9243,-0.924,0,2),numv = 7, numx = 1, max_time=0.7, args = ());\n",
    "plt.axis((-1.,.95,-4,4));\n",
    "plt.annotate(\"Heteroclinic Orbit\",xy=(0.3,3.0),xytext=(0.42,3.5),arrowprops=dict(facecolor='black'))\n",
    "plt.annotate(\"Heteroclinic Half-Orbit\",xy=(0.3,-3.0),xytext=(0.42,-3.5),arrowprops=dict(facecolor='black'))"
   ]
  },
  {
   "cell_type": "markdown",
   "metadata": {},
   "source": [
    "**Points**\n",
    "- There is an attraction along the stable manifold of a fixed point\n",
    "- A saddle point and stable nodes can be part of an attracting set. \n",
    "- An unstable node cannot be part of an attracting set. \n",
    "- The unstable and stable manifolds of a fixed point and homoclinic and heteroclinic orbits are all examples of invariant sets. \n",
    "- These sets are formed by the union of many orbits unlike a fixed point or periodic orbit- each of which corresponds to a unique orbit. "
   ]
  },
  {
   "cell_type": "markdown",
   "metadata": {},
   "source": [
    "#### Example 2.9\n",
    "\n",
    "Consider\n",
    "\n",
    "$$\\frac{2H}{\\omega_R}\\ddot{\\theta}+D\\dot{\\theta}=P_m-\\frac{V_GV_B}{X_G}\\sin(\\theta-\\theta_B)$$\n",
    "The physical meaning is discussed in the text. However, of importance, $P_m$ is the mechanical energy put into the system, while $\\frac{V_GV_B}{X_G}\\sin(\\theta-\\theta_B)$ is the power generated. $\\theta$ is the only variable that changes with time. \n",
    "\n",
    "In state space form, setting $x_1=\\theta$ and $x_2 = \\dot{\\theta}$. \n",
    "\n",
    "$$\n",
    "\\begin{bmatrix}\n",
    "\\dot{x}_1\\\\\n",
    "\\dot{x}_2\n",
    "\\end{bmatrix}\n",
    "=\n",
    "\\begin{bmatrix}\n",
    "0&1\\\\\n",
    "0&-Dc_1\n",
    "\\end{bmatrix}\n",
    "\\begin{bmatrix}\n",
    "x_1\\\\\n",
    "x_2\n",
    "\\end{bmatrix}\n",
    "+\n",
    "\\begin{bmatrix}\n",
    "0\\\\\n",
    "P_mc_1-c_3\\sin(x_1-\\theta_B)\n",
    "\\end{bmatrix}\n",
    "$$\n",
    "where $c_1 = \\frac{\\omega_R}{2H}$ and $c_3 = \\frac{V_GV_B}{X_G}c_1$\n",
    "and the constants $V_B=V_{B0}$ and $\\theta_B=\\theta_{B0}$ are defined and fixed.\n",
    "\n",
    "Fixed points occur at the solution of \n",
    "\n",
    "$$P_mc_1=c_3\\sin(x_1-\\theta_B)$$\n",
    "\n",
    "which has an infinite number of solutions (sine function) provided that $\\left|\\frac{P_mc_1}{c_3}\\right|\\le 1$ which means that the input mechanical power must be less than or equal to the maximum generated electrical power. \n",
    "\n",
    "Considering only a few of these fixed points, and foregoing the numerics\n"
   ]
  },
  {
   "cell_type": "code",
   "execution_count": null,
   "metadata": {
    "collapsed": true,
    "input_collapsed": true
   },
   "outputs": [],
   "source": [
    "H = 2.37; V_B = 1; V_G = 1.27; theta_B = 0; P_m = 1; X_G = 0.645; omega_R = 120 * sp.pi\n",
    "c1 = omega_R/2/H; c3 = V_G*V_B/X_G*c1\n",
    "def swing_deriv(x1_x2, t, D):\n",
    "    \"\"\"Time-derivative of Swing equation\"\"\"    \n",
    "    x1, x2 = x1_x2  # This is an example of \"unpacking\"\n",
    "    return [x2, -D*c1*x2 + P_m * c1 - c3 * sp.sin(x1-theta_B)]"
   ]
  },
  {
   "cell_type": "code",
   "execution_count": null,
   "metadata": {
    "collapsed": false,
    "input_collapsed": true
   },
   "outputs": [],
   "source": [
    "def swing_phase(D):\n",
    "    phase_plot(func = swing_deriv, span = (-5,3.5,-40,40), numx = 6, numv = 12, max_time=1, spread_amp = 1, args = (D,));\n",
    "    plt.title('$D > .656$ results in creation of a heteroclinic half-orbit.')"
   ]
  },
  {
   "cell_type": "code",
   "execution_count": null,
   "metadata": {
    "collapsed": false,
    "input_collapsed": false
   },
   "outputs": [],
   "source": [
    "import IPython.core.display as ipcd\n",
    "from ipywidgets.widgets.interaction import interact, interactive\n",
    "# This is where I got the sliders.\n",
    "w = interactive(swing_phase,  D = (0,.07,.005))\n",
    "ipcd.display(w)"
   ]
  },
  {
   "cell_type": "markdown",
   "metadata": {},
   "source": [
    "### 2.1.4 Analytical Construction of Stable and Unstable Manifolds\n",
    "Consider the Duffing Oscillator again\n",
    "\n",
    "\n",
    "$$\\dot{x}_1 = x_2$$\n",
    "$$\\dot{x}_2= -x_1 + \\alpha x_1^3 - 2 \\mu x_2$$\n",
    "\n",
    "If we consider the fixed point at $(1,0)$, we can shift the location of the fixed point by adjusting coordinates so that \n",
    "\n",
    "$$x_1 = 1+v_1,\\,\\text{and}\\,x_2=v_2$$\n",
    "Substituting and writing in state space form\n",
    "\n",
    "$$\n",
    "\\begin{bmatrix}\n",
    "\\dot{v}_1\\\\\n",
    "\\dot{v}_2\n",
    "\\end{bmatrix}\n",
    "= \\begin{bmatrix}\n",
    "0&1\\\\\n",
    "2&-2\\mu\n",
    "\\end{bmatrix}\n",
    "\\begin{bmatrix}\n",
    "{v}_1\\\\\n",
    "{v}_2\n",
    "\\end{bmatrix}\n",
    "+\n",
    "\\begin{bmatrix}\n",
    "0\\\\\n",
    "3v_1^2+v_1^3\n",
    "\\end{bmatrix}\n",
    "$$\n",
    "Next we introduce the transformation $\\mathbf{v} = P \\mathbf{z}$ where $P$ is the matrix of eigenvectors of $A$ given by\n",
    "\n",
    "$$\n",
    "P=\\begin{bmatrix}\n",
    "1&1\\\\\n",
    "\\lambda_1&\\lambda_2\n",
    "\\end{bmatrix}$$\n",
    "which, after premultiplying the governing equation by $P^{-1}$ yields\n",
    "$$\n",
    "\\dot{\\mathbf{z}} = \n",
    "\\begin{bmatrix}\n",
    "\\lambda_1&0\\\\\n",
    "0&\\lambda_2\n",
    "\\end{bmatrix}\\mathbf{z}\n",
    "+ P^{-1}\n",
    "\\begin{bmatrix}\n",
    "0\\\\\n",
    "3(z_1+z_2)^2+(z_1+z_2)^3\n",
    "\\end{bmatrix}\n",
    "$$\n",
    "or\n",
    "$$\n",
    "\\dot{\\mathbf{z}} = \n",
    "\\begin{bmatrix}\n",
    "\\lambda_1&0\\\\\n",
    "0&\\lambda_2\n",
    "\\end{bmatrix}\\mathbf{z}\n",
    "+ \\frac{1}{\\lambda_2-\\lambda_1}\n",
    "\\begin{bmatrix}\n",
    "-3(z_1+z_2)^2-(z_1+z_2)^3\\\\\n",
    "3(z_1+z_2)^2+(z_1+z_2)^3\n",
    "\\end{bmatrix}\n",
    "$$"
   ]
  },
  {
   "cell_type": "markdown",
   "metadata": {},
   "source": [
    "We have now linearly decoupled the equations. However, they remain coupled through the nonlinear terms. \n",
    "\n",
    "From the existence theorem on stable and unstable manifolds, there exist corresponding manifolds of the fixed point $(0,0)$ tangent to the eigenvectors. Since we've decoupled the equations, the eigenvectors are the $z_1$ and $z_2$ axes. "
   ]
  },
  {
   "cell_type": "markdown",
   "metadata": {},
   "source": [
    "So, there is a stable manifold $z_2 = h(z_1)$ such that:\n",
    "\n",
    "$$h(z_1=0) = 0,\\, \\text{and}\\, \\frac{dh}{dz_1}(z_1)=0$$\n",
    "\n",
    "This just means *at the origin* and *tangent to the first coordinate*.\n",
    "\n",
    "Similarly, there is a local manifold $z_1=g(z_2)$ such that.\n",
    "$$g(z_2=0) = 0,\\, \\text{and}\\, \\frac{dg}{dz_2}(z_2)=0$$\n",
    "\n",
    "Substituting $z_2 = h(z_1)$ into the second decoupled state equation\n",
    "\n",
    "$$\\frac{dh(z_1)}{dz_1}\\dot{z}_1 = \\lambda_2 h(z_1)+\\frac{1}{\\lambda_2-\\lambda_1}\\left(3(z_1+h(z_1))^2+(z_1+h(z_1))^3\\right)$$\n",
    "\n",
    "substituting for $\\dot{z}_1$ using the first linearly decoupled state equation (where we also use that $z_2=h(z_1)$ yields\n",
    "$$\n",
    "\\begin{align}\n",
    "\\frac{dh(z_1)}{dz_1}&\\left(\\lambda_1 z_1-\\frac{1}{\\lambda_2-\\lambda_1}\\left(3(z_1+h(z_1))^2+(z_1+h(z_1))^3\\right)\\right)\\\\ &= \\lambda_2 h(z_1)+\\frac{1}{\\lambda_2-\\lambda_1}\\left(3(z_1+h(z_1))^2+(z_1+h(z_1))^3\\right)\n",
    "\\end{align}$$\n",
    "This is a differential equation in $h(z_1)$ that we need to solve in order to determine $h(z_1)$. \n",
    "\n",
    "This is quite nonlinear, and without closed form solution. So, let's instead attempt a power series solution\n",
    "\n",
    "$$h(z_1) = b_0+b_1 z_1+b_2 z_1^2+b_3 z_1^3+\\cdots$$\n",
    "where $b_i$ are constants to be determined. \n",
    "\n",
    "Because \n",
    "$$h(z_1=0) = 0,\\, \\text{and}\\, \\frac{dh}{dz_1}(z_1)=0$$\n",
    "\n",
    "$b_0= 0$ and $b_1=0$. \n",
    "\n",
    "substituting and equating $z_1^2$ on each side to each other, and $z_1^3$ terms on each side to each other\n",
    "\n",
    "$$(\\lambda_2-2\\lambda_1)b_2 = \\frac{3}{\\lambda_2-\\lambda_1}$$\n",
    "and\n",
    "\n",
    "$$\n",
    "(\\lambda_2-3\\lambda_1)b_3+\\frac{12}{\\lambda_2-\\lambda_1} b_2= \\frac{1}{\\lambda_2-\\lambda_1}\n",
    "$$\n",
    "which can be solved for $b_2$ and $b_3$ as\n",
    "\n",
    "$$b_2 = -\n",
    "\\frac{3}{(\\lambda_2-\\lambda_1)(\\lambda_2-2\\lambda_1)}\n",
    "$$\n",
    "and\n",
    "$$b_3 = -\n",
    "\\frac{1+12 b_2}{(\\lambda_2-\\lambda_1)(\\lambda_2-3\\lambda_1)}\n",
    "$$\n",
    "\n",
    "so that the *local* stable manifold can be represented by \n",
    "$$z_2 = b_2 z_1^2+b_3 z_1^3$$\n",
    "provided that $\\lambda_2$ is not near $\\lambda_1$, $2\\lambda_1$, $3\\lambda_1$, and if we had analyzed further, perhaps other values. \n",
    "\n",
    "Similarly, the local unstable manifold can be represented by \n",
    "$$z_1 = c_2 z_2^2+c_3 z_2^3$$\n",
    "\n",
    "where \n",
    "\n",
    "$$c_2 = -\n",
    "\\frac{3}{(\\lambda_1-\\lambda_2)(\\lambda_1-2\\lambda_21)}\n",
    "$$\n",
    "and\n",
    "$$c_3 = -\n",
    "\\frac{1+12 c_2}{(\\lambda_1-\\lambda_2)(\\lambda_1-3\\lambda_2)}\n",
    "$$\n",
    "provided that $\\lambda_2$ is away from $\\lambda_1$, $\\frac{1}{2}\\lambda_1$, $\\frac{1}{3}\\lambda_1$\n",
    "\n",
    "This can also be done numerically, and numerical techniques are necessary for determining the global manifolds. However, there are still limitations in numerical techniques: there is no general method for determining 2 or higher dimensional manifolds.\n",
    "\n"
   ]
  },
  {
   "cell_type": "markdown",
   "metadata": {},
   "source": [
    "## 2.3 Bifurcations of Continuous Systems\n",
    "\n",
    "- **Bifurcation**: qualitative change in the type and/or number of solutions of a system. \n",
    "- **Local Bifurcation**: change in the neighborhood of a fixed point\n",
    "- **Global Bifurcation**: Not a local bifurcation\n",
    "\n",
    "- **state-control space**: space defined by the union of the state space plus the control parameters. \n",
    "- **bifurcation points**: location in this space where bifurcations occur. \n",
    "\n",
    "- **continuous bifurcation**: states vary continuously as function of control parameter (e.g. $c< c_{cr}$ moving through to $c> c_{cr}$ for a linear second order system. \n",
    "- **discontinous** or **catastrophic bifurcation**: states change dramatically as control parameter is changed. \n",
    "    - **dangerous**: current attractor disappears. May be determinant or indeterminant, may depend on speed of sweep of parameters. \n",
    "    - **explosive**: does not jump to a remote attractor but to a larger attractor or which the former attractor is within.\n",
    "    \n",
    "    \n",
    "    \n",
    "\n",
    "\n"
   ]
  },
  {
   "cell_type": "markdown",
   "metadata": {},
   "source": [
    "### Local Bifurcations of Fixed Points\n",
    "\n",
    "- Consider slowly changing control parameters.\n",
    "\n",
    "- Suppose a fixed point becomes nonhyperbolic (at least one eigenvalue without real part) at a certain location(value)\n",
    "\n",
    "- If the state-space plots are qualitatively different, this is a *bifurcation point*, and the change is called a *bifurcation*. \n",
    "\n",
    "If we start with a stable fixed point, we can lose stability by bifurcation to:\n",
    "- saddle-node bifurcation\n",
    "- pitchfork (symmetry breaking) bifurcation\n",
    "- transcritical bifurcation\n",
    "- Hopf bifurcation\n",
    "\n",
    "In the first three, only branches (we will see these) of fixed points meet. These are called *static bifurcations*. \n",
    "\n",
    "For Hopf bifurcations, branches  of fixed point and periodic solutions meet. Hopf bifurcations are classified as *dynamic bifurcation*. \n"
   ]
  },
  {
   "cell_type": "markdown",
   "metadata": {},
   "source": [
    "#### Static Bifurcations\n",
    "\n",
    "Let's call our control parameters $\\alpha_c$ now (I don't know why the author changed from $M$). \n",
    "\n",
    "A static bifurcation is said to have happened if\n",
    "1. $\\mathbf{F}(\\mathbf{x}_0;\\alpha_c) = 0$\n",
    "2. $D_{\\mathbf{x}}\\mathbf{F}$ has a zero eigenvalue while all of the other eigenvalues have nonzero real parts at $(\\mathbf{x}_0;\\alpha_c)$.\n",
    "\n",
    "The first condition assures that this is a fixed point. The second implies that it is a nonhyperbolic fixed point. \n",
    "\n",
    "These are **necessary but not sufficient**. \n",
    "\n",
    "*If* a static bifurcation occurs, we can determine whether it is a saddle-node bifurcation.\n",
    "\n",
    "- Consider a single control parameter, $\\alpha$. \n",
    "- Let $\\mathbf{F}_{\\alpha}$ be the $n\\times 1$ vector of partial derivatives of $\\mathbf{F}$ with respect to $\\alpha$. \n",
    "- Append this to the state matrix to make $\\left[D_{\\mathbf{x}}\\mathbf{F}|\\mathbf{F}_{\\alpha}\\right]$\n",
    "- At a saddle-node bifurcation point, $\\mathbf{F}_{\\alpha}$ *is not* in the  space (range) of $D_{\\mathbf{x}}\\mathbf{F}$\n",
    "- At a pitchfork or transcritical bifurcation point, $\\mathbf{F}_{\\alpha}$ *is* in the range of $D_{\\mathbf{x}}\\mathbf{F}$\n",
    "\n",
    "Range of a matrix is all space that can be reached by $A\\mathbf{z}$ where $\\mathbf{z}$ is $\\in \\mathcal{R}^n$.\n",
    "\n",
    "\n",
    "#### Example 2.12\n",
    "\n",
    "$$\\dot{x} = F(x;\\mu) = \\mu-x^2$$\n",
    "\n",
    "For $\\mu<0$, there are no fixed points ($x^2<0$). For $\\mu = 0$ there is one, for $\\mu>0$ there is two, $\\pm\\sqrt{\\mu}$.\n",
    "\n",
    "In this case, the Jacobian matrix is\n",
    "$$\\lambda = -2x$$\n",
    "\n",
    "$x = \\sqrt{\\mu}$ is stable because $\\lambda<0$ and $x = -\\sqrt{\\mu}$ is unstable because $\\lambda>0$\n",
    "\n",
    "- at $(0,0)$, $F(x,\\mu) = 0$ and $D_xF$ has a zero eigenvalue. \n",
    "- Hence, there is a non-hyperbolic fixed point at $\\mu = 0$. \n",
    "- At this point, $F_{\\mu} = 1$, and $D_xF = 0$.\n",
    "    - $F_{\\mu} = 1$ does not belong to the space of $D_xF$ (which is no space), therefore this is a saddle-node bifurcation point. \n",
    "\n",
    "it is a static bifurcation point. "
   ]
  },
  {
   "cell_type": "code",
   "execution_count": null,
   "metadata": {
    "collapsed": false,
    "input_collapsed": true
   },
   "outputs": [],
   "source": [
    "mu = sp.linspace(0,1.8,100)\n",
    "x = sp.sqrt(mu)\n",
    "plt.plot(mu,x,'-')\n",
    "plt.plot(mu,-x,'--')\n",
    "plt.axis((-2,2,-2,2))\n",
    "plt.xlabel('$\\mu$')\n",
    "plt.ylabel('x')\n",
    "plt.grid('on')\n",
    "plt.title('Bifurcation Diagram of $\\dot{x}= \\mu-x^2$');"
   ]
  },
  {
   "cell_type": "markdown",
   "metadata": {},
   "source": [
    "#### Example 2.13\n",
    "\n",
    "$$\\dot{x} = F(x;\\mu) = \\mu x + \\alpha x^3$$\n",
    "Three fixed points:\n",
    "- $x = 0$ (trivial fixed point)\n",
    "- $x = \\pm\\sqrt{-\\mu/\\alpha}$ (nontrivial fixed point)\n",
    "\n",
    "The Jacobian is\n",
    "$$D_xF = \\mu + 3 \\alpha x^2$$\n",
    "and has a single eigenvalue at each fixed point\n",
    "- $\\lambda = \\mu$ at $x=0$\n",
    "- $\\lambda = -2\\mu$ at $x = \\pm \\sqrt{-\\mu/\\alpha}$\n",
    "\n",
    "- The trivial fixed point is stable when $\\mu<0$ and unstable otherwise\n",
    "- When $\\alpha>0$, nontrivial fixed points exist only when $\\mu<0$, and they are unstable. \n",
    "- When $\\alpha<0$, nontrivial fixed points exists only when $\\mu>0$, and they are stable. \n",
    "\n"
   ]
  },
  {
   "cell_type": "markdown",
   "metadata": {},
   "source": [
    "Supercritical pitchfork bifurcation"
   ]
  },
  {
   "cell_type": "code",
   "execution_count": null,
   "metadata": {
    "collapsed": false,
    "input_collapsed": true,
    "scrolled": false
   },
   "outputs": [],
   "source": [
    "mu = sp.linspace(0,1.8,100)\n",
    "x = sp.sqrt(mu)\n",
    "plt.plot(mu,x,'-k',mu,-x,'-k')\n",
    "plt.plot(mu,x*0,'--k')\n",
    "mu = sp.linspace(0,-1.8,100)\n",
    "plt.plot(mu,mu*0,'-k')\n",
    "plt.axis((-2,2,-2,2))\n",
    "plt.xlabel('$\\mu$')\n",
    "plt.ylabel('x')\n",
    "plt.grid('on')\n",
    "plt.title('Bifurcation Diagram of $\\dot{x} = \\mu x + \\\\alpha x^3,\\, \\\\alpha = -1$');"
   ]
  },
  {
   "cell_type": "markdown",
   "metadata": {},
   "source": [
    "Subcritical pitchfork bifurcation"
   ]
  },
  {
   "cell_type": "code",
   "execution_count": null,
   "metadata": {
    "collapsed": false,
    "input_collapsed": true
   },
   "outputs": [],
   "source": [
    "mu = sp.linspace(0,1.8,100)\n",
    "x = sp.sqrt(mu)\n",
    "plt.plot(-mu,x,'--k',-mu,-x,'--k')\n",
    "plt.plot(-mu,x*0,'-k')\n",
    "plt.plot(mu,mu*0,'--k')\n",
    "plt.axis((-2,2,-2,2))\n",
    "plt.xlabel('$\\mu$')\n",
    "plt.ylabel('x')\n",
    "plt.grid('on')\n",
    "plt.title('Bifurcation Diagram of $\\dot{x} = \\mu x + \\\\alpha x^3,\\, \\\\alpha = 1$');"
   ]
  },
  {
   "cell_type": "markdown",
   "metadata": {},
   "source": [
    "#### Example 2.14\n",
    "\n",
    "$$\\dot{x} = \\mu x -x^2$$\n",
    "2 fixed points\n",
    "- $x = 0$; trivial fixed point\n",
    "- $x = \\mu$; nontrivial fixed point.\n",
    "\n",
    "$$D_xF = \\mu-2x$$\n",
    "Single eigenvalue\n",
    "$$\\lambda = \\mu,\\, \\text{at}\\, x=0$$\n",
    "$$\\lambda = -\\mu,\\, \\text{at}\\, x=\\mu$$\n",
    "\n"
   ]
  },
  {
   "cell_type": "code",
   "execution_count": null,
   "metadata": {
    "collapsed": false,
    "input_collapsed": true
   },
   "outputs": [],
   "source": [
    "mu = sp.linspace(0,1,100)\n",
    "plt.plot(mu,mu,'-k',-mu,-mu,'--k')\n",
    "plt.plot(-mu,mu*0,'-k',mu,mu*0,'--k')\n",
    "plt.axis((-2,2,-2,2))\n",
    "plt.xlabel('$\\mu$')\n",
    "plt.ylabel('x')\n",
    "plt.grid('on')\n",
    "plt.title('Bifurcation Diagram of $\\dot{x} = \\mu x -x^2$');"
   ]
  },
  {
   "cell_type": "markdown",
   "metadata": {},
   "source": [
    "#### Example 2.15\n",
    "\n",
    "$$\\dot{x} = \\mu  -x^5$$\n",
    "One fixed points\n",
    "$x = \\mu^{\\frac{1}{5}}$\n",
    "\n",
    "$$D_xF = -5x^4$$\n",
    "\n",
    "$(0,0)$ is not a bifurcation point because there is no qualitative change to:\n",
    "- number of fixed points\n",
    "- stability of fixed point(s) (singular in this case)"
   ]
  },
  {
   "cell_type": "code",
   "execution_count": null,
   "metadata": {
    "collapsed": false,
    "input_collapsed": true
   },
   "outputs": [],
   "source": [
    "x = sp.linspace(-1,1,100)\n",
    "plt.plot(x**5,x,'-k')\n",
    "plt.axis((-2,2,-2,2))\n",
    "plt.xlabel('$\\mu$')\n",
    "plt.ylabel('x')\n",
    "plt.grid('on')\n",
    "plt.title('Bifurcation Diagram of $\\dot{x} = \\mu  -x^5$');"
   ]
  },
  {
   "cell_type": "markdown",
   "metadata": {},
   "source": [
    "#### Hopf Bifurcations\n",
    "A Hopf bifurcation is said to occur if when a parameter $\\alpha$ is varied through $\\alpha_c$, \n",
    "- $\\mathbf{F}(\\mathbf{x}_0;\\alpha_c) = \\mathbf{0}$\n",
    "- The matrix $D_{\\mathbf{x}}\\mathbf{F}$ has a pair of purely imaginary eigenvalues $\\pm i\\omega_h$ while all of its other eigenvalues have nonzero real parts\n",
    "- For $\\alpha \\approx\\alpha_c$, let the analytic continuation of the pair of imaginary eigenvalues be $\\hat{\\lambda}\\pm i \\omega$. Then $\\Re(d\\hat{\\lambda}/d\\alpha)\\ne0$ at $\\alpha = \\alpha_c$.This condition implies a transversal or nonzero speed crossing of the imaginary axis and is called a *transversality condition*. Note that the $\\ne$ sign is necessary because $\\alpha$ may be a negative parameter.\n",
    "\n",
    "When all of these are satisfied, a periodic solution of period $\\frac{2\\pi}{\\omega_h}$ is created. This can happen under other conditions, typically *degenerate Hopf bifurcations*. \n",
    "\n",
    "The Hopf bifurcation (apparently) is sometimes called a *Poincaré-Andronov-Hopf bifurcation*.\n",
    "\n",
    "*In aeroelasticity, a Hopf bifurcation is known as* **flutter**."
   ]
  },
  {
   "cell_type": "markdown",
   "metadata": {},
   "source": [
    "#### Example 2.16\n",
    "\n",
    "\n",
    "\\begin{align}\n",
    "\\dot{x} &= \\mu x -\\omega y + (\\alpha x - \\beta y)(x^2+y^2)\\\\\n",
    "\\dot{y} &= \\omega x+\\mu y  + (\\beta x + \\alpha y)(x^2+y^2)\n",
    "\\end{align}\n",
    "$\\mu$ is the controlling parameter.\n",
    "\n",
    "$(0,0)$ is a solution for all values of $\\mu$. \n",
    "\n",
    "The Jacobian at $(0,0)$ is given by \n",
    "\n",
    "$$D_\\mathbf{x}(\\mathbf{F})\n",
    "=\n",
    "\\begin{bmatrix}\n",
    "\\mu&-\\omega\\\\\n",
    "\\omega&\\mu\n",
    "\\end{bmatrix}$$\n",
    "and the eigenvalues are\n",
    "$$\\lambda= \\mu \\pm i \\omega$$\n",
    "\n",
    "- From this, $(0,0)$ is non-hyperbolic when $\\mu=0$. \n",
    "- At $(x, y, \\mu) = (0,0,0)$ we note that \n",
    "\n",
    "$$\\frac{d\\lambda_1}{d\\mu}=1,\\,\\text{and}\\,\\frac{d\\lambda_2}{d\\mu}=1$$\n",
    "\n",
    "Hence, 3 conditions for a Hopf bifurcation are satisfied and one occurs at $\\mu = 0$. The period of the bifurcating period solution is $\\frac{2\\pi}{\\omega}$.\n",
    "\n",
    "Consider (and apply) the transformation\n",
    "\n",
    "$$x = r \\cos(\\theta),\\,\\text{and}\\, y = r \\sin(\\theta)$$\n",
    "\n",
    "substituting we transform the governing equations into \n",
    "$$\\dot{r} = \\mu r + \\alpha r^3$$\n",
    "and\n",
    "$$\\dot{\\theta} = \\omega + \\beta r^2$$\n",
    "\n",
    "From this we see the original solution of $(0,0)$ as $r = 0$ and $\\dot{\\theta} = \\omega$ (the second equation meaning nothing if $r=0$). \n",
    "\n",
    "We also see an additional fixed point of $r\\ne 0$ or $r = \\sqrt{{-\\mu}/{\\alpha}}$ which represents an orbit of radius $r$ with constant angular velocity.\n",
    "\n",
    "Note that this is the same as Example 2.13 with an additional equation. \n",
    "\n",
    "So, the Hopf bifurcation in the $(x-y-\\mu)$ space is a pitchfork bifurcation in $(r-\\mu)$ space. \n",
    "\n",
    "- When $\\alpha<0$ we have a supercritical pitchfork bifurcation, and hence a **supercritical Hopf Bifurcation**.\n",
    "- When $\\alpha>0$  we have a subcritical pitchfork bifurcation, and hence a **subcritical Hopf Bifurcation**.\n",
    "- The case of $\\alpha = 0$ is *degenerate*. "
   ]
  },
  {
   "cell_type": "code",
   "execution_count": null,
   "metadata": {
    "collapsed": false,
    "input_collapsed": true,
    "scrolled": false
   },
   "outputs": [],
   "source": [
    "import matplotlib as mpl\n",
    "from mpl_toolkits.mplot3d import Axes3D\n",
    "import numpy as np\n",
    "import matplotlib.pyplot as plt\n",
    "\n",
    "#mpl.rcParams['legend.fontsize'] = 10\n",
    "plt.rcParams['figure.figsize'] = (5.0, 4.0)\n",
    "fig = plt.figure()\n",
    "ax = fig.gca(projection='3d')\n",
    "mu = sp.linspace(0,1.8,100)\n",
    "x = sp.sqrt(mu)\n",
    "plt.plot(-mu,x,x*0,'--k')\n",
    "plt.plot(-mu,-x,x*0,'--k')\n",
    "plt.plot(-mu,x*0,x,'--k')\n",
    "plt.plot(-mu,-x*0,-x,'--k')\n",
    "theta = 2*sp.pi*sp.linspace(0,1,100)\n",
    "plt.plot(-1.8+0*theta,sp.sqrt(1.8)*sp.sin(theta),sp.sqrt(1.8)*sp.cos(theta),'--k')\n",
    "plt.plot(-mu,x*0,'-k')\n",
    "plt.plot(mu,x*0,'--k')\n",
    "plt.xlabel('$\\mu$')\n",
    "plt.ylabel('x')\n",
    "ax.set_zlabel('y')\n",
    "plt.grid('on')\n",
    "plt.title('Bifurcation (subcritical) Diagram of $\\dot{x} = \\mu x + \\\\alpha x^3,\\, \\\\alpha = 1$');"
   ]
  },
  {
   "cell_type": "code",
   "execution_count": null,
   "metadata": {
    "collapsed": false,
    "input_collapsed": true,
    "scrolled": false
   },
   "outputs": [],
   "source": [
    "mu = sp.linspace(0,1.8,100)\n",
    "x = sp.sqrt(mu)\n",
    "plt.plot(-mu,x,'--k',-mu,-x,'--k')\n",
    "plt.plot(-mu,x*0,'-k')\n",
    "plt.plot(mu,mu*0,'--k')\n",
    "plt.axis((-2,2,-2,2))\n",
    "plt.xlabel('$\\mu$')\n",
    "plt.ylabel('x')\n",
    "plt.grid('on')\n",
    "plt.title('Subcritical bifurcation diagram of $\\dot{x} = \\mu x + \\\\alpha x^3,\\, \\\\alpha = 1$');"
   ]
  },
  {
   "cell_type": "code",
   "execution_count": null,
   "metadata": {
    "collapsed": false,
    "input_collapsed": true
   },
   "outputs": [],
   "source": [
    "import matplotlib as mpl\n",
    "from mpl_toolkits.mplot3d import Axes3D\n",
    "import numpy as np\n",
    "import matplotlib.pyplot as plt\n",
    "mpl.rcParams['legend.fontsize'] = 10\n",
    "\n",
    "fig = plt.figure()\n",
    "\n",
    "ax = fig.gca(projection='3d')\n",
    "mu = sp.linspace(0,1.8,100)\n",
    "x = sp.sqrt(mu)\n",
    "plt.plot(mu,x,x*0,'-k')\n",
    "plt.plot(mu,-x,x*0,'-k')\n",
    "plt.plot(mu,x*0,x,'-k')\n",
    "plt.plot(mu,-x*0,-x,'-k')\n",
    "theta = 2*sp.pi*sp.linspace(0,1,100)\n",
    "plt.plot(1.8+0*theta,sp.sqrt(1.8)*sp.sin(theta),sp.sqrt(1.8)*sp.cos(theta),'-k')\n",
    "plt.plot(-mu,x*0,'-k')\n",
    "plt.plot(mu,x*0,'--k')\n",
    "plt.xlabel('$\\mu$')\n",
    "plt.ylabel('x')\n",
    "ax.set_zlabel('y')\n",
    "\n",
    "plt.grid('on')\n",
    "plt.title('Supercritical Bifurcation Diagram of $\\dot{x} = \\mu x + \\\\alpha x^3,\\, \\\\alpha = -1$');"
   ]
  },
  {
   "cell_type": "code",
   "execution_count": null,
   "metadata": {
    "collapsed": false,
    "input_collapsed": true,
    "scrolled": false
   },
   "outputs": [],
   "source": [
    "mu = sp.linspace(0,1.8,100)\n",
    "x = sp.sqrt(mu)\n",
    "plt.plot(mu,x,'-k',mu,-x,'-k')\n",
    "plt.plot(mu,x*0,'--k')\n",
    "mu = sp.linspace(0,-1.8,100)\n",
    "plt.plot(mu,mu*0,'-k')\n",
    "plt.axis((-2,2,-2,2))\n",
    "plt.xlabel('$\\mu$')\n",
    "plt.ylabel('x')\n",
    "plt.grid('on')\n",
    "plt.title('Supercritical Bifurcation Diagram of $\\dot{x} = \\mu x + \\\\alpha x^3,\\, \\\\alpha = 1$');"
   ]
  },
  {
   "cell_type": "markdown",
   "metadata": {},
   "source": [
    "#### Example 2.17\n",
    "Flywheel governor (you can find this derived in my ME 7210 exam solutions)\n",
    "\n",
    "\\begin{align}\n",
    "\\dot{x}_1&=x_2\\\\\n",
    "\\dot{x}_2&=(\\sin x_1 \\cos x_1) x_3^2-\\sin x_1 - \\mu x_2\\\\\n",
    "\\dot{x}_3&= k(\\cos x_1 - \\rho)\n",
    "\\end{align}\n",
    "\n",
    "$\\mu$ represents friction and will be our control parameter. All constants are positive, and $\\rho<1$. \n",
    "\n",
    "The fixed points are given by\n",
    "\n",
    "$$(x_{10}, x_{20},  x_{30}) = (\\cos^{-1} \\rho, 0, \\pm 1/\\sqrt{\\rho})$$\n",
    "\n",
    "The Jacobian matrix is evaluated as \n",
    "\n",
    "$$D_x \\mathbf{F} = \n",
    "\\begin{bmatrix}\n",
    "0&1&0\\\\\n",
    "\\frac{\\rho^2-1}{\\rho}&-\\mu& 2\\sqrt{\\rho}\\sqrt{1-\\rho^2}\\\\\n",
    "-k\\sqrt{1-\\rho^2}&0&0\n",
    "\\end{bmatrix}\n",
    "$$\n",
    "which yields a cubic characteristic equation. \n",
    "\n",
    "$$\\lambda^3+\\mu\\lambda^2 +\\frac{1-\\rho^2}{\\rho}\\lambda + 2k\\sqrt{\\rho}(1-\\rho^2)=0$$\n",
    "\n"
   ]
  },
  {
   "cell_type": "markdown",
   "metadata": {},
   "source": [
    "We can apply the Routh-Hurwitz criteria to test that none of the roots have positive real parts. This method is commonly used in stability evaluation in controls theory. See Wikipedia for the application (higher order example). \n",
    "\n",
    "For this case we write the polynomial as\n",
    "$$a_3\\lambda^3+a_2\\lambda^2+a_1\\lambda^1+a_0\\lambda^0 = 0$$\n",
    "where the coefficients are provided earlier. \n",
    "\n",
    "$$\n",
    "\\begin{array}{c|c}\n",
    " \\ a_{3}&a_1\\\\\n",
    "\\hline a_2&a_0\\\\\n",
    "\\hline b_1&b_2\\\\\n",
    "\\hline c_1&c_2\n",
    "\\end{array}\n",
    "$$\n",
    "where\n",
    "$$b_i = \\frac{a_{n-1}\\times a_{n-2i}-a_n\\times a_{n-2i-1}}{a_{n-1}}\n",
    "$$\n",
    "$$c_i = \\frac{c_1\\times a_{n-2i-1}-a_{n-1}\\times b_{i+1}}{b_1}\n",
    "$$\n",
    "which results in the Routh-Hurwitz table:\n",
    "$$\\begin{array}{c|c}\n",
    "\\, 1&\\frac{1-\\rho^2}{\\rho}\\\\\n",
    "\\hline \\mu&2k\\sqrt{\\rho}(1-\\rho^2)\\\\\n",
    "\\hline \\frac{\\mu \\frac{1-\\rho^2}{\\rho}- 1\\times 2k\\sqrt{\\rho}(1-\\rho^2)}{\\mu}& 0\\\\\n",
    "\\hline \\frac{\\frac{\\mu \\frac{1-\\rho^2}{\\rho}- 1 \\times 2k\\sqrt{\\rho}(1-\\rho^2)}{\\mu}\\times 2k\\sqrt{\\rho}(1-\\rho^2)}{\\frac{\\mu \\frac{1-\\rho^2}{\\rho}- 1\\times 2k\\sqrt{\\rho}(1-\\rho^2)}{\\mu}}&0\n",
    "\\end{array}\n",
    "$$\n",
    "\n",
    "The last row can clearly be simplified so that\n",
    "\n",
    "$$\\begin{array}{c|c}\n",
    "\\, 1&\\frac{1-\\rho^2}{\\rho}\\\\\n",
    "\\hline \\mu&2k\\sqrt{\\rho}(1-\\rho^2)\\\\\n",
    "\\hline \\frac{\\mu \\frac{1-\\rho^2}{\\rho}- 1\\times 2k\\sqrt{\\rho}(1-\\rho^2)}{\\mu}& 0\\\\\n",
    "\\hline  2k\\sqrt{\\rho}(1-\\rho^2)&0\n",
    "\\end{array}\n",
    "$$\n"
   ]
  },
  {
   "cell_type": "markdown",
   "metadata": {},
   "source": [
    "Routh Hurwitz theory states that the number of sign changes in the first column is equal to the number of non-negative roots of the polynomial. So, we must have\n",
    "$$\\mu>0,\\,\\frac{1-\\rho^2}{\\rho}\\left(\\mu-2k\\rho^{3/2}\\right),\\,   2k\\sqrt{\\rho}(1-\\rho^2)>0$$\n",
    "where I leave the simplification/reduction of the second term to you. \n",
    "\n",
    "The first condition is always true. The last condition is always true because $k>0$ and $\\rho<1$\n",
    "\n",
    "So, as when the third condition is true, the fixed point is stable. \n",
    "\n",
    "This is true only for $\\mu>2k\\rho^{3/2}$. This is the critically required damping for stability. "
   ]
  },
  {
   "cell_type": "markdown",
   "metadata": {},
   "source": [
    "Consider that at criticality, the eigenvalues are $i\\omega_0,\\,-i\\omega_0,\\,\\lambda_3$\n",
    "\n",
    "then the chacteristic polynomial is\n",
    "\n",
    "$$(\\lambda-i\\omega_0)(\\lambda+i\\omega_0)(\\lambda-\\lambda_3)=0$$\n",
    "which is\n",
    "\n",
    "$$\\lambda^3-\\lambda_3\\lambda^2+\\omega_0^2\\lambda-\\lambda_3\\omega_0^2=0$$\n",
    "\n",
    "which means that $\\omega_0^2 = \\frac{1-\\rho^2}{\\rho}$"
   ]
  },
  {
   "cell_type": "markdown",
   "metadata": {},
   "source": [
    "Now to check the transversality condition required for the Hopf bifurcation. \n",
    "\n",
    "Near the bifurcation point, we let $\\lambda_1=-i \\omega_0$ and $\\lambda_2=i \\omega_0$\n",
    "Differentiating all of the characteristic polynomial with respect to $\\mu$ \n",
    "\n",
    "$$3\\lambda^2\\frac{d\\lambda}{d\\mu}+\\lambda^2+2\\mu\\lambda\\frac{d\\lambda}{d\\mu}+\\frac{1-\\rho^2}{\\rho}\\frac{d\\lambda}{d\\mu}=0$$\n",
    "\n",
    "$$\\left(3\\lambda^2+2\\mu\\lambda+\\frac{1-\\rho^2}{\\rho}\\right)\\frac{d\\lambda}{d\\mu}+\\lambda^2=0$$\n",
    "\n",
    "$$\\frac{d\\lambda}{d\\mu} = -\\frac{\\lambda^2}{3\\lambda^2+2\\mu\\lambda+\\frac{1-\\rho^2}{\\rho}}$$\n",
    "\n",
    "$$\\frac{d\\lambda}{d\\mu} = -\\frac{1}{3+\\frac{2\\mu}{\\lambda}+\\frac{1-\\rho^2}{\\rho\\lambda^2}}$$\n",
    "\n",
    "$$\\frac{d\\lambda}{d\\mu} = -\\frac{1}{3+\\frac{2\\mu}{\\lambda}+\\left(\\frac{\\omega_0}{\\lambda}\\right)^2}$$"
   ]
  },
  {
   "cell_type": "markdown",
   "metadata": {},
   "source": [
    "At $\\mu=\\mu_c$, substituting $\\lambda = -i\\omega_0$ and $\\lambda = i\\omega_0$ gives\n",
    "$$\\frac{d\\lambda_1}{d\\mu}=-\\frac{1-i\\mu_c/\\omega_0}{2\\left(1+\\mu_c^2/\\omega_0^2\\right)}$$\n",
    "and\n",
    "$$\\frac{d\\lambda_2}{d\\mu}=-\\frac{1+i\\mu_c/\\omega_0}{2\\left(1+\\mu_c^2/\\omega_0^2\\right)}$$\n",
    "\n",
    "Because the real parts of $\\frac{d\\lambda_1}{d\\mu}$ and $\\frac{d\\lambda_2}{d\\mu}$ are nonzero, the transversality condition is satisfied. This means that the poles are crossing the imaginary axis. \n",
    "\n",
    "Hence, the fixed point $(\\cos^{-1} \\rho, 0,  1/\\sqrt{\\rho})$ can experience a Hopf bifurcation. \n",
    "\n",
    "*Next* let's investigate $(\\cos^{-1} \\rho, 0, -1/\\sqrt{\\rho})$\n",
    "\n",
    "The Jacobian matrix is\n",
    "$$D_x \\mathbf{F} = \n",
    "\\begin{bmatrix}\n",
    "0&1&0\\\\\n",
    "\\frac{\\rho^2-1}{\\rho}&-\\mu& -2\\sqrt{\\rho}\\sqrt{1-\\rho^2}\\\\\n",
    "-k\\sqrt{1-\\rho^2}&0&0\n",
    "\\end{bmatrix}\n",
    "$$\n",
    "with the characteristic polynomial of \n",
    "$$\\lambda^3+\\mu\\lambda^2 +\\frac{1-\\rho^2}{\\rho}\\lambda + -2k\\sqrt{\\rho}(1-\\rho^2)=0$$\n",
    "\n",
    "Applying Routh-Hurwitz, this fixed point will always have an unstable root and while a Hopf bifurcation technically exists, it is not as interesting as the instability."
   ]
  },
  {
   "cell_type": "markdown",
   "metadata": {},
   "source": [
    "### 2.3.2 Normal Forms of Bifurcations\n",
    "- Normal form of a bifurcation is a simplified set of equations that approximates the dynamics of the system in the vicinity of a bifurcation point. \n",
    "\n",
    "- We we cover methods for obtaining them shortly. \n",
    "\n",
    "- Generally, a much lower dimension than the full system. (reduced order model). \n",
    "\n",
    "- For static bifurcations, the normal form is a one-dimensional autonomous system. \n",
    "\n",
    "- For Hopf bifurcations, the normal form is a two-dimensional autonomous system. \n",
    "\n",
    "##### Normal forms\n",
    "+ *Generic saddle-node bifurcations*, $\\mu$ is the control parameter\n",
    "  $$\\dot{x} = \\mu +\\alpha x^2$$\n",
    "\n",
    "+ *Generic transcritical bifurcations*, $\\mu$ is the control parameter\n",
    "  $$\\dot{x} = \\mu x -\\alpha x^2$$\n",
    "\n",
    "+ *Generic pitchfork bifurcations*, $\\mu$ is the control parameter\n",
    "  $$\\dot{x} = \\mu x +\\alpha x^3$$\n",
    "\n",
    "+ *Generic Hopf bifurcations*, $\\mu$ is the control parameter\n",
    " \n",
    "\n",
    "\\begin{align}\n",
    "\\dot{x} &= \\mu x -\\omega y + (\\alpha x - \\beta y)(x^2+y^2)\\\\\n",
    "\\dot{y} &= \\omega x+\\mu y  + (\\beta x + \\alpha y)(x^2+y^2)\n",
    "\\end{align}\n",
    "\n",
    "with corresponding polar form\n",
    "\n",
    "\\begin{align}\n",
    "\\dot{r} &= \\mu r + \\alpha r^3\\\\\n",
    "\\dot{\\theta} &= \\omega + \\beta r^2\n",
    "\\end{align}"
   ]
  },
  {
   "cell_type": "markdown",
   "metadata": {},
   "source": [
    "#### 2.3.3 Bifurcation Diagrams and Sets\n",
    "\n",
    "To construct a *local bifurcation diagram*, we first simplify the system to its normal form in the vicinity of the bifurcation, then use the normal form to construct the bifurcation diagram. \n",
    "\n",
    "#### Example 2.18 Duffing Oscillator (Mook and Nayfeh- 1979)\n",
    "\n",
    "$$\\ddot{u}+u+\\epsilon\\left( 2\\mu \\dot{u}+\\alpha u^3 \\right) = 2 \\epsilon k \\cos(\\Omega t)$$\n",
    "\n",
    "We will analyze this near *primary resonance* of $\\Omega \\approx 1$.$\\epsilon$ is a small positive parameter, $\\mu>0$ represents damping, $\\alpha>0$ is the coefficient to the nonlinearity, $2\\epsilon k$ is the amplitude of the forcing function. $\\Omega> 0$ is the driving frequency. \n",
    "\n",
    "The excitation is such that \n",
    "$$\\Omega = 1+\\epsilon \\sigma$$ \n",
    "where $\\sigma$ is the **external detuning**. \n",
    "\n",
    "The *Method of Multiple Scales* (taught later) can show that the solution is\n",
    "\n",
    "$$u=a \\cos(\\Omega t-\\gamma)+O(\\epsilon)$$\n",
    "where\n",
    "$$a' = -\\mu a + k \\sin \\gamma$$\n",
    "$$a\\gamma' = \\sigma a -\\frac{3}{8} a^3+k\\cos\\gamma$$\n",
    "Where the primes represent derivatives with respect to the time scale $\\tau$ where $\\tau = \\epsilon t$. \n",
    "\n",
    "These equations are an autonomous system. We can solve for the fixed point using\n",
    "$$-\\mu a_0 + k \\sin \\gamma_0=0$$\n",
    "$$ \\sigma a_0 -\\frac{3}{8}\\alpha  a_0^3+k\\cos\\gamma_0=0$$\n",
    "\n",
    "Rearranging\n",
    "\n",
    "$$\\mu a_0 = k \\sin \\gamma_0$$\n",
    "$$ \\sigma a_0 -\\frac{3}{8} \\alpha a_0^3=-k\\cos\\gamma_0$$\n",
    "\n",
    "Squaring and adding the expressions yields\n",
    "$$\\left[\\mu^2 +\\left(-\\sigma +\\frac{3}{8}\\alpha  a_0^2\\right)^2\\right]a_0^2 = k^2$$\n",
    "\n",
    "Which can be solved for $a_0$, the amplitude,  given the other values, as a function of the detuning, $\\sigma$. Note that this includes the solution if $\\alpha = 0$. "
   ]
  },
  {
   "cell_type": "markdown",
   "metadata": {},
   "source": [
    "The stability  of $(a_0, \\gamma_0)$ is determined by the Jacobian matrix\n",
    "\n",
    "$$D_x\\mathbf{F}\n",
    "= \\begin{bmatrix}\n",
    "-\\mu&k\\cos \\gamma_0\\\\\n",
    "\\frac{1}{a_0}\\left(\\sigma-\\frac{9}{8}\\alpha a_0^2\\right)&-\\frac{k\\sin\\gamma_0}{a_0}\n",
    "\\end{bmatrix}\n",
    "=\\begin{bmatrix}\n",
    "-\\mu&-a_0\\left(\\sigma-\\frac{3}{8}\\alpha a_0^2\\right)\\\\\n",
    "\\frac{1}{a_0} \\left(\\sigma - \\frac{9}{8}\\alpha a_0^2  \\right)& -\\mu\n",
    "\\end{bmatrix}\n",
    "$$\n",
    "\n",
    "the eigenvalues $\\lambda_i$ are the roots of \n",
    "\n",
    "$$ \\lambda^2 + 2 \\mu \\lambda +\\mu^2+\\left(\\sigma-\\frac{3}{8}\\alpha a_0^2\\right)\\left(\\sigma - \\frac{9}{8}\\alpha a_0^2  \\right)=0$$\n",
    "\n",
    "The sum of the eigenvalues of a matrix is equal to the trace of the matrix. The trace of a matrix is the sum of the diagonal terms of the matrix. \n",
    "\n",
    "So, the sum of the eigenvalues is $-2\\mu$. \n",
    "\n",
    "It is also true that the sum of the roots of a quadratic polynomial is equal to the negative of the coefficient to the linear term. \n",
    "\n",
    "Consider $(\\lambda-\\lambda_1)(\\lambda-\\lambda_2)=\\lambda^2-(\\lambda_1+\\lambda_2)\\lambda+\\lambda_1\\lambda_2=0$.\n",
    "\n",
    "- Thus, at least one eigenvalue must have a negative real part. \n",
    "- This eliminates the possibility of purely imaginary eigenvalues and hence a Hopf bifurcation. \n",
    "\n",
    "One of the eigenvalues is zero when (by setting $\\lambda = 0$) \n",
    "$$ \\mu^2+\\left(\\sigma-\\frac{3}{8}\\alpha a_0^2\\right)\\left(\\sigma - \\frac{9}{8}\\alpha a_0^2  \\right)=0$$\n",
    "\n",
    "We can plot the amplitude of the response $a_0$ versus $k$, but this function is nasty. \n",
    "\n",
    "First, note that because it is cubic in $a_0$, it can have up to 3 real answers for the amplitude. \n",
    "\n",
    "If we consider taking the derivative of $k^2$ with respect to $a_0^2$, we will get the inflection points where 3 solutions exist. \n",
    "\n",
    "$$\\frac{d k^2}{da_0^2} = \n",
    "0.421875 a_0^{4} \\alpha^{2} - 1.5 a_0^{2} \\alpha \\sigma + \\mu^{2} + \\sigma^{2}$$"
   ]
  },
  {
   "cell_type": "markdown",
   "metadata": {},
   "source": [
    "So, let's plot $a$ versus $k$. What we find is that there can actually be 3 solutions, with two being stable. \n",
    "\n",
    "If the amplitude of the excitation is increased to the level at $B$, a saddle-node bifurcation occurs and there is no other local solution, so the solution jumps to $C$. \n",
    "\n",
    "If the amplitude starts high and is reduced slowly to $E$, another saddle-node bifurcation occurs and there is no longer a solution near E, so the solution jumps to $H$. "
   ]
  },
  {
   "cell_type": "code",
   "execution_count": null,
   "metadata": {
    "collapsed": false,
    "scrolled": false
   },
   "outputs": [],
   "source": [
    "_,_ = duff_bif_diag(mu = .01, k_int = 0.013, alpha = .2, sigma = 0.05, amax = 1.0)"
   ]
  },
  {
   "cell_type": "markdown",
   "metadata": {},
   "source": [
    "Often called **tangent bifurcations** due to vertical tangency, or **turning points** and **folds**. \n",
    "\n",
    "This is called a **force-response** curve as it shows the relationship between the two. Note that this would be a line for a linear system. \n",
    "\n",
    "Because of the potential for a sudden jump, saddle node bifurcations are examples of **discontinuous** or **catastrophic** bifurcations. \n",
    "\n",
    "This is called the **hysteresis phenomenon** and the jump- well, a **jump** bifurcation. \n",
    "\n",
    "In between the frequencies of $H$ and $B$ the system has **dual stability**. Further, it is dynamic stability: two amplitudes are stable. "
   ]
  },
  {
   "cell_type": "markdown",
   "metadata": {},
   "source": [
    "What does the phase plane for the planar autonomous system look like? $(\\mu = 0.01, k = 0.013, \\alpha = .2, \\sigma = 0.05)$"
   ]
  },
  {
   "cell_type": "code",
   "execution_count": null,
   "metadata": {
    "collapsed": false
   },
   "outputs": [],
   "source": [
    "phase_plot(duf_bif_deriv, max_time=200.0, span = (0.01,1.2,-1,5), args = (.01, 0.012, 0.2, .05))\n",
    "plt.xlabel('a');\n",
    "plt.ylabel('$\\gamma$');"
   ]
  },
  {
   "cell_type": "markdown",
   "metadata": {},
   "source": [
    "So how does this vary with k?"
   ]
  },
  {
   "cell_type": "code",
   "execution_count": null,
   "metadata": {
    "collapsed": false
   },
   "outputs": [],
   "source": [
    "ipcd.display(duff_interact_jump)"
   ]
  },
  {
   "cell_type": "markdown",
   "metadata": {},
   "source": [
    "Consider now using $\\sigma$ as the control parameter (moving the driving frequency slightly in the vicinity of resonance). \n",
    "\n"
   ]
  },
  {
   "cell_type": "code",
   "execution_count": null,
   "metadata": {
    "collapsed": false
   },
   "outputs": [],
   "source": [
    "duff_amp_solve(alpha = -0.2)"
   ]
  },
  {
   "cell_type": "markdown",
   "metadata": {},
   "source": [
    "#### Example 2.19\n",
    "Parametrically excited Duffing Oscillator\n",
    "\n",
    "$$\\ddot{u}+u+\\epsilon\\left[2\\mu \\dot{u} + \\alpha u^3 + 2 k u \\cos \\left(\\Omega t\\right)\\right] = 0$$\n",
    "\n",
    "$\\Omega$ is defined such that \n",
    "$$\\Omega = 2 + \\epsilon \\sigma$$\n",
    "\n",
    "Here the parametric excitation is near twice the natural frequency and is called a **principal parametric resonance**. \n",
    "\n",
    "Using the method of multiple scales, a first order approximation to the solution can be found to be\n",
    "$$\\label{eq:par_duff}\n",
    "u = a \\cos\\left(\\frac{1}{2}\\Omega t - \\frac{1}{2} \\gamma\\right) + O(\\epsilon)$$\n",
    "where\n",
    "$$a' = -\\mu a - \\frac{1}{2}k a \\sin\\gamma$$\n",
    "and\n",
    "$$a \\gamma' = \\sigma a - \\frac{3}{4}\\alpha a^3 - k a \\cos\\gamma$$\n",
    "where the (') represents a derivative with respect to the time scale $\\tau = \\epsilon t$. \n",
    "\n",
    "Alternatively, this can also be expressed in cartesian form as \n",
    "$$\\label{eq:par_duff2} u = p \\cos\\left(\\frac{1}{2} \\Omega t\\right) + q \\sin\\left(\\frac{1}{2}\\Omega t\\right) + O(\\epsilon)$$\n",
    "where\n",
    "$$p' = -\\mu p - \\frac{1}{2}(\\sigma+k)q+\\frac{3}{8}\\alpha q (p^2+q^2)$$\n",
    "and\n",
    "$$q' = -\\mu q + \\frac{1}{2}(\\sigma-k)p-\\frac{3}{8}\\alpha p (p^2+q^2)$$\n",
    "\n",
    "Comparing equations (\\ref{eq:par_duff}) and (\\ref{eq:par_duff2}), application of trig identities shows that\n",
    "$$p = a \\cos\\left(\\frac{1}{2}\\gamma\\right),\\,\\text{and}\\,q = a \\sin\\left(\\frac{1}{2}\\gamma\\right)$$\n",
    "\n",
    "Also, note that *dual solutions* exist. That means that our solutions are the same under the transformations\n",
    "$$(a,\\gamma) \\Leftrightarrow(-a,\\gamma)$$\n",
    "\n",
    "and\n",
    "$$ (p,q) \\Leftrightarrow (-p,-q)$$"
   ]
  },
  {
   "cell_type": "markdown",
   "metadata": {},
   "source": [
    "Next lets look at the fixed points of the polar form of the solution $a_0$, $\\gamma_0$. They are the solutions of \n",
    "\n",
    "$$\\mu a_0 + \\frac{1}{2}k a_0 \\sin\\gamma_0=0$$\n",
    "and\n",
    "$$-\\sigma a_0 + \\frac{3}{4}\\alpha a_0^3 + k a_0 \\cos\\gamma_0=0$$\n",
    "\n",
    "There are two types of fixed points: a) Trivial points ($a_0=0$), and b) nontrivial ($a_0\\neq 0$).\n",
    "\n",
    "With some algebra\n",
    "\n",
    "$$\\label{eq:par_duff_equil1}a_0^2 = \\frac{4}{3\\alpha}\\left(\\sigma\\pm\\sqrt{k^2-4\\mu^2}\\right)$$\n",
    "and\n",
    "$$\\label{eq:par_duff_equil2}\\gamma_0 = \\text{arcsin}\\left(-\\frac{2\\mu}{k}\\right)$$\n",
    "\n",
    "\n",
    "\n"
   ]
  },
  {
   "cell_type": "markdown",
   "metadata": {},
   "source": [
    "##### Considering stability of the fixed points.\n",
    "\n",
    "For the trivial solution ($a_0=0$), note that in linearizing the equations in $a$ and $\\gamma$ the right hand sides become identity statements (zero). This can be demonstrating by substituting the solution $a_0=0$ and $\\tan\\gamma = \\frac{-2\\mu}{\\sigma}$. \n",
    "\n",
    "So, linearization of the polar form doesn't help us assess stability of the trivial fixed point. Interesting enough, using $p_0 = a_0 \\cos\\left(\\frac{1}{2}\\gamma_0\\right)$ and $q_0 = a_0 \\sin\\left(\\frac{1}{2}\\gamma_0\\right)$ and linearizing the Cartesian form gives\n",
    "$$D_{\\mathbf{x}}\\mathbf{F} = \n",
    "\\begin{bmatrix}\n",
    "-\\mu+\\frac{3}{4}\\alpha p_0 q_0&-\\frac{1}{2}(\\sigma+k)+\\frac{3}{8}\\alpha(p_0^2+3q_0^2)\\\\\n",
    "\\frac{1}{2}(\\sigma-k)-\\frac{3}{8}\\alpha(3p_0^2+q_0^2)& -\\mu-\\frac{3}{4}\\alpha p_0 q_0\n",
    "\\end{bmatrix}\n",
    "$$\n",
    "\n",
    "- Knowing that the trace of a matrix is the sum of its eigenvalues, the sum of the eigenvalues is $-2\\mu$. Hence at least one eigenvalue is negative. \n",
    "- This eliminates the possibility of purely imaginary eigenvalues. \n",
    "- This eliminates the possibility of a Hopf bifurcation. \n",
    "\n",
    "Using $k$ as a control parameter, the rank of $\\left[D_{\\mathbf{x}}\\mathbf{F}|\\mathbf{F}_k\\right]$ can be used to decide if a static bifurcation is a saddle-node bifurcation. \n",
    "\n",
    "$$\\mathbf{F}_k=-\\frac{1}{2}\\begin{bmatrix}q \\\\p\\end{bmatrix}$$\n",
    "For the trivial fixed point, $D_{\\mathbf{x}}\\mathbf{F}$ is\n",
    "\n",
    "with a characteristic polynomial of \n",
    "$$\\lambda^2+2\\mu\\lambda + \\mu^2 + \\frac{1}{4}(\\sigma^2-k^2)=0$$\n",
    "One of these roots is zero when \n",
    "$$\\label{eq:duff_para_k2}k=k_2 = \\sqrt{4\\mu^2+\\sigma^2}$$\n",
    "\n",
    "At $k=k_2$,\n",
    "$$\\mathbf{F}_k=\\begin{bmatrix}0\\\\0\\end{bmatrix}$$\n",
    "\n",
    "**Prove this statement for homework**.\n",
    "\n",
    "For $\\alpha>0$ and $\\sigma<0$, it follows from (\\ref{eq:par_duff_equil1}) and (\\ref{eq:par_duff_equil2}) that nontrivial fixed points are possible only when $k>\\sqrt{4\\mu^2+\\sigma^2}$ so that the radical in \n",
    "\n",
    "$$a_0^2 = \\frac{4}{3\\alpha}\\left(\\sigma\\pm\\sqrt{k^2-4\\mu^2}\\right)$$ evaluates such that \n",
    "\n",
    "\n",
    "$$a_0^2 = \\frac{4}{3\\alpha}\\left(\\sigma\\pm\\sqrt{4\\mu^2+\\sigma^2-4\\mu^2}\\right) = \\frac{4}{3\\alpha}\\left(\\sigma\\pm\\sqrt{\\sigma^2}\\right)$$ \n",
    "\n",
    "at $k=k_2$\n",
    "\n",
    "and the resulting fixed points are\n",
    "$$(a_{10},\\gamma_{10}) = \\left(\\sqrt{a_0^2},\\gamma_0\\right),\\,\\text{and}\\,(a_{20},\\gamma_{20}) = \\left(-\\sqrt{a_0^2},\\gamma_0\\right)$$\n",
    "and these can also be converted to Cartesian form.\n",
    "\n",
    "For $\\alpha>0$ and $\\sigma<0$"
   ]
  },
  {
   "cell_type": "code",
   "execution_count": null,
   "metadata": {
    "collapsed": false,
    "input_collapsed": false
   },
   "outputs": [],
   "source": [
    "k = sp.linspace(2.0,4.0,100)\n",
    "a = sp.sqrt(k-2)\n",
    "plt.plot(k,a,'-k')\n",
    "plt.plot(k,-a,'-k')\n",
    "plt.plot(k,a*0,'--k')\n",
    "mu = sp.linspace(0,-1.8,100)\n",
    "plt.plot(k-2,a*0,'-k')\n",
    "plt.axis((-0.2,4,-2,2))\n",
    "plt.xlabel('$k$')\n",
    "plt.ylabel('a')\n",
    "plt.grid('on')\n",
    "plt.annotate('$k_2$', xy=(1.85,0.03))\n",
    "plt.title('Bifurcation Diagram using $k$ as a control parameter.');"
   ]
  },
  {
   "cell_type": "markdown",
   "metadata": {},
   "source": [
    "*This is a supercritical pitchfork bifurcation. We will prove/derive this later.* \n",
    "\n",
    "In an experiment, a gradual increase in $k$ would yield a gradual transition from the trivial solution to the nontrivial solution at $k_2$. Thus this is considered a *safe* bifurcation. "
   ]
  },
  {
   "cell_type": "markdown",
   "metadata": {},
   "source": [
    "For $\\alpha>0$ and $\\sigma>0$ nontrivial fixed points are possible for $k>k_1=2\\mu$ (because the radical will be real). At $k=k_1$\n",
    "\n",
    "$$(a_{10},\\gamma_{10}) = \\left(\\sqrt{\\frac{4\\sigma}{3\\alpha}},-\\frac{1}{2}\\pi\\right)$$\n",
    "\n",
    "$$(a_{20},\\gamma_{20}) = \\left(-\\sqrt{\\frac{4\\sigma}{3\\alpha}},-\\frac{1}{2}\\pi\\right)$$\n",
    "\n",
    "also \n",
    "$$(p_{10},q_{10}) = \\left(\\sqrt{\\frac{2\\sigma}{3\\alpha}},-\\sqrt{\\frac{2\\sigma}{3\\alpha}}   \\right)$$\n",
    "\n",
    "$$(p_{20},q_{20}) = \\left(-\\sqrt{\\frac{2\\sigma}{3\\alpha}},\\sqrt{\\frac{2\\sigma}{3\\alpha}}   \\right)$$\n",
    "\n",
    "For $(p_{10},q_{10})$, $D_\\mathbf{x}\\mathbf{F}$ reduces to\n",
    "\n",
    "$$D_{\\mathbf{x}}\\mathbf{F} = \n",
    "\\begin{bmatrix}\n",
    "-\\mu-\\frac{1}{2}\\sigma&-\\mu+\\frac{1}{2}\\sigma\\\\\n",
    "-\\mu-\\frac{1}{2}\\sigma&-\\mu+\\frac{1}{2}\\sigma\n",
    "\\end{bmatrix}\n",
    "$$\n",
    "\n",
    "which has a zero eigenvalue\n",
    "\n",
    "**Prove this for homework**.\n",
    "\n",
    "and $\\mathbf{F}_k$ becomes\n",
    "\n",
    "$$\\mathbf{F}_k=-\\frac{1}{2}\\begin{bmatrix}q_{10}\\\\p_{10}\\end{bmatrix}$$\n",
    "\n",
    "Because $\\mathbf{F}_k$ is not in the range of $D_{\\mathbf{x}}\\mathbf{F}$, the rank of $\\left[D_{\\mathbf{x}}\\mathbf{F}|\\mathbf{F}_k\\right]$ is two. So, at $k=k_1$ the fixed point $(p_{10},q_{10})$ experiences a saddle-node bifurcation. The same happens for $(p_{20},q_{20})$."
   ]
  },
  {
   "cell_type": "markdown",
   "metadata": {},
   "source": [
    "For $\\alpha>0$ and $\\sigma>0$"
   ]
  },
  {
   "cell_type": "code",
   "execution_count": null,
   "metadata": {
    "collapsed": false,
    "input_collapsed": true
   },
   "outputs": [],
   "source": [
    "par_duff_bif_interact = interactive(par_duff_bif, sigma = (0,0.5,0.1), alpha = (0,1,0.1), mu = (0,3,0.1))\n",
    "ipcd.display(par_duff_bif_interact)\n"
   ]
  },
  {
   "cell_type": "code",
   "execution_count": null,
   "metadata": {
    "collapsed": false,
    "input_collapsed": true,
    "scrolled": false
   },
   "outputs": [],
   "source": [
    "par_duff_phase_interact = interactive(par_duff_phase, k = (1, 3.2, .2))\n",
    "ipcd.display(par_duff_phase_interact)"
   ]
  },
  {
   "cell_type": "markdown",
   "metadata": {},
   "source": [
    "At $k=k_2$, when the solution is $a_0$, that solution becomes unstable and must jump to the other stable solution. As a result, this is an example of a **catastrophic** or **discontinuous bifurcation**. \n",
    "\n",
    "Suppose we are on the higher branch and radually reduce $k$. When $k=k_1$ a saddle-node bifurcation occurs. \n",
    "\n",
    "Recall equation (\\ref{eq:par_duff_equil1})\n",
    "\n",
    "$$a_0^2 = \\frac{4}{3\\alpha}\\left(\\sigma\\pm\\sqrt{k^2-4\\mu^2}\\right)$$\n",
    "\n",
    "Solving for $k^2$ gives\n",
    "\n",
    "$$k^2 = \\left(\\frac{3\\alpha}{4} a_0^2-\\sigma\\right)^2+ 4 \\mu^2$$\n",
    "\n",
    "We can then calculate\n",
    "\n",
    "$$\\frac{dk^2}{da_0^2} = 2 \\frac{3\\alpha}{4}\\left(\\frac{3\\alpha}{4} a_0^2-\\sigma\\right)$$\n",
    "\n",
    "At $k=k_1 = 2\\mu$, $a_{10} = \\sqrt{\\frac{4\\sigma}{3\\alpha}}$. Substituting, \n",
    "we obtain that $\\frac{dk^2}{da_0^2}=0$. \n",
    "\n",
    "This means that the slope is zero (or $\\frac{da_0^2}{dk^2}=\\infty$) and that this is a point tangent to the verticle. "
   ]
  },
  {
   "cell_type": "markdown",
   "metadata": {},
   "source": [
    "##### Summary of observed bifurcations. \n",
    "\n",
    "- All bifurcations of this example are *static bifurcations* because:\n",
    "    - There is a fixed point.\n",
    "    - $D_\\mathbf{X}\\mathbf{F}$ has a single zero eigenvalue while all other eigenvalues have non-zero real parts. This means: we have one \"floating\" mode. \n",
    "\n",
    "- Recall that $k_1= 2\\mu$ is the location of the *saddle-node bifurcation point*. \n",
    "- It is a saddle-node bifurcation point because $\\mathbf{F}_{\\alpha}$ does not belong to the range of $D_\\mathbf{X}\\mathbf{F}$. \n",
    "\n",
    "- Recall that at $k_2 = \\sqrt{4\\mu^2+\\sigma^2}$ we have a *pitchfork bifurcation point* because $\\mathbf{F}_{\\alpha}$ does belong to the range of $D_\\mathbf{X}\\mathbf{F}$ because we have an increase in the number of stable solutions (more fixed points come into being). \n",
    "\n",
    "Recall from equation (\\ref{eq:duff_para_k2}) that an eigenvalue goes to zero when \n",
    "$$k^2 = 4 \\mu^2+\\sigma^2$$\n",
    "\n",
    "As a result, we can plot the locations of the critical values of $k$ versus $\\sigma$ for fixed $\\mu$. "
   ]
  },
  {
   "cell_type": "code",
   "execution_count": null,
   "metadata": {
    "collapsed": false
   },
   "outputs": [],
   "source": [
    "mu = 0.1;\n",
    "sigma = sp.arange(-2,2,0.01)\n",
    "k_pitch = sigma*0+2*mu\n",
    "plt.plot(sigma[sigma>0],k_pitch[sigma>0],'-k')\n",
    "plt.plot(sigma,sp.sqrt(4*mu**2+sigma**2))\n",
    "plt.grid('on')\n",
    "plt.xlabel('$\\sigma$')\n",
    "plt.ylabel('$k$')"
   ]
  },
  {
   "cell_type": "markdown",
   "metadata": {},
   "source": [
    "### 2.3.4 Center Manifold Reduction\n",
    "\n",
    "- First \n",
    "    - To determine the center manifold associated with a fixed point, $\\mathbf{x} = \\mathbf{x}_0$, first apply $$\\mathbf{x} = \\mathbf{y} + \\mathbf{x}_0$$ so that the origin is the fixed point of interest.\n",
    "\n",
    "    - Presuming a sufficiently smooth function $\\mathcal{C}^r$ where $r$ is as large as needed. \n",
    "\n",
    "    - $\\dot{\\mathbf{y}} = A\\mathbf{y} + \\mathbf{F}_2(\\mathbf{y}) + \\mathbf{F}_3(\\mathbf{y}) + O(||\\mathbf{y}||^4)$\n",
    "\n",
    "    - where $A = D_\\mathbf{x}\\mathbf{F}(\\mathbf{x}_0;\\mathbf{M}_0)$ is the Jacobian matrix, and the \n",
    "    - $\\mathbf{F}_N(\\mathbf{y})$ consists of polynomials with terms of order $N$ in $y_i = y_1, y_2, \\ldots$\n",
    "\n",
    "- Second\n",
    "    - Rearrange $A$ such that $\\lambda_1,\\ldots, \\lambda_m$ are the $m$ eigenvalues with zero real parts\n",
    "    - $\\mathbf{p}_1, \\mathbf{p}_2, \\mathbf{p}_3, \\ldots, \\mathbf{p}_m$ are the corresponding eigenvectors.\n",
    "    - The eigenvalues $m+1$ through $n$ and corresponding eigenvectors have non-zero real parts \n",
    "\n",
    "- Third\n",
    "    - Rotate the coordinate system using $\\mathbf{y} = P \\mathbf{v}$\n",
    "    - $\\dot{\\mathbf{v}} =J \\mathbf{v} + P^{-1}\\mathbf{F}_2(P \\mathbf{v}) + P^{-1}\\mathbf{F}_3(P \\mathbf{v}) + O(||P \\mathbf{v}||^4)$\n",
    "    - $J = P^{-1}AP = \\begin{bmatrix}J_c&0\\\\0&J_s\\end{bmatrix}$ is the diagonal matrix of eigenvalues\n",
    "    \n",
    "- Fourth\n",
    "    - $\\mathbf{v}_c$ is the $m$-dimensional vector, $\\mathbf{v}_s$ is the remainder of $\\mathbf{v}$. \n",
    "    - Separate the equation $\\dot{\\mathbf{v}}=\\ldots$ into\n",
    "        - $\\dot{\\mathbf{v}}_c = J_c \\mathbf{v}_c + \\mathbf{G}_2(\\mathbf{v}_c, \\mathbf{v}_s) + \\mathbf{G}_3(\\mathbf{v}_c, \\mathbf{v}_s) + \\cdots$\n",
    "        - $\\dot{\\mathbf{v}}_s = J_s \\mathbf{v}_s + \\mathbf{H}_2(\\mathbf{v}_c, \\mathbf{v}_s) + \\mathbf{H}_3(\\mathbf{v}_c, \\mathbf{v}_s) + \\cdots$\n",
    "    - Note that the equations are linearly uncoupled, but nonlinearly coupled. \n",
    "    - Also note that $D\\mathbf{G}_N = 0$ and $D\\mathbf{H}_N = 0$ \n",
    "    - Because $\\lambda_s$ have negative real parts, the solutions of $\\mathbf{v}_s$ are asymptotic to $0$, outside of being driven by the nonlinear coupling of $\\mathbf{v}_c$. \n",
    "    - Hence $\\mathbf{v}_s = \\mathbf{h}(\\mathbf{v}_c)$ where $\\mathbf{h}$ is a polynomial in $\\mathbf{v}_c$.\n",
    "    - Note that:\n",
    "        - $\\mathbf{h}(\\mathbf{0}) = \\mathbf{0}$\n",
    "        - $D_{\\mathbf{v}_c}h_i(\\mathbf{0}) = \\mathbf{0}$\n",
    "\n",
    "- Fifth\n",
    "    - We determine the $n-m$ dimensional function $\\mathbf{h}$ by constraining the center manifold to be $m$-dimensional in the $n$-dimensional space. \n",
    "    \n",
    "    \n",
    "Substituting $\\mathbf{v}_s = \\mathbf{h}(\\mathbf{v}_c)$ into \n",
    "    \n",
    "$$\\dot{\\mathbf{v}}_s = J_s \\mathbf{v}_s + \\mathbf{H}_2(\\mathbf{v}_c, \\mathbf{v}_s) + \\mathbf{H}_3(\\mathbf{v}_c, \\mathbf{v}_s) + \\cdots$$    \n",
    "\n",
    "gives\n",
    "\n",
    "$$\\dot{\\mathbf{v}}_s = J_s \\mathbf{h}(\\mathbf{v}_c) + \\mathbf{H}_2(\\mathbf{v}_c, \\mathbf{h}(\\mathbf{v}_c)) + \\mathbf{H}_3(\\mathbf{v}_c, \\mathbf{h}(\\mathbf{v}_c)) + \\cdots$$\n",
    "\n",
    "Using the chain rule\n",
    "\n",
    "$$\\dot{\\mathbf{v}}_s = D_{\\mathbf{v}_c}\\mathbf{h}(\\mathbf{v}_c)\\dot{\\mathbf{v}}_c = D_{\\mathbf{v}_c}\\mathbf{h}(\\mathbf{v}_c) \\left( J_c \\mathbf{v}_c + \\mathbf{G}_2(\\mathbf{v}_c, \\mathbf{v}_s) + \\mathbf{G}_3(\\mathbf{v}_c, \\mathbf{v}_s) + \\cdots\\right)$$\n",
    "\n",
    "Equating the right sides of the last two equations yields\n",
    "\n",
    "$$\n",
    "J_s \\mathbf{h}(\\mathbf{v}_c) + \\mathbf{H}_2(\\mathbf{v}_c, \\mathbf{h}(\\mathbf{v}_c)) + \\mathbf{H}_3(\\mathbf{v}_c, \\mathbf{h}(\\mathbf{v}_c)) + \\cdots\n",
    "= D_{\\mathbf{v}_c}\\mathbf{h}(\\mathbf{v}_c) \\left( J_c \\mathbf{v}_c + \\mathbf{G}_2(\\mathbf{v}_c, \\mathbf{v}_s) + \\mathbf{G}_3(\\mathbf{v}_c, \\mathbf{v}_s) + \\cdots\\right)\n",
    "$$\n",
    "\n",
    "- To solve this we use a polynomial approximation. \n",
    "- Recall that there is no constant term or linear term due to the translation and rotation of the coordinates at the fixed point.  \n",
    "- Finding these terms we identify the manifold estimate. \n",
    "\n",
    "Once we have $\\mathbf{v}_s = \\mathbf{h}(\\mathbf{v}_c)$ we return to \n",
    "\n",
    "$$\\dot{\\mathbf{v}}_c = J_c \\mathbf{h}(\\mathbf{v}_c) + \\mathbf{H}_2(\\mathbf{v}_c, \\mathbf{h}(\\mathbf{v}_c)) + \\mathbf{H}_3(\\mathbf{v}_c, \\mathbf{h}(\\mathbf{v}_c)) + \\cdots$$\n",
    "\n",
    "to describe the dynamics of the system on the center manifold. \n",
    "\n"
   ]
  },
  {
   "cell_type": "markdown",
   "metadata": {},
   "source": [
    "stop"
   ]
  },
  {
   "cell_type": "markdown",
   "metadata": {},
   "source": [
    "#### Example 2.20\n",
    "Construct the center manifold for \n",
    "$$\n",
    "\\begin{bmatrix}\n",
    "\\dot{x}\\\\\n",
    "\\dot{y}\n",
    "\\end{bmatrix}\n",
    "=\n",
    "\\begin{bmatrix}\n",
    "0&0\\\\\n",
    "0&-1\n",
    "\\end{bmatrix}\n",
    "\\begin{bmatrix}\n",
    "{x}\\\\\n",
    "{y}\n",
    "\\end{bmatrix}\n",
    "+\n",
    "\\begin{bmatrix}\n",
    "k x y\\\\\n",
    "x^2\n",
    "\\end{bmatrix}\n",
    "$$\n",
    "\n",
    "1. The fixed point is already at $(0,0)$\n",
    "2. The equations are already linearly independent\n",
    "3. The eigenvalues are already sorted (binned) appropriately. \n",
    "\n",
    "Assume \n",
    "$$y = h(x) = a x^2 + b x^3 + \\cdots$$\n",
    "\n",
    "Substituting into the second equation yields\n",
    "$$(2ax+3bx^2)\\dot{x} = -(a x^2 + b x^3) + x^2$$\n",
    "\n",
    "From the first equation $\\dot{x} = kxy = kx (a x^2 + b x^3)$\n",
    "so this becomes\n",
    "\n",
    "$$(2ax+3bx^2) k x (a x^2 + b x^3) = -(a x^2 + b x^3) + x^2$$\n",
    "\n",
    "Comparing like terms, $a=1$ and $b = 0$, so $y = x^2$. \n",
    "\n",
    "Substituting $y = x^2$ into the first equation\n",
    "$$\\dot{x} = k x y = k x^3+\\cdots$$\n",
    "So the fixed point is attractive when $k<0$ and repelling when $k>0$.\n"
   ]
  },
  {
   "cell_type": "markdown",
   "metadata": {},
   "source": [
    "#### Example 2.21\n",
    "\n",
    "Simplify \n",
    "$$p' = -\\mu p - \\frac{1}{2}(\\sigma+k)q+\\frac{3}{8}\\alpha q (p^2+q^2)$$\n",
    "and\n",
    "$$q' = -\\mu q + \\frac{1}{2}(\\sigma-k)p-\\frac{3}{8}\\alpha p (p^2+q^2)$$\n",
    "\n",
    "from Example 2.19 to its normal form in the vicinity of $k = k_2 = \\sqrt{4 \\mu^2 +\\sigma^2}$. We make the substitution $k = \\hat{k}+k_2$ yielding\n",
    "\n",
    "$$p' = -\\mu p - \\frac{1}{2}(\\sigma+k_2)q-\\frac{1}{2}\\hat{k}q+ \\frac{3}{8}\\alpha q (p^2+q^2)$$\n",
    "and\n",
    "$$q' = -\\mu q + \\frac{1}{2}(\\sigma-k_2)p-\\frac{1}{2}\\hat{k}p-\\frac{3}{8}\\alpha p (p^2+q^2)$$\n",
    "\n",
    "The Jacobian matrix is given by\n",
    "$$D_{\\mathbf{x}}\\mathbf{F} = \n",
    "\\begin{bmatrix}-\\mu&-\\frac{1}{2}(\\sigma+k)\\\\\n",
    "\\frac{1}{2}(\\sigma-k)&\\mu\n",
    "\\end{bmatrix}$$\n",
    "\n",
    "This has the eigenvalues $\\lambda_1=0$ and $\\lambda_2=-2\\mu$ with the matrix of eigenvectors of the linearized matrix \n",
    "$$Z = \\begin{bmatrix}1&1\\\\-\\eta&\\eta\\end{bmatrix}$$\n",
    "where $\\eta = \\frac{2\\mu}{\\sigma+k_2}$\n",
    "\n",
    "*Note: the book now decides to call this matrix $Z$ where earlier is was called $P$.* \n",
    "\n",
    "$Z^{-1}$ is easily obtained as \n",
    "$$Z^{-1}=\\frac{1}{2}\\begin{bmatrix}1&-\\eta^{-1}\\\\1&\\eta^{-1}\\end{bmatrix}$$\n",
    "\n",
    "\n",
    "Next apply the transform\n",
    "\n",
    "$$\\begin{bmatrix}p\\\\q\\end{bmatrix} = Z\\begin{bmatrix}x\\\\y\\end{bmatrix}$$\n",
    "\n",
    "Substituting and premultiplying by $Z^{-1}$ yields\n",
    "\n",
    "\\begin{align}\n",
    "x' = &-\\frac{1}{4}\\hat{k}\\left(\\eta (y-x)-\\frac{1}{\\eta}(x+y)\\right)\\\\\n",
    "&+\\frac{3}{16}\\alpha\\left(\\eta(y-x)\\left[(x+y)^2+\\eta^2(y-x)^2\\right]\\right)\\\\\n",
    "&+ \\frac{3}{16}\\alpha\\left(\\frac{1}{\\eta}(x+y)\\left[(x+y)^2+\\eta^2(y-x)^2\\right]\\right)\n",
    "\\end{align}\n",
    "\n",
    "and\n",
    "\n",
    "\\begin{align}\n",
    "y' = &-2\\mu y-\\frac{1}{4}\\hat{k}\\left(\\eta (y-x)+\\frac{1}{\\eta}(x+y)\\right)\\\\\n",
    "&+\\frac{3}{16}\\alpha\\left(\\eta(y-x)\\left[(x+y)^2+\\eta^2(y-x)^2\\right]\\right)\\\\\n",
    "&- \\frac{3}{16}\\alpha\\left(\\frac{1}{\\eta}(x+y)\\left[(x+y)^2+\\eta^2(y-x)^2\\right]\\right)\n",
    "\\end{align}"
   ]
  },
  {
   "cell_type": "markdown",
   "metadata": {},
   "source": [
    "where $x$ can be recognized as $v_c$ and $y$ can be recognized as $v_s$ from the derivation.\n",
    "\n",
    "To determine dependence on $\\hat{k}$, we need to add it to the augmented state space. With this we add the equation \n",
    "$$\\hat{k}'=0$$\n",
    "This turns the terms $x \\hat{k}$ and $y\\hat{k}$ into nonlinear terms. \n",
    "\n",
    "\n",
    "The Jacobian of the new system of equations is\n",
    "\n",
    "$$A = \\begin{bmatrix}\n",
    "0&0&0\\\\0&-2\\mu&0\\\\0&0&0\\end{bmatrix}$$\n",
    "\n",
    "- The center eigenspace is spanned by $[1\\, 0\\, 0]^T$ and $[0\\, 0\\, 1]^T$ \n",
    "- The manifold is tangent to this space at the fixed point. \n",
    "\n",
    "In a region near the fixed point, we can represent it by\n",
    "\n",
    "$$y = h(x,\\hat{k})$$\n",
    "with\n",
    "$$h=0,\\, \\frac{\\partial h}{\\partial x} = 0,\\,\\text{and}\\, \\frac{\\partial h}{\\partial \\hat{k}} = 0$$\n",
    "\n",
    "The center manifold can be represented by\n",
    "\n",
    "$$y = b_1 x^2+ b_2 x^3+ b_3 x \\hat{k}$$\n",
    "\n",
    "The assumption is that $\\hat{k}$ is $O(x^2)$.\n",
    "\n",
    "Substituting into the equation for $y'$, and using \n",
    "\n",
    "$$y'=D_x h(x,\\hat{k})x' + D_{\\hat{k}} h(x,\\hat{k})\\hat{k}'$$\n",
    "\n",
    "which simplifies to \n",
    "\n",
    "$$y'=D_x h(x,\\hat{k})x'$$\n",
    "because $\\hat{k}' =0$ from the augmented state equation. \n",
    "\n",
    "setting $D_x h(x,\\hat{k})x'$ equal to the right hand side of the state equation in $y$, with $y = h(x)$ substituted, can be shown to be \n",
    "\n",
    "$$-2\\mu\\left(b_1 x^2+b_2 x^3+b_3 x \\hat{k}\\right)+\\frac{1}{4}x\\hat{k}\\left(\\eta+\\frac{1}{\\eta}\\right)-\\frac{3}{16}\\alpha x^3\\left(\\eta+\\frac{1}{\\eta}\\right)(1+\\eta^2)+\\cdots=0$$\n",
    "\n",
    "Comparing coefficients in $b_i$ gives\n",
    "\n",
    "$$b_1=0,\\,b_2 = -\\frac{3\\alpha}{32\\mu}\\left(\\eta+\\frac{1}{\\eta}\\right)(1+\\eta^2),\\,b_3 = \\frac{1}{8\\mu}\\left(\\eta-\\frac{1}{\\eta}\\right)$$\n",
    "\n",
    "**Homework: how was the assumption $\\hat{k} = O(x^2)$ used?**\n",
    "\n",
    "Substituting into $y=h(x)$ yields\n",
    "\n",
    "$$y = \\frac{1}{8\\mu}\\left(\\eta-\\frac{1}{\\eta}\\right) \\hat{k}x - \\frac{3\\alpha}{32\\mu}\\left(\\eta+\\frac{1}{\\eta}\\right)(1+\\eta^2)x^3+\\cdots$$\n",
    "\n",
    "Substituting into the state equation in $x$ yields\n",
    "\n",
    "$$\n",
    "x' = \\frac{1}{4}\\left(\\eta+\\frac{1}{\\eta}\\right) \\hat{k}x - \\frac{3\\alpha}{16}\\left(\\eta-\\frac{1}{\\eta}\\right)(1+\\eta^2)x^3+\\cdots\n",
    "$$\n",
    "\n",
    "and the augmented state equation is still $\\hat{k}'=0$. \n",
    "\n",
    "Recalling the definition of $\\eta = \\frac{2\\mu}{\\sigma+k_2}= \\frac{2\\mu}{\\sigma+\\sqrt{4\\mu^2+\\sigma^2}}$ yields\n",
    "$$\n",
    "x' = \\frac{\\hat{k}k_2}{4\\mu} x + \\frac{3\\alpha\\sigma}{16\\mu}\\left(1+\\frac{4\\mu^2}{(\\sigma+k_2)^2}\\right)x^3+\\cdots\n",
    "$$\n",
    "Recall the assumption that $\\hat{k}=O(x^2)$. If this is true, we are OK because the first term is of the same order as the second term. If it were bigger, we would have been in trouble with that assumption and would have had to assume $O(x)$ and carried out the more complex algebra. In fact, neglecting this assumption, and carrying out the algebra, will (should) show the same result as above. \n",
    "\n",
    "Note that this equation is the normal form of the pitchfork bifucation, where the bifurcation is supercritical when $\\alpha \\sigma<0$ and subcritical when $\\alpha \\sigma>0$.\n",
    "\n"
   ]
  },
  {
   "cell_type": "markdown",
   "metadata": {},
   "source": [
    "#### Example 2.21... we're not done yet. \n",
    "\n",
    "Now simplify the Cartesian coefficient differential equations in the vicinity of $k_1$\n",
    "\n",
    "$$p' = -\\mu p - \\frac{1}{2}(\\sigma+k_1)q-\\frac{1}{2}\\hat{k}q +\\frac{3}{8}\\alpha q (p^2+q^2)$$\n",
    "and\n",
    "$$q' = -\\mu q + \\frac{1}{2}(\\sigma-k_1)p-\\frac{1}{2}\\hat{k}q -\\frac{3}{8}\\alpha p (p^2+q^2)$$\n",
    "\n",
    "where $k_1 = 2\\mu$ and $\\hat{k} = k-k_1$\n",
    "\n",
    "The fixed points at $\\hat{k} = 0$ are given by \n",
    "\n",
    "$$(p_{10},q_{10}) = \\left(\\sqrt{\\frac{2\\sigma}{3\\alpha}},-\\sqrt{\\frac{2\\sigma}{3\\alpha}}   \\right)$$\n",
    "\n",
    "$$(p_{20},q_{20}) = \\left(-\\sqrt{\\frac{2\\sigma}{3\\alpha}},\\sqrt{\\frac{2\\sigma}{3\\alpha}}   \\right)$$\n",
    "\n",
    "where we will focus on $(p_{10},q_{10})$. \n",
    "\n",
    "Let's translate the coordinates again by using\n",
    "$$p = p_{10}+v = \\sqrt{\\frac{2\\sigma}{3\\alpha}} + v$$\n",
    "and\n",
    "$$q = q_{10}+w = -\\sqrt{\\frac{2\\sigma}{3\\alpha}} + w$$\n",
    "\n",
    "so that the fixed point is at the origin. The differential equations in $p$ and $q$ become\n",
    "\n",
    "\\begin{split}\n",
    "v' = &\\frac{1}{2}\\hat{k}\\sqrt{\\frac{2\\sigma}{3\\alpha}}-\\left(\\mu+\\frac{1}{2}\\sigma  \\right)v\n",
    "+\\left( \\frac{1}{2}\\sigma-\\mu-\\frac{1}{2}\\hat{k} \\right)w\\\\\n",
    "&-\\frac{3\\alpha}{8}\\sqrt{\\frac{2\\sigma}{3\\alpha}}\\left(v^2-2vw+3w^2   \\right)\n",
    "+\\frac{3\\alpha}{8}\\left(v^2 w +w^3\\right)\n",
    "\\end{split}\n",
    "\n",
    "and\n",
    "\n",
    "\\begin{split}\n",
    "w' &= -\\frac{1}{2}\\hat{k}\\sqrt{\\frac{2\\sigma}{3\\alpha}}-\\left(\\mu+\\frac{1}{2}\\sigma +\\frac{1}{2}\\hat{k} \\right)v\n",
    "+\\left( \\frac{1}{2}\\sigma-\\mu \\right)w\\\\\n",
    "&-\\frac{3\\alpha}{8}\\sqrt{\\frac{2\\sigma}{3\\alpha}}\\left(3v^2-2vw+w^2   \\right)\n",
    "-\\frac{3\\alpha}{8}\\left(v^3 +vw^2\\right)\n",
    "\\end{split}\n",
    "\n",
    "The Jacobian is given by (from our earlier example)\n",
    "\n",
    "$$D_{\\mathbf{x}}\\mathbf{F} = \n",
    "\\begin{bmatrix}\n",
    "-\\mu-\\frac{1}{2}\\sigma&-\\mu+\\frac{1}{2}\\sigma\\\\\n",
    "-\\mu-\\frac{1}{2}\\sigma&-\\mu+\\frac{1}{2}\\sigma\n",
    "\\end{bmatrix}\n",
    "$$\n",
    "\n",
    "with eigenvalues $\\lambda_1=0$ and $\\lambda_2 = -2\\mu$\n",
    "and corresponding eigenvectors $\\begin{bmatrix} \\eta_1\\\\ \\eta_2\\end{bmatrix}$ and $\\begin{bmatrix} 1\\\\1\\end{bmatrix}$ where $\\eta_1 = -\\mu+\\frac{1}{2}\\sigma$ and $\\eta_2 = \\mu+\\frac{1}{2}\\sigma$.\n",
    "\n",
    "Constructing the matrix $Z$\n",
    "\n",
    "$$Z = \\begin{bmatrix} \\eta_1&1\\\\\\eta_2&1\\end{bmatrix}$$\n",
    "and \n",
    "$$Z^{-1} = \\frac{1}{2\\mu}\n",
    "\\begin{bmatrix} -1 &1\\\\\\eta_2&-\\eta_2\\end{bmatrix}$$\n",
    "\n",
    "Applying \n",
    "\n",
    "$$\\begin{bmatrix}v\\\\w\\end{bmatrix} = \\begin{bmatrix} \\eta_1&1\\\\\\eta_2&1\\end{bmatrix}\n",
    "\\begin{bmatrix}x\\\\y\\end{bmatrix}$$\n",
    "\n",
    "and premultiplying the equations by $Z^{-1}$ gives\n",
    "\n",
    "\n",
    "\n",
    "\\begin{split}\n",
    "x' &= -\\frac{1}{2\\mu} \\hat{k} \\sqrt{\\frac{2\\sigma}{3\\alpha}}+\\frac{1}{4\\mu}\\hat{k}(\\eta_2-\\eta_1) x\\\\\n",
    "&+\\frac{3\\alpha}{8\\mu}\\sqrt{\\frac{2\\sigma}{3\\alpha}}(w^2-v^2)\n",
    "-\\frac{3\\alpha}{16\\mu}(v+w)(v^2+w^2)\n",
    "\\end{split}\n",
    "and\n",
    "\\begin{split}\n",
    "y' &= -2\\mu y+\\frac{1}{4\\mu} \\hat{k} \\sqrt{\\frac{2\\sigma}{3\\alpha}}(\\eta_2+\\eta_1)\n",
    "-\\frac{1}{4\\mu}\\hat{k}[\\eta_2(\\eta_2 x+y)-\\eta_1(\\eta_1 x+y)]\\\\\n",
    "&-\\frac{3\\alpha}{16\\mu}\\sqrt{\\frac{2\\sigma}{3\\alpha}}\n",
    "[\\eta_2(v^2-2vw+3w^2)-\\eta_1(3v^2-2vw+w^2)]\\\\\n",
    "&+\\frac{3\\alpha}{16\\mu}\n",
    "[\\eta_2(v^2w+w^3)+\\eta_1(v^3+w^2v)]\n",
    "\\end{split}\n",
    "\n",
    "We augment the state space with $\\hat{k}$ and the equation \n",
    "$$\\hat{k}'=0$$\n",
    "\n",
    "with the same behavior of terms $\\hat{k}x$ and $\\hat{k}y$\n",
    "\n",
    "The Jacobian matrix for the transformed space is.\n",
    "\n",
    "$$\n",
    "A = \\begin{bmatrix}\n",
    "0&0&-\\frac{1}{2\\mu}  \\sqrt{\\frac{2\\sigma}{3\\alpha}}\\\\\n",
    "0&-2\\mu& \\frac{1}{4\\mu} \\sqrt{\\frac{2\\sigma}{3\\alpha}}(\\eta_2+\\eta_1)\\\\\n",
    "0 &0&0\n",
    "\\end{bmatrix}\n",
    "$$\n",
    "\n",
    "The center manifold is in the null space (the eigenvectors corresponding to the zero eigenvalues). Clearly one is\n",
    "\n",
    "$$\\begin{bmatrix}1\\\\0\\\\0\\end{bmatrix}$$\n",
    "\n",
    "The other is obtained by solving \n",
    "\n",
    "$$\\begin{bmatrix}\n",
    "0&0&-\\frac{1}{2\\mu}  \\sqrt{\\frac{2\\sigma}{3\\alpha}}\\\\\n",
    "0&-2\\mu& \\frac{1}{4\\mu} \\sqrt{\\frac{2\\sigma}{3\\alpha}}(\\eta_2+\\eta_1)\\\\\n",
    "0 &0&0\n",
    "\\end{bmatrix}\\begin{bmatrix}0\\\\a\\\\1\\end{bmatrix}=\\begin{bmatrix}0\\\\0\\\\0\\end{bmatrix}$$\n",
    "\n",
    "The book gets a value that I don't. In fact, I don't get the same differential equations in $x'$ and $y'$. \n",
    "\n",
    "For homework, obtain the correct $x'$ and $y'$ and complete the remainder of the example. "
   ]
  },
  {
   "cell_type": "markdown",
   "metadata": {
    "input_collapsed": true
   },
   "source": [
    "## Testing below"
   ]
  },
  {
   "cell_type": "code",
   "execution_count": null,
   "metadata": {
    "collapsed": false,
    "input_collapsed": true
   },
   "outputs": [],
   "source": [
    "def deriv(x1_x2, t, mu):\n",
    "    \"\"\"Compute the time-derivative of a SDOF system.\"\"\"\n",
    "    x1, x2 = x1_x2\n",
    "    return [x2, mu -  x1**5]\n",
    "\n",
    "phase_plot(func = deriv, span = (-1.5,1.5,-1.3,1.3), max_time=1, args = (-1,));"
   ]
  },
  {
   "cell_type": "code",
   "execution_count": null,
   "metadata": {
    "collapsed": false,
    "input_collapsed": true
   },
   "outputs": [],
   "source": [
    "%run Nonlinear_Dynamics\n",
    "duff_amp_solve(alpha = -.3)"
   ]
  },
  {
   "cell_type": "raw",
   "metadata": {
    "collapsed": false,
    "input_collapsed": true
   },
   "source": [
    "help(phase_plot)"
   ]
  },
  {
   "cell_type": "code",
   "execution_count": null,
   "metadata": {
    "collapsed": true,
    "input_collapsed": true
   },
   "outputs": [],
   "source": []
  }
 ],
 "metadata": {
  "hide_input": true,
  "kernelspec": {
   "display_name": "Python 3",
   "language": "python",
   "name": "python3"
  },
  "language_info": {
   "codemirror_mode": {
    "name": "ipython",
    "version": 3
   },
   "file_extension": ".py",
   "mimetype": "text/x-python",
   "name": "python",
   "nbconvert_exporter": "python",
   "pygments_lexer": "ipython3",
   "version": "3.4.3"
  },
  "latex_envs": {
   "bibliofile": "biblio.bib",
   "cite_by": "apalike",
   "current_citInitial": 1,
   "eqLabelWithNumbers": true,
   "eqNumInitial": 0
  }
 },
 "nbformat": 4,
 "nbformat_minor": 0
}
