{
 "cells": [
  {
   "cell_type": "markdown",
   "metadata": {},
   "source": [
    "# ME 7160: Nonlinear Dynamics and Vibration Homework 1\n",
    "\n",
    "\n",
    "Solve the following differential equations and plot their solutions\n",
    "for sufficient time to assure an understanding of their long-term\n",
    "behavior. They plots also shouldn't be unreasonably long. A plot that\n",
    "goes too long shows you needed way too much information to understand\n",
    "the trend. This will require judgement and multiple plots on screen to\n",
    "obtain good settings. Print and turn in only a final plot that illustrates the behaviors. \n",
    "\n",
    "1. Solve the following for $x(t)$. Plot the solution, labelling\n",
    "   axes, for sufficient duration to show the salient\n",
    "   features. Identify, as appropriate, the damping ratio, time\n",
    "   constant, settling time, and natural frequency. Use\n",
    "  1. $\\dot{x}+x=0$, $x_0=5$\n",
    "  2. $10\\ddot{x}+1\\dot{x}+100x=0$, $x_0=5, \\dot{x}_0=2$\n",
    "  3. $\\dot{x}+10x=2$, $x_0=1$\n",
    "  4. $10\\ddot{x}+2\\dot{x}+100x=200$, $x_0=0, \\dot{x}_0=0$\n",
    "2. Plot the free response, labelling\n",
    "   axes, for sufficient duration to show the salient\n",
    "   features. Plot the roots on the complex plane. You may label this\n",
    "   by hand. For each system below, determine whether the system is stable, unstable, or critically\n",
    "   stable.  If the system is unstable, identify the type of instability\n",
    " 1. $\\dot{x}+10x=0$\n",
    " 2. $\\dot{x}-10x=0$\n",
    " 3. $-\\dot{x}-10x=0$\n",
    " 4. $-\\dot{x}+10x=0$\n",
    " 5. $1\\ddot{x}-1\\dot{x}+100x=0$\n",
    " 6. $1\\ddot{x}+1\\dot{x}-100x=0$\n",
    " 7. $1\\ddot{x}-1\\dot{x}-100x=0$\n",
    "3. Plot the phase diagrams ($\\dot{x}$ versus $x$) for the\n",
    "   following system/s and identify stability, linearity, equilibrium\n",
    "   points (and their stability qualities).\n",
    "  1. $\\dot{x}+x=0$\n",
    "  2. $10\\ddot{x}+1\\dot{x}+100x=0$\n",
    "  3. $\\dot{x}+x-0.5 x^3=0$      \n",
    "4. Plot the phase diagram for the following system/s for a range of\n",
    "   parameters (the greek characters). Discuss how changing the\n",
    "   paramters influence the behavior  of the system and the stability\n",
    "   properties of the system.\n",
    "\n",
    "   $$\\ddot{x}=-\\mu(x^2-1)\\dot{x}-x$$\n",
    "\n",
    "   \n",
    "      \n",
    "\n",
    "   \n",
    "\n",
    "\n"
   ]
  },
  {
   "cell_type": "code",
   "execution_count": null,
   "metadata": {
    "collapsed": true
   },
   "outputs": [],
   "source": []
  }
 ],
 "metadata": {
  "kernelspec": {
   "display_name": "Python 3",
   "language": "python",
   "name": "python3"
  },
  "language_info": {
   "codemirror_mode": {
    "name": "ipython",
    "version": 3
   },
   "file_extension": ".py",
   "mimetype": "text/x-python",
   "name": "python",
   "nbconvert_exporter": "python",
   "pygments_lexer": "ipython3",
   "version": "3.4.3"
  }
 },
 "nbformat": 4,
 "nbformat_minor": 0
}
