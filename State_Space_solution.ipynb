{
 "cells": [
  {
   "cell_type": "markdown",
   "metadata": {},
   "source": [
    "# Solving State equations\n",
    "\n",
    "Consider  the state space equation\n",
    "\n",
    "$$\\dot{\\mathbf{y}}= A\\mathbf{y}$$\n",
    "where \n",
    "$$\\begin{bmatrix}\n",
    "0&1\\\\-1&0\n",
    "\\end{bmatrix}\n",
    "$$\n",
    "and\n",
    "$$\\mathbf{y}_0 = \n",
    "\\begin{bmatrix}\n",
    "1\\\\\n",
    "0\n",
    "\\end{bmatrix}\n",
    "$$\n",
    "\n",
    "Find $\\mathbf{y}(t)$.\n",
    "\n",
    "A typeset version of the solution is provided at the end of the notebook. "
   ]
  },
  {
   "cell_type": "code",
   "execution_count": 1,
   "metadata": {
    "collapsed": true
   },
   "outputs": [],
   "source": [
    "import numpy as np\n",
    "from sympy import *"
   ]
  },
  {
   "cell_type": "code",
   "execution_count": 2,
   "metadata": {
    "collapsed": true
   },
   "outputs": [],
   "source": [
    "t = symbols('t', real = True)"
   ]
  },
  {
   "cell_type": "code",
   "execution_count": 3,
   "metadata": {
    "collapsed": false
   },
   "outputs": [
    {
     "name": "stdout",
     "output_type": "stream",
     "text": [
      "Matrix([[1], [0]])\n"
     ]
    }
   ],
   "source": [
    "y0 = Matrix([[1],[0]])\n",
    "print(y0)"
   ]
  },
  {
   "cell_type": "code",
   "execution_count": 4,
   "metadata": {
    "collapsed": false
   },
   "outputs": [
    {
     "name": "stdout",
     "output_type": "stream",
     "text": [
      "Matrix([[0, 1], [-1, 0]])\n"
     ]
    }
   ],
   "source": [
    "A = Matrix([[0, 1],[-1, 0]])\n",
    "print(A)"
   ]
  },
  {
   "cell_type": "code",
   "execution_count": 5,
   "metadata": {
    "collapsed": false
   },
   "outputs": [
    {
     "data": {
      "text/plain": [
       "Matrix([\n",
       "[0, 0],\n",
       "[0, 0]])"
      ]
     },
     "execution_count": 5,
     "metadata": {},
     "output_type": "execute_result"
    }
   ],
   "source": [
    "Expm = Matrix([[0, 0],[0, 0]])\n",
    "Expm"
   ]
  },
  {
   "cell_type": "code",
   "execution_count": 6,
   "metadata": {
    "collapsed": false
   },
   "outputs": [
    {
     "name": "stdout",
     "output_type": "stream",
     "text": [
      "Matrix([[I, -I], [1, 1]])\n",
      "Matrix([[-I, 0], [0, I]])\n"
     ]
    }
   ],
   "source": [
    "P, D = A.diagonalize()\n",
    "print(P)\n",
    "print(D)"
   ]
  },
  {
   "cell_type": "code",
   "execution_count": 7,
   "metadata": {
    "collapsed": false
   },
   "outputs": [
    {
     "data": {
      "text/plain": [
       "Matrix([\n",
       "[-I/2],\n",
       "[ I/2]])"
      ]
     },
     "execution_count": 7,
     "metadata": {},
     "output_type": "execute_result"
    }
   ],
   "source": [
    "v0 = P**-1*y0\n",
    "v0"
   ]
  },
  {
   "cell_type": "code",
   "execution_count": 22,
   "metadata": {
    "collapsed": false
   },
   "outputs": [
    {
     "name": "stdout",
     "output_type": "stream",
     "text": [
      "Matrix([[exp(-I*t), 0], [0, exp(I*t)]])\n"
     ]
    }
   ],
   "source": [
    "for index,value in np.ndenumerate(D):\n",
    "    #do_something( value )\n",
    "    if index[0] == index[1]:\n",
    "        Expm[index] = exp(value*t)\n",
    "    else:\n",
    "        Expm[index] = 0\n",
    "print(Expm)"
   ]
  },
  {
   "cell_type": "code",
   "execution_count": 23,
   "metadata": {
    "collapsed": false
   },
   "outputs": [
    {
     "data": {
      "text/plain": [
       "Matrix([\n",
       "[-I*exp(-I*t)/2],\n",
       "[  I*exp(I*t)/2]])"
      ]
     },
     "execution_count": 23,
     "metadata": {},
     "output_type": "execute_result"
    }
   ],
   "source": [
    "v = Expm * v0\n",
    "v"
   ]
  },
  {
   "cell_type": "code",
   "execution_count": 24,
   "metadata": {
    "collapsed": false
   },
   "outputs": [
    {
     "data": {
      "text/plain": [
       "Matrix([\n",
       "[    exp(I*t)/2 + exp(-I*t)/2],\n",
       "[I*exp(I*t)/2 - I*exp(-I*t)/2]])"
      ]
     },
     "execution_count": 24,
     "metadata": {},
     "output_type": "execute_result"
    }
   ],
   "source": [
    "y = P * v\n",
    "y"
   ]
  },
  {
   "cell_type": "code",
   "execution_count": 27,
   "metadata": {
    "collapsed": false
   },
   "outputs": [
    {
     "data": {
      "text/plain": [
       "I*sin(t) + cos(t)"
      ]
     },
     "execution_count": 27,
     "metadata": {},
     "output_type": "execute_result"
    }
   ],
   "source": [
    "exp(sqrt(-1) * t).expand(complex=True)"
   ]
  },
  {
   "cell_type": "code",
   "execution_count": 36,
   "metadata": {
    "collapsed": false
   },
   "outputs": [
    {
     "data": {
      "text/plain": [
       "-sin(t)"
      ]
     },
     "execution_count": 36,
     "metadata": {},
     "output_type": "execute_result"
    }
   ],
   "source": [
    "y[1].simplify()"
   ]
  },
  {
   "cell_type": "code",
   "execution_count": 37,
   "metadata": {
    "collapsed": true
   },
   "outputs": [],
   "source": [
    "y.simplify()\n",
    "y"
   ]
  },
  {
   "cell_type": "markdown",
   "metadata": {},
   "source": [
    "We solve the mass spring system response in the state space. The initial conditions are defined as $x_0 = 1.0$ and $\\dot{x} = 0.0$. Mass ($m$), damping ($c$), and stiffness ($k$) are selected as $1.0$, $0.0$, and $1.0$\n",
    "\n",
    "\\begin{equation}\n",
    "\tm\\ddot{x} + c\\dot{x} + kx = 0 \\\\\n",
    "\\end{equation}\n",
    "\n",
    "The state variables are defined as\t\n",
    "\n",
    "\\begin{equation}\n",
    "\\begin{aligned}\n",
    "\t\\dot{x}_1 &= x_2 \\\\\n",
    "\t\\dot{x}_2 &= -\\frac{c}{m} x_2 - \\frac{k}{m} x_1\n",
    "\\end{aligned}\n",
    "\\end{equation}\n",
    "\n",
    "The general state matrix ($A$) can be written as\n",
    "\n",
    "\\begin{equation}\n",
    "\\begin{bmatrix}\n",
    "\t\\dot{x}_1 \\\\\n",
    "\t\\dot{x}_2\n",
    "\\end{bmatrix} = \n",
    "\\underbrace{\\begin{bmatrix}\n",
    "\t\t\t\t0 &1 \\\\\n",
    "\t\t\t\t-\\dfrac{k}{m} & -\\dfrac{c}{m}\n",
    "\t\t\t\\end{bmatrix}}_\\text{Jacobian Matrix}\n",
    "\\begin{bmatrix}\n",
    "\tx_1 \\\\\n",
    "\tx_2\n",
    "\\end{bmatrix}\n",
    "\\end{equation}\n",
    "\n",
    "For this problem the Jacobian matrix is\n",
    "\n",
    "\\begin{equation}\n",
    "\tA = \n",
    "\t\\begin{bmatrix}\n",
    "\t0 &1 \\\\\n",
    "\t-1 &0\n",
    "\t\\end{bmatrix}\n",
    "\\end{equation}\n",
    "\n",
    "The first step is to calculate the eigenvalues and eigenvectors of state matrix $A$. The eigenvalues are calculated as follows\n",
    "\n",
    "\\begin{equation}\n",
    "\\begin{aligned}\n",
    "\t\\big| A - \\lambda I \\big| &= 0 \\rightarrow \\\\\n",
    "\t\\left|\\begin{bmatrix}\n",
    "\t\t-\\lambda &1 \\\\\n",
    "\t\t-1 &-\\lambda\n",
    "\t\\end{bmatrix}\\right| &= 0 \\rightarrow \\\\\n",
    "\t\\lambda^2 + 1 &= 0 \\rightarrow \\lambda = \\pm i\n",
    "\\end{aligned}\n",
    "\\end{equation}\n",
    "\n",
    "The eigenvalues can be put into a matrix $D$ as follows\n",
    "\n",
    "\\begin{equation}\n",
    "\tD =\n",
    "\t\\begin{bmatrix}\n",
    "\t\\lambda_1 &0 \\\\\n",
    "\t0 &\\lambda_2\n",
    "\t\\end{bmatrix} = \n",
    "\t\\begin{bmatrix}\n",
    "\ti &0 \\\\\n",
    "\t0 &-i\n",
    "\t\\end{bmatrix}\n",
    "\\end{equation}\n",
    "\n",
    "The eigenvectors are calculated as follows\n",
    "\n",
    "\\begin{equation}\n",
    "\\begin{aligned}\n",
    "\tAX &= 0 \\rightarrow \\\\\n",
    "\t\\begin{bmatrix}\n",
    "\t-\\lambda &1 \\\\\n",
    "\t-1 &-\\lambda\n",
    "\t\\end{bmatrix}\n",
    "\t\\begin{bmatrix}\n",
    "\tx_1 \\\\\n",
    "\tx_2\n",
    "\t\\end{bmatrix} &= 0 \\rightarrow\n",
    "\t\\begin{cases}\n",
    "\t\tx_1 = 1 , x_2 = i, \\quad &\\text{if } \\lambda = i \\\\\n",
    "\t\tx_1 = 1 , x_2 = -i, &\\text{if } \\lambda = -i \\\\\n",
    "\t\\end{cases}\n",
    "\\end{aligned}\n",
    "\\end{equation}\n",
    "\n",
    "The eigenvector matrix can be written as\n",
    "\n",
    "\\begin{equation}\n",
    "\tP = \n",
    "\t\\begin{bmatrix}\n",
    "\t1 &1 \\\\\n",
    "\ti & -i\n",
    "\t\\end{bmatrix}\n",
    "\\end{equation}\n",
    "\n",
    "The initial conditions can be calculated as\n",
    "\n",
    "\\begin{equation}\n",
    "\t\\begin{bmatrix}\n",
    "\t1 \\\\\n",
    "\t0\n",
    "\t\\end{bmatrix} =\n",
    "\t\\begin{bmatrix}\n",
    "\t1 &1 \\\\\n",
    "\ti &-i\n",
    "\t\\end{bmatrix}\n",
    "\t\\begin{bmatrix}\n",
    "\tv_{01} \\\\\n",
    "\tv_{02}\n",
    "\t\\end{bmatrix} \\rightarrow\n",
    "\t\\begin{bmatrix}\n",
    "\tv_{01} \\\\\n",
    "\tv_{02}\n",
    "\t\\end{bmatrix} = \n",
    "\t\\begin{bmatrix}\n",
    "\t1/2 \\\\\n",
    "\t1/2\n",
    "\t\\end{bmatrix}\n",
    "\\end{equation}\n",
    "\n",
    "The final solution can be written as\n",
    "\n",
    "\\begin{equation}\n",
    "\\begin{aligned}\n",
    "\t\\mathbf{X} &= P\\left(e^{(t-t_0)D} \\mathbf{v}_0\\right) \\rightarrow \\\\\n",
    "\t\\begin{bmatrix}\n",
    "\tx_1 \\\\\n",
    "\tx_2\n",
    "\t\\end{bmatrix} &= \n",
    "\t\\begin{bmatrix}\n",
    "\t1 &1 \\\\\n",
    "\ti & -i\n",
    "\t\\end{bmatrix}\n",
    "\t\\left(\n",
    "\t\\begin{bmatrix}\n",
    "\te^{(t - t_0)i} &0 \\\\\n",
    "\t0 & e^{-(t - t_0)i}\n",
    "\t\\end{bmatrix}\n",
    "\t\\begin{bmatrix}\n",
    "\t1/2 \\\\\n",
    "\t1/2\n",
    "\t\\end{bmatrix}\n",
    "\t\\right) \\rightarrow \\\\\n",
    "\t\\begin{bmatrix}\n",
    "\tx_1 \\\\\n",
    "\tx_2\n",
    "\t\\end{bmatrix} &= \n",
    "\t\\begin{bmatrix}\n",
    "\t\\dfrac{1}{2} \\left( e^{(t - t_0)i} + e^{-(t - t_0)i} \\right) \\\\\n",
    "\t\\dfrac{i}{2} \\left( e^{(t - t_0)i} - e^{-(t - t_0)i} \\right)\n",
    "\t\\end{bmatrix} = \n",
    "\t\\begin{bmatrix}\n",
    "\t\\cos(t - t_0) \\\\\n",
    "\t-\\sin(t - t_0)\n",
    "\t\\end{bmatrix}\n",
    "\\end{aligned}\n",
    "\\end{equation}\n"
   ]
  },
  {
   "cell_type": "code",
   "execution_count": null,
   "metadata": {
    "collapsed": true
   },
   "outputs": [],
   "source": []
  }
 ],
 "metadata": {
  "kernelspec": {
   "display_name": "Python 3",
   "language": "python",
   "name": "python3"
  },
  "language_info": {
   "codemirror_mode": {
    "name": "ipython",
    "version": 3
   },
   "file_extension": ".py",
   "mimetype": "text/x-python",
   "name": "python",
   "nbconvert_exporter": "python",
   "pygments_lexer": "ipython3",
   "version": "3.4.3"
  }
 },
 "nbformat": 4,
 "nbformat_minor": 0
}
